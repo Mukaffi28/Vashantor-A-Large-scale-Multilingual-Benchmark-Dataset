{
 "cells": [
  {
   "cell_type": "code",
   "execution_count": null,
   "metadata": {
    "id": "xccHTUA4drLj"
   },
   "outputs": [],
   "source": [
    "import pandas as pd\n",
    "import numpy as np\n",
    "import matplotlib.pyplot as plt\n",
    "from wordcloud import WordCloud\n",
    "from collections import Counter\n",
    "import nltk\n",
    "from nltk.util import ngrams"
   ]
  },
  {
   "cell_type": "code",
   "execution_count": null,
   "metadata": {
    "colab": {
     "base_uri": "https://localhost:8080/"
    },
    "id": "PzSkC1vPe4Z6",
    "outputId": "9391b392-3d74-4b0e-db62-b9e94678ccbe"
   },
   "outputs": [],
   "source": [
    "from google.colab import drive\n",
    "drive.mount('/content/drive')"
   ]
  },
  {
   "cell_type": "code",
   "execution_count": null,
   "metadata": {
    "id": "7PpZs5YwftMW"
   },
   "outputs": [],
   "source": [
    "train_data = pd.read_csv(\"/content/Sylhet_Translation_Main_Train_Dataset.csv\")\n",
    "test_data = pd.read_csv(\"/content/Sylhet_Translation_Main_Test_Dataset.csv\")\n",
    "validation_data = pd.read_csv(\"/content/Sylhet_Translation_Main_Validation_Dataset.csv\")"
   ]
  },
  {
   "cell_type": "code",
   "execution_count": null,
   "metadata": {
    "colab": {
     "base_uri": "https://localhost:8080/",
     "height": 206
    },
    "id": "OejQOMqbgXBo",
    "outputId": "87a02d3c-437c-4f6e-8eae-6a03efb9a884"
   },
   "outputs": [],
   "source": [
    "train_data.head(5)"
   ]
  },
  {
   "cell_type": "code",
   "execution_count": null,
   "metadata": {
    "colab": {
     "base_uri": "https://localhost:8080/",
     "height": 206
    },
    "id": "fL690gKN1fo5",
    "outputId": "f99c5401-ae7e-45f6-f174-f75a96affcf6"
   },
   "outputs": [],
   "source": [
    "train_data.tail(5)"
   ]
  },
  {
   "cell_type": "code",
   "execution_count": null,
   "metadata": {
    "colab": {
     "base_uri": "https://localhost:8080/",
     "height": 206
    },
    "id": "8sBumGdygZoQ",
    "outputId": "b8bc1edf-d113-438f-ba7c-91dd43ca2321"
   },
   "outputs": [],
   "source": [
    "test_data.head(5)"
   ]
  },
  {
   "cell_type": "code",
   "execution_count": null,
   "metadata": {
    "colab": {
     "base_uri": "https://localhost:8080/",
     "height": 206
    },
    "id": "WpvaSQMc1kJi",
    "outputId": "4f06f0d8-df64-4e49-ff83-b150fdebe8f2"
   },
   "outputs": [],
   "source": [
    "test_data.tail(5)"
   ]
  },
  {
   "cell_type": "code",
   "execution_count": null,
   "metadata": {
    "colab": {
     "base_uri": "https://localhost:8080/",
     "height": 206
    },
    "id": "xjJX-qYBgbOB",
    "outputId": "c002c6df-c793-4c9c-887d-2f66e69525d3"
   },
   "outputs": [],
   "source": [
    "validation_data.head(5)"
   ]
  },
  {
   "cell_type": "code",
   "execution_count": null,
   "metadata": {
    "colab": {
     "base_uri": "https://localhost:8080/",
     "height": 206
    },
    "id": "V0-WYx7S1ptc",
    "outputId": "793053f6-62f2-4b4b-bea9-93055c98da02"
   },
   "outputs": [],
   "source": [
    "validation_data.tail(5)"
   ]
  },
  {
   "cell_type": "markdown",
   "metadata": {
    "id": "gDWxgpHv3pIg"
   },
   "source": [
    "# **Define a function to visualize text length distribution**"
   ]
  },
  {
   "cell_type": "code",
   "execution_count": null,
   "metadata": {
    "id": "WdLPa-Wl2Nrd"
   },
   "outputs": [],
   "source": [
    "import matplotlib.pyplot as plt\n",
    "from matplotlib.font_manager import FontProperties\n",
    "\n",
    "def visualize_text_length(data, title):\n",
    "    # Calculate text length for each entry in the 'bangla_speech' and 'sylhet_bangla_speech' columns and store the results in new columns\n",
    "    data['bangla_speech_text_length'] = data['bangla_speech'].apply(len)\n",
    "    data['sylhet_bangla_speech_text_length'] = data['sylhet_bangla_speech'].apply(len)\n",
    "\n",
    "    # Create a figure with a larger size\n",
    "    plt.figure(figsize=(8, 4))\n",
    "\n",
    "    # Define a custom font with a nice appearance\n",
    "    custom_font = FontProperties(family='serif', style='normal', size=14, weight='bold')\n",
    "\n",
    "    # First subplot for 'Bangla Speech' text length distribution\n",
    "    plt.subplot(1, 2, 1)\n",
    "    plt.hist(data['bangla_speech_text_length'], bins=40, color='lightblue', edgecolor='black', alpha=0.7, label='Bangla Speech')\n",
    "    plt.grid(linestyle='--', alpha=0.6)\n",
    "    plt.xlabel(\"Bangla Text Length\", fontsize=10, fontproperties=custom_font, color='black')\n",
    "    plt.ylabel(\"Frequency\", fontsize=10, fontproperties=custom_font, color='black')\n",
    "\n",
    "    # Second subplot for 'Sylhet Bangla Speech' text length distribution\n",
    "    plt.subplot(1, 2, 2)\n",
    "    plt.hist(data['sylhet_bangla_speech_text_length'], bins=40, color='lightcoral', edgecolor='black', alpha=0.7, label='Sylhet Bangla Speech')\n",
    "    plt.grid(linestyle='--', alpha=0.6)\n",
    "    plt.xlabel(\"Sylhet Text Length\", fontsize=10, fontproperties=custom_font, color='black')\n",
    "    plt.ylabel(\"Frequency\", fontsize=10, fontproperties=custom_font, color='black')\n",
    "\n",
    "    # Set a single title for the entire figure\n",
    "    plt.suptitle(f'Text Length Distribution for {title}', fontsize=12, fontproperties=custom_font, color='black')\n",
    "    # Adjust the layout for subplots\n",
    "    plt.tight_layout()\n",
    "\n",
    "    # Show the plot\n",
    "    plt.show()\n",
    "\n"
   ]
  },
  {
   "cell_type": "markdown",
   "metadata": {
    "id": "-tqrHFFe8EMV"
   },
   "source": [
    "# **Visualize text length distribution for each dataset**"
   ]
  },
  {
   "cell_type": "code",
   "execution_count": null,
   "metadata": {
    "colab": {
     "base_uri": "https://localhost:8080/",
     "height": 413
    },
    "id": "Bx5hU6aY7-qv",
    "outputId": "4c4a6a25-fbf9-4307-9583-b6acd8f63eb6"
   },
   "outputs": [],
   "source": [
    "visualize_text_length(train_data, 'Training Dataset')"
   ]
  },
  {
   "cell_type": "code",
   "execution_count": null,
   "metadata": {
    "colab": {
     "base_uri": "https://localhost:8080/",
     "height": 413
    },
    "id": "HFvkWqZx7-zM",
    "outputId": "8489a3fe-60dc-45c9-83fb-9c806488aead"
   },
   "outputs": [],
   "source": [
    "visualize_text_length(test_data , 'Test Dataset')"
   ]
  },
  {
   "cell_type": "code",
   "execution_count": null,
   "metadata": {
    "colab": {
     "base_uri": "https://localhost:8080/",
     "height": 413
    },
    "id": "dwgW3LH87-6G",
    "outputId": "65b39264-5a29-471d-b37b-453e7ed9a921"
   },
   "outputs": [],
   "source": [
    "visualize_text_length(validation_data, 'Validation Dataset')"
   ]
  },
  {
   "cell_type": "markdown",
   "metadata": {
    "id": "0mquNo4Yl7w2"
   },
   "source": [
    "# **Define a function to visualize word count distribution**"
   ]
  },
  {
   "cell_type": "code",
   "execution_count": null,
   "metadata": {
    "id": "okr7Xs-zjdNQ"
   },
   "outputs": [],
   "source": [
    "import matplotlib.pyplot as plt\n",
    "from matplotlib.font_manager import FontProperties\n",
    "\n",
    "def visualize_word_count(data, title):\n",
    "    # calculate the word count for each entry in the 'bangla_speech' and 'sylhet_bangla_speech' columns and store the results in new columns\n",
    "    data['bangla_speech_word_count'] = data['bangla_speech'].apply(lambda x: len(str(x).split()))\n",
    "    data['sylhet_bangla_speech_word_count'] = data['sylhet_bangla_speech'].apply(lambda x: len(str(x).split()))\n",
    "\n",
    "    # Create a figure with a larger size\n",
    "    plt.figure(figsize=(8, 4))\n",
    "\n",
    "    # Define a custom font with a nice appearance\n",
    "    custom_font = FontProperties(family='serif', style='normal', size=14, weight='bold')\n",
    "\n",
    "    # First subplot for 'Bangla Speech' word count distribution\n",
    "    plt.subplot(1, 2, 1)\n",
    "    plt.hist(data['bangla_speech_text_length'], bins=40, color='lightgreen', edgecolor='black', alpha=0.7, label='Bangla Speech')\n",
    "    plt.grid(linestyle='--', alpha=0.6)\n",
    "    plt.xlabel(\"Word Count\", fontsize=10, fontproperties=custom_font, color='black')\n",
    "    plt.ylabel(\"Frequency\", fontsize=10, fontproperties=custom_font, color='black')\n",
    "\n",
    "    # Second subplot for 'Sylhet Bangla Speech' text length distribution\n",
    "    plt.subplot(1, 2, 2)\n",
    "    plt.hist(data['sylhet_bangla_speech_text_length'], bins=40, color='lightgoldenrodyellow', edgecolor='black', alpha=0.7, label='Sylhet Bangla Speech')\n",
    "    plt.grid(linestyle='--', alpha=0.6)\n",
    "    plt.xlabel(\"Sylhet Word Count\", fontsize=10, fontproperties=custom_font, color='black')\n",
    "    plt.ylabel(\"Frequency\", fontsize=10, fontproperties=custom_font, color='black')\n",
    "\n",
    "\n",
    "    # Set a single title for the entire figure\n",
    "    plt.suptitle(f'Word Count Distribution for {title}', fontsize=12, fontproperties=custom_font, color='black')\n",
    "    # Adjust the layout for subplots\n",
    "    plt.tight_layout()\n",
    "\n",
    "    # Show the plot\n",
    "    plt.show()\n"
   ]
  },
  {
   "cell_type": "markdown",
   "metadata": {
    "id": "w6C8CsNz-Xcr"
   },
   "source": [
    "# **Visualize word count distribution for each dataset**"
   ]
  },
  {
   "cell_type": "code",
   "execution_count": null,
   "metadata": {
    "colab": {
     "base_uri": "https://localhost:8080/",
     "height": 413
    },
    "id": "XH3DCEX6-Wol",
    "outputId": "aedb21a2-0aa6-4e34-fbab-c34319a76691"
   },
   "outputs": [],
   "source": [
    "visualize_word_count(train_data , 'Training Dataset')"
   ]
  },
  {
   "cell_type": "code",
   "execution_count": null,
   "metadata": {
    "colab": {
     "base_uri": "https://localhost:8080/",
     "height": 413
    },
    "id": "ZUusfeBp-bpu",
    "outputId": "9f768681-f0b9-44e8-fae4-8b038a8e46af"
   },
   "outputs": [],
   "source": [
    "visualize_word_count(test_data , 'Test Dataset')"
   ]
  },
  {
   "cell_type": "code",
   "execution_count": null,
   "metadata": {
    "colab": {
     "base_uri": "https://localhost:8080/",
     "height": 413
    },
    "id": "F2z-oySH-bvU",
    "outputId": "322182dc-0951-4f4e-9c1d-059f6150d473"
   },
   "outputs": [],
   "source": [
    "visualize_word_count(validation_data, 'Validation Dataset')"
   ]
  },
  {
   "cell_type": "markdown",
   "metadata": {
    "id": "OFft39z4p-HX"
   },
   "source": [
    "# **Define a function to create a word cloud**"
   ]
  },
  {
   "cell_type": "code",
   "execution_count": null,
   "metadata": {
    "id": "9CNPd5fZD6Im"
   },
   "outputs": [],
   "source": [
    "from wordcloud import WordCloud\n",
    "\n",
    "def create_wordcloud(data, column, title):\n",
    "    # Specify a Bangla-supported font, such as \"Siyam Rupali\"\n",
    "    font_path = \"/content/drive/MyDrive/Siyam Rupali Regular.ttf\"\n",
    "\n",
    "\n",
    "    #This setting disables the detection of collocations (multi-word phrases) to focus on individual words.\n",
    "    wordcloud = WordCloud(width=800, height=400, background_color='black', font_path=font_path, colormap='viridis', collocations=False).generate(' '.join(data[column]))\n",
    "\n",
    "    plt.figure(figsize=(8, 4))\n",
    "    plt.imshow(wordcloud, interpolation='bilinear')\n",
    "    plt.title(f'Word Cloud for {column} in {title}', fontsize=16, color='white')\n",
    "    plt.axis('off')\n",
    "    plt.show()\n"
   ]
  },
  {
   "cell_type": "code",
   "execution_count": null,
   "metadata": {
    "colab": {
     "base_uri": "https://localhost:8080/",
     "height": 369
    },
    "id": "FzY2tnJFDKyK",
    "outputId": "4c1b14a8-39a2-4a3c-df49-3a091d183829"
   },
   "outputs": [],
   "source": [
    "create_wordcloud(train_data, 'bangla_speech', 'Training Set')"
   ]
  },
  {
   "cell_type": "code",
   "execution_count": null,
   "metadata": {
    "colab": {
     "base_uri": "https://localhost:8080/",
     "height": 369
    },
    "id": "ZuSWE04tC0_g",
    "outputId": "850a1282-479c-46ea-8414-dde7678f96bf"
   },
   "outputs": [],
   "source": [
    "create_wordcloud(test_data, 'bangla_speech', 'Test Set')\n"
   ]
  },
  {
   "cell_type": "code",
   "execution_count": null,
   "metadata": {
    "colab": {
     "base_uri": "https://localhost:8080/",
     "height": 369
    },
    "id": "UYSV1QBjC1OI",
    "outputId": "f4653854-ce78-4741-b948-2999c7bf71fc"
   },
   "outputs": [],
   "source": [
    "create_wordcloud(validation_data, 'bangla_speech', 'Validation Set')"
   ]
  },
  {
   "cell_type": "code",
   "execution_count": null,
   "metadata": {
    "colab": {
     "base_uri": "https://localhost:8080/",
     "height": 369
    },
    "id": "jg2Me00IAfQ-",
    "outputId": "23d095e3-6d08-464f-c2a7-db16eb90b808"
   },
   "outputs": [],
   "source": [
    "create_wordcloud(train_data, 'sylhet_bangla_speech', 'Training Set')"
   ]
  },
  {
   "cell_type": "code",
   "execution_count": null,
   "metadata": {
    "colab": {
     "base_uri": "https://localhost:8080/",
     "height": 369
    },
    "id": "oZHqhOSrC48B",
    "outputId": "0ab4821b-c3bd-47d3-8331-087fc2166886"
   },
   "outputs": [],
   "source": [
    "create_wordcloud(test_data, 'sylhet_bangla_speech', 'Test Set')"
   ]
  },
  {
   "cell_type": "code",
   "execution_count": null,
   "metadata": {
    "colab": {
     "base_uri": "https://localhost:8080/",
     "height": 369
    },
    "id": "RRNrYKazC5Ba",
    "outputId": "d26853ca-e982-4ddc-abe0-90eb50e44f2c"
   },
   "outputs": [],
   "source": [
    "create_wordcloud(validation_data, 'sylhet_bangla_speech', 'Validation Set')"
   ]
  },
  {
   "cell_type": "markdown",
   "metadata": {
    "id": "GBwh9OC2w91Z"
   },
   "source": [
    "# **Define a function to visualize the distribution of top n-grams**"
   ]
  },
  {
   "cell_type": "code",
   "execution_count": null,
   "metadata": {
    "id": "316qQXJjK_lZ"
   },
   "outputs": [],
   "source": [
    "import matplotlib.pyplot as plt\n",
    "from matplotlib.font_manager import FontProperties\n",
    "import nltk\n",
    "from nltk.util import ngrams\n",
    "\n",
    "# Define a custom font with the Siyam Rupali font\n",
    "custom_font = FontProperties(fname=\"/content/drive/MyDrive/Siyam Rupali Regular.ttf\")  # Replace with the path to the Siyam Rupali font file\n",
    "\n",
    "def visualize_ngrams(data, n, title):\n",
    "    # Extract words from the 'bangla_speech' and 'sylhet_bangla_speech' columns in the dataset\n",
    "    bangla_words = [word for speech in data['bangla_speech'] for word in str(speech).split()]\n",
    "    sylhet_bangla_words = [word for speech in data['sylhet_bangla_speech'] for word in str(speech).split()]\n",
    "\n",
    "    # Calculate the frequency distribution of n-grams for both Bangla and Sylhet Bangla speech\n",
    "    bangla_ngrams_freq = nltk.FreqDist(ngrams(bangla_words, n))\n",
    "    sylhet_bangla_ngrams_freq = nltk.FreqDist(ngrams(sylhet_bangla_words, n))\n",
    "\n",
    "    # Get the top n-grams\n",
    "    bangla_top_ngrams = bangla_ngrams_freq.most_common(10)\n",
    "    sylhet_bangla_top_ngrams = sylhet_bangla_ngrams_freq.most_common(10)\n",
    "\n",
    "    # Extract n-gram text and counts\n",
    "    bangla_top_ngram_text, bangla_top_counts = zip(*bangla_top_ngrams)\n",
    "    sylhet_bangla_top_ngram_text, sylhet_bangla_top_counts = zip(*sylhet_bangla_top_ngrams)\n",
    "\n",
    "    # Create a side-by-side bar plot to visualize the top n-grams\n",
    "    plt.figure(figsize=(10, 4))\n",
    "\n",
    "    plt.subplot(1, 2, 1)\n",
    "    # Use a uniform width of 0.8 for all bars\n",
    "    width = 0.8\n",
    "    # Generate numeric indices for the x-axis\n",
    "    x_values = range(len(bangla_top_ngram_text))\n",
    "    plt.bar(x_values, bangla_top_counts,edgecolor='black', color='skyblue', alpha=0.7)\n",
    "    plt.grid(linestyle='--', alpha=0.6)\n",
    "    plt.title(f'Top {n}-grams for Bangla Speech in {title}', fontproperties='serif',weight='bold',size=10)\n",
    "    # Set the tick labels to be the n-gram text\n",
    "    plt.xticks(x_values, bangla_top_ngram_text, rotation=45, fontproperties=custom_font)\n",
    "\n",
    "    plt.subplot(1, 2, 2)\n",
    "    x_values = range(len(sylhet_bangla_top_ngram_text))\n",
    "    plt.bar(x_values, sylhet_bangla_top_counts, edgecolor='black', color='salmon', alpha=0.7)\n",
    "    plt.grid(linestyle='--', alpha=0.6)\n",
    "    plt.title(f'Top {n}-grams for Sylhet Bangla Speech in {title}', fontproperties='serif',weight='bold',size=10)\n",
    "    plt.xticks(x_values, sylhet_bangla_top_ngram_text, rotation=45, fontproperties=custom_font)\n",
    "\n",
    "    plt.tight_layout()\n",
    "    plt.show()\n",
    "\n",
    "\n"
   ]
  },
  {
   "cell_type": "code",
   "execution_count": null,
   "metadata": {
    "colab": {
     "base_uri": "https://localhost:8080/",
     "height": 546
    },
    "id": "ISw0wJ9jLR63",
    "outputId": "20b5f939-1434-4aab-f7e4-33695d981f3a"
   },
   "outputs": [],
   "source": [
    "visualize_ngrams(train_data, 2, 'Training Dataset')"
   ]
  },
  {
   "cell_type": "code",
   "execution_count": null,
   "metadata": {
    "colab": {
     "base_uri": "https://localhost:8080/",
     "height": 476
    },
    "id": "rsEiJYS3F8ws",
    "outputId": "4be10fb9-3697-458e-cc77-c35954771a8d"
   },
   "outputs": [],
   "source": [
    "visualize_ngrams(test_data , 2,'Test Dataset')"
   ]
  },
  {
   "cell_type": "code",
   "execution_count": null,
   "metadata": {
    "colab": {
     "base_uri": "https://localhost:8080/",
     "height": 476
    },
    "id": "P1dP2mTlLyd8",
    "outputId": "5ed6bb1c-c917-4db6-e11f-b0e6c04934be"
   },
   "outputs": [],
   "source": [
    "visualize_ngrams(validation_data , 2,'Validation Dataset')"
   ]
  },
  {
   "cell_type": "code",
   "execution_count": null,
   "metadata": {
    "colab": {
     "base_uri": "https://localhost:8080/"
    },
    "id": "gJjxfCbROQF2",
    "outputId": "d247516c-e2a9-495a-9e26-70dd9e9f4e94"
   },
   "outputs": [],
   "source": [
    "!pip install transformers torch pandas"
   ]
  },
  {
   "cell_type": "code",
   "execution_count": null,
   "metadata": {
    "colab": {
     "base_uri": "https://localhost:8080/"
    },
    "id": "hjAFH_OYaGBd",
    "outputId": "72700092-d1da-4a22-b72b-1086ad65d7aa"
   },
   "outputs": [],
   "source": [
    "!pip install sacrebleu"
   ]
  },
  {
   "cell_type": "code",
   "execution_count": null,
   "metadata": {
    "colab": {
     "base_uri": "https://localhost:8080/"
    },
    "id": "QbXwlOOKaNPw",
    "outputId": "7473f7c9-c392-46f2-e78c-09bf4814da2a"
   },
   "outputs": [],
   "source": [
    "!pip install rouge_score"
   ]
  },
  {
   "cell_type": "code",
   "execution_count": null,
   "metadata": {
    "colab": {
     "base_uri": "https://localhost:8080/"
    },
    "id": "o6vnIX2PcGE5",
    "outputId": "b360c447-7e71-4501-b8ed-431cc62df1e7"
   },
   "outputs": [],
   "source": [
    "!pip install sentencepiece"
   ]
  },
  {
   "cell_type": "code",
   "execution_count": null,
   "metadata": {
    "colab": {
     "base_uri": "https://localhost:8080/"
    },
    "id": "esPlJFmQe5lk",
    "outputId": "b5d806e4-1368-4607-b4b8-cf639932800a"
   },
   "outputs": [],
   "source": [
    "!pip install transformers[sentencepiece]"
   ]
  },
  {
   "cell_type": "code",
   "execution_count": null,
   "metadata": {
    "colab": {
     "base_uri": "https://localhost:8080/"
    },
    "id": "NWIUgjZqcobw",
    "outputId": "0eecbf74-e34c-4a6c-ab4c-9533eea31510"
   },
   "outputs": [],
   "source": [
    "!transformers-cli cache clear"
   ]
  },
  {
   "cell_type": "code",
   "execution_count": null,
   "metadata": {
    "colab": {
     "base_uri": "https://localhost:8080/"
    },
    "id": "idYkCKoYLAkK",
    "outputId": "d5025e8b-26fc-4196-a261-f98c5950aa57"
   },
   "outputs": [],
   "source": [
    "!pip install transformers[torch]"
   ]
  },
  {
   "cell_type": "code",
   "execution_count": null,
   "metadata": {
    "colab": {
     "base_uri": "https://localhost:8080/"
    },
    "id": "ehyMslAiLEdi",
    "outputId": "6399094f-13d4-493b-ce99-a45afa86c7b8"
   },
   "outputs": [],
   "source": [
    "!pip install accelerate -U"
   ]
  },
  {
   "cell_type": "code",
   "execution_count": null,
   "metadata": {
    "colab": {
     "base_uri": "https://localhost:8080/"
    },
    "id": "Y3y3J7pKLHo8",
    "outputId": "8da46a0c-abb8-48fc-a726-7052def3176a"
   },
   "outputs": [],
   "source": [
    "!pip install git+https://github.com/csebuetnlp/normalizer"
   ]
  },
  {
   "cell_type": "code",
   "execution_count": null,
   "metadata": {
    "colab": {
     "base_uri": "https://localhost:8080/"
    },
    "id": "o16Pwu4BRJED",
    "outputId": "69f2a9ae-f8bc-4893-8c64-c913a5c6b52f"
   },
   "outputs": [],
   "source": [
    "!pip install --upgrade pip"
   ]
  },
  {
   "cell_type": "code",
   "execution_count": null,
   "metadata": {
    "colab": {
     "base_uri": "https://localhost:8080/"
    },
    "id": "LQyLIu29LM05",
    "outputId": "7af802ec-6d80-46ff-b283-107a66317ee2"
   },
   "outputs": [],
   "source": [
    "!pip install transformers==4.10.3"
   ]
  },
  {
   "cell_type": "code",
   "execution_count": null,
   "metadata": {
    "colab": {
     "base_uri": "https://localhost:8080/"
    },
    "id": "TWyS4kEnRi-v",
    "outputId": "bd6ad427-6225-46b5-eb0a-255a2e7257a6"
   },
   "outputs": [],
   "source": [
    "!pip install torch transformers"
   ]
  },
  {
   "cell_type": "code",
   "execution_count": null,
   "metadata": {
    "colab": {
     "base_uri": "https://localhost:8080/"
    },
    "id": "dTWQoot8LNs2",
    "outputId": "51334833-44d1-4875-b392-7d7635122289"
   },
   "outputs": [],
   "source": [
    "!pip install accelerate==0.20.3"
   ]
  },
  {
   "cell_type": "code",
   "execution_count": null,
   "metadata": {
    "id": "SY1P_thOZs0z"
   },
   "outputs": [],
   "source": [
    "import torch\n",
    "from transformers import AutoModelForSeq2SeqLM, AutoTokenizer, DataCollatorForSeq2Seq, Trainer, TrainingArguments\n",
    "from normalizer import normalize\n",
    "import pandas as pd\n",
    "import numpy as np\n",
    "import nltk\n",
    "from nltk.translate.bleu_score import corpus_bleu\n",
    "from sacrebleu import sentence_bleu\n",
    "from rouge_score import rouge_scorer\n",
    "from sklearn.model_selection import train_test_split\n",
    "import os\n",
    "\n",
    "\n",
    "device = torch.device(\"cuda\" if torch.cuda.is_available() else \"cpu\")"
   ]
  },
  {
   "cell_type": "code",
   "execution_count": null,
   "metadata": {
    "id": "_r2KXdcLOII8"
   },
   "outputs": [],
   "source": [
    "train_data = pd.read_csv(\"/content/Sylhet_Translation_Main_Train_Dataset.csv\")\n",
    "test_data = pd.read_csv(\"/content/Sylhet_Translation_Main_Test_Dataset.csv\")\n",
    "validation_data = pd.read_csv(\"/content/Sylhet_Translation_Main_Validation_Dataset.csv\")"
   ]
  },
  {
   "cell_type": "code",
   "execution_count": null,
   "metadata": {
    "colab": {
     "base_uri": "https://localhost:8080/",
     "height": 206
    },
    "id": "9N7XBlRTfUUI",
    "outputId": "799cfa0a-562c-408d-d526-83d03af2970d"
   },
   "outputs": [],
   "source": [
    "train_data.head()"
   ]
  },
  {
   "cell_type": "code",
   "execution_count": null,
   "metadata": {
    "colab": {
     "base_uri": "https://localhost:8080/",
     "height": 206
    },
    "id": "fFzjNm-5ojeH",
    "outputId": "37d1703c-7af5-4058-af7b-43a16e878d5d"
   },
   "outputs": [],
   "source": [
    "# Rename the columns to match the expected format\n",
    "train_data.rename(columns={'sylhet_bangla_speech': 'input_text', 'bangla_speech': 'labels'}, inplace=True)\n",
    "train_data.head()"
   ]
  },
  {
   "cell_type": "code",
   "execution_count": null,
   "metadata": {
    "colab": {
     "base_uri": "https://localhost:8080/",
     "height": 206
    },
    "id": "VyEST6yhfd89",
    "outputId": "c9a4f4b4-8b9b-48ea-a0f5-35a24b926bb8"
   },
   "outputs": [],
   "source": [
    "test_data.head()"
   ]
  },
  {
   "cell_type": "code",
   "execution_count": null,
   "metadata": {
    "colab": {
     "base_uri": "https://localhost:8080/",
     "height": 206
    },
    "id": "lx3Dgo0WgLSu",
    "outputId": "9d082d61-99f8-4d14-85ed-5c1fd4186faf"
   },
   "outputs": [],
   "source": [
    "# Rename the columns to match the expected format\n",
    "test_data.rename(columns={'sylhet_bangla_speech': 'input_text', 'bangla_speech'\t: 'labels'}, inplace=True)\n",
    "test_data.head()"
   ]
  },
  {
   "cell_type": "code",
   "execution_count": null,
   "metadata": {
    "colab": {
     "base_uri": "https://localhost:8080/",
     "height": 206
    },
    "id": "niWA4tjcfeDt",
    "outputId": "6f582b67-8e74-48dd-b4c9-a42b7e43f0b3"
   },
   "outputs": [],
   "source": [
    "validation_data.head()"
   ]
  },
  {
   "cell_type": "code",
   "execution_count": null,
   "metadata": {
    "colab": {
     "base_uri": "https://localhost:8080/",
     "height": 206
    },
    "id": "5md8H5UqgUkv",
    "outputId": "d29a4ec9-79be-437f-90a2-ef6c1a43ac9c"
   },
   "outputs": [],
   "source": [
    "# Rename the columns to match the expected format\n",
    "validation_data.rename(columns={'sylhet_bangla_speech': 'input_text', 'bangla_speech'\t: 'labels'}, inplace=True)\n",
    "validation_data.head()"
   ]
  },
  {
   "cell_type": "code",
   "execution_count": null,
   "metadata": {
    "colab": {
     "base_uri": "https://localhost:8080/",
     "height": 214,
     "referenced_widgets": [
      "f22fcfe9367741bdb11e247fe76053cb",
      "52e4cf12060b4a76a1f219a4aac097ce",
      "c6c2944a22894d1d8d9cc056c1b00c1c",
      "0501fb07400f4ebbaf923dd96cce2ac5",
      "3fca650d79d342db8d690f434cb27ad6",
      "33736ef1c4a644c3aef8ee95e5baa868",
      "0490c9e59770456b85fbe72a01e431fd",
      "0af0be0c12d74e94a9c9ac2774817e02",
      "928aff74a3d14fe58ae9bdb1d2f7f20f",
      "73cd9ee719ed43cd8868276e43d19ed5",
      "5e9d9aec1cfc4d3aaf5b0b519d7f4139",
      "264d608563f6466fb2f6e38694eca301",
      "816966444ad84a66b86bd85327f9d5f2",
      "37ec1e34211344538238be9cc8d77e2a",
      "8ab6658661c048a6ab481b3291bbb048",
      "60635e2ae1ff4062ab8ba496de6cac7d",
      "7e74c8b11f424a2c853742ed25a05de7",
      "7c6227646f584c5aada544caf86888d4",
      "f34462d41b594a358b20f322ddd4108f",
      "770ec9c1eb9e46a1b33c29143e6e6a2d",
      "df0e752b618b4615bc5ba3b50d3be21e",
      "cce458e9cd824519930bd325a2c6c8df",
      "f9af5dc0501647f9b608b70b925e0823",
      "206037f3a8104dc69557d5181f9e6536",
      "8ad2823346c94b19a021f16d951705dc",
      "e563029896df416681dc2b279d098f57",
      "f9f3d9973fca4b1a991053fbcad8a272",
      "4a0be399110742d9a9f093348ab9f47d",
      "d4dedf5f1d5f4e459f1ad137955393c5",
      "31865b57dbba4ba5af114cb9307aa172",
      "9bb0e0e5d8824014b83c75b7c1246051",
      "fe0ec9b9088c46f096e55ca7552a5beb",
      "0b0dafe5fa2e463b927201259db66ab5",
      "222ce6ca7bd74d808030b911b5175b87",
      "71bde98fff9f49b9b267376a25001738",
      "5f3734bfe4d84a1d881cc4213b0e8bab",
      "c59acea69889473cb2cc3e5d6e0e6815",
      "893c33b1a2524c6a90167e83aeffc7da",
      "8c19d7e9ff094dea8d482188e45fe25a",
      "2511716f6c134b218e4460506d62661b",
      "cbb64a2cd2a44690b60c661ddca5d173",
      "6715eb134e034de2997f82879f3b36af",
      "ebc4f85211a94f7abc9ecf9dbec19d82",
      "da7c1eed766b4c2da315f4fecd2bbb19",
      "a1c64b3068514bf8b069a12e9ee62e35",
      "bcc4c4b1d3894fb89b166c49f4eb917b",
      "94aabbce825d49e583d7c8f0fc9df7da",
      "324e246e09ee460bb3876a827a42ff58",
      "01d5050f15514c2eb48801fcc44ccdea",
      "36198a34d2324a5cbaae440544107685",
      "be9ec5248d6e406e8590876866a08341",
      "f961b23951b847d380d82a8ffa795bea",
      "61fa562c09c84985af2915d357148fd3",
      "74a117b9fcf943e3a5e05c41e6443ce2",
      "d19fa5dc787f499d839f38a367de08eb"
     ]
    },
    "id": "EsIxClpzOVGu",
    "outputId": "d77fecc7-0364-438d-d2b8-877113339b13"
   },
   "outputs": [],
   "source": [
    "model_name = \"csebuetnlp/banglat5\"\n",
    "model = AutoModelForSeq2SeqLM.from_pretrained(model_name)\n",
    "tokenizer = AutoTokenizer.from_pretrained(model_name, use_fast=False)"
   ]
  },
  {
   "cell_type": "code",
   "execution_count": null,
   "metadata": {
    "colab": {
     "base_uri": "https://localhost:8080/"
    },
    "id": "MzFbTqE25vQh",
    "outputId": "94758380-a1c9-4183-9b7f-c43fae01931b"
   },
   "outputs": [],
   "source": [
    "from transformers import AutoModelForSeq2SeqLM, AutoTokenizer\n",
    "\n",
    "# Save the model\n",
    "model.save_pretrained(\"/content/drive/MyDrive/movie/sylhet_model.pt\")\n",
    "\n",
    "# Save the tokenizer\n",
    "tokenizer.save_pretrained(\"/content/drive/MyDrive/movie/sylhet_tokenizer.json\")"
   ]
  },
  {
   "cell_type": "code",
   "execution_count": null,
   "metadata": {
    "id": "A_N5Dzib18PO"
   },
   "outputs": [],
   "source": [
    "from torch.utils.data import Dataset, DataLoader"
   ]
  },
  {
   "cell_type": "code",
   "execution_count": null,
   "metadata": {
    "id": "pKGRnuEh0TGb"
   },
   "outputs": [],
   "source": [
    "class Seq2SeqDataset(Dataset):\n",
    "    def __init__(self, data, tokenizer, max_length=128):\n",
    "        \"\"\"\n",
    "        Args:\n",
    "            data: A DataFrame containing 'input_text' and 'labels' columns.\n",
    "            tokenizer: A Hugging Face tokenizer.\n",
    "            max_length: Maximum sequence length.\n",
    "        \"\"\"\n",
    "        self.input_text = data['input_text'].apply(normalize).tolist()\n",
    "        self.labels = data['labels'].apply(normalize).tolist()\n",
    "        self.tokenizer = tokenizer\n",
    "        self.max_length = max_length\n",
    "\n",
    "    def __len__(self):\n",
    "        return len(self.input_text)\n",
    "\n",
    "    def __getitem__(self, idx):\n",
    "        input_text = self.input_text[idx]\n",
    "        label_text = self.labels[idx]\n",
    "\n",
    "        # Tokenize the input text\n",
    "        input_encodings = self.tokenizer(\n",
    "            input_text,\n",
    "            truncation=True,\n",
    "            padding='max_length',\n",
    "            max_length=self.max_length,\n",
    "            return_tensors='pt'\n",
    "        )\n",
    "\n",
    "        # Tokenize the label text to get its 'input_ids' and 'attention_mask'\n",
    "        label_encodings = self.tokenizer(\n",
    "            label_text,\n",
    "            truncation=True,\n",
    "            padding='max_length',\n",
    "            max_length=self.max_length,\n",
    "            return_tensors='pt'\n",
    "        )\n",
    "\n",
    "        return {\n",
    "            'input_ids': input_encodings['input_ids'].squeeze(),\n",
    "            'attention_mask': input_encodings['attention_mask'].squeeze(),\n",
    "            'labels': label_encodings['input_ids'].squeeze(),\n",
    "        }\n"
   ]
  },
  {
   "cell_type": "code",
   "execution_count": null,
   "metadata": {
    "id": "LStEDAlZ1wYg"
   },
   "outputs": [],
   "source": [
    "# Create train , test and validation datasets\n",
    "train_dataset = Seq2SeqDataset(train_data, tokenizer)\n",
    "test_dataset = Seq2SeqDataset(test_data, tokenizer)\n",
    "validation_dataset = Seq2SeqDataset(validation_data, tokenizer)\n",
    "\n",
    "# Create train , test and validation dataloaders\n",
    "train_dataloader = DataLoader(train_dataset, batch_size=16, shuffle=True)  #batch_size=32\n",
    "test_dataloader = DataLoader(test_dataset, batch_size=16) #batch_size=32\n",
    "validation_dataloader = DataLoader(validation_dataset, batch_size=16) #batch_size=32\n"
   ]
  },
  {
   "cell_type": "markdown",
   "metadata": {
    "id": "mKPOxrLV2Y4r"
   },
   "source": [
    "# **For training dataset**"
   ]
  },
  {
   "cell_type": "code",
   "execution_count": null,
   "metadata": {
    "colab": {
     "base_uri": "https://localhost:8080/"
    },
    "id": "IFSIhjlmbhjD",
    "outputId": "b0202808-9098-4199-fc45-b32f2bbcb1ad"
   },
   "outputs": [],
   "source": [
    "# Assuming you have already created the train_dataloader\n",
    "for data_point in train_dataloader:\n",
    "    input_ids = data_point['input_ids']\n",
    "    attention_mask = data_point['attention_mask']\n",
    "    labels = data_point['labels']\n",
    "\n",
    "    print(\"Input IDs:\", input_ids)\n",
    "    print(\"Attention Mask:\", attention_mask)\n",
    "    print(\"Labels:\", labels)\n"
   ]
  },
  {
   "cell_type": "markdown",
   "metadata": {
    "id": "OA4f3Os12hi6"
   },
   "source": [
    "# **For test dataset**"
   ]
  },
  {
   "cell_type": "code",
   "execution_count": null,
   "metadata": {
    "colab": {
     "base_uri": "https://localhost:8080/"
    },
    "id": "hL_Z6OEc2S5Q",
    "outputId": "05c66a19-4973-4429-8a6c-20e7680afbe7"
   },
   "outputs": [],
   "source": [
    "# Assuming you have already created the test_dataloader\n",
    "for data_point in test_dataloader:\n",
    "    input_ids = data_point['input_ids']\n",
    "    attention_mask = data_point['attention_mask']\n",
    "    labels = data_point['labels']\n",
    "\n",
    "    print(\"Input IDs:\", input_ids)\n",
    "    print(\"Attention Mask:\", attention_mask)\n",
    "    print(\"Labels:\", labels)"
   ]
  },
  {
   "cell_type": "markdown",
   "metadata": {
    "id": "7Vewrso12qdG"
   },
   "source": [
    "# **For validation dataset**"
   ]
  },
  {
   "cell_type": "code",
   "execution_count": null,
   "metadata": {
    "colab": {
     "base_uri": "https://localhost:8080/"
    },
    "id": "GRJwY9KI2TGp",
    "outputId": "4bf6ae20-43bc-48b2-c2f0-5ae28bc1f60a"
   },
   "outputs": [],
   "source": [
    "# Assuming you have already created the validation_dataloader\n",
    "for data_point in validation_dataloader:\n",
    "    input_ids = data_point['input_ids']\n",
    "    attention_mask = data_point['attention_mask']\n",
    "    labels = data_point['labels']\n",
    "\n",
    "    print(\"Input IDs:\", input_ids)\n",
    "    print(\"Attention Mask:\", attention_mask)\n",
    "    print(\"Labels:\", labels)"
   ]
  },
  {
   "cell_type": "markdown",
   "metadata": {
    "id": "gkNDot898qY4"
   },
   "source": [
    "# **from training dataset , I have done only one example decoding**"
   ]
  },
  {
   "cell_type": "code",
   "execution_count": null,
   "metadata": {
    "colab": {
     "base_uri": "https://localhost:8080/"
    },
    "id": "E7oYSMV87guP",
    "outputId": "3fecf045-d03f-4e9b-d2d4-edcf20d5c862"
   },
   "outputs": [],
   "source": [
    "# Assuming you have already created the train_dataloader with shuffle\n",
    "for data_point in train_dataloader:\n",
    "    input_ids = data_point['input_ids'][0]  # Assuming you want the first example\n",
    "    attention_mask = data_point['attention_mask'][0]\n",
    "    labels = data_point['labels'][0]\n",
    "\n",
    "    # Decode input_ids and labels\n",
    "    input_text = tokenizer.decode(input_ids, skip_special_tokens=True)\n",
    "    output_text = tokenizer.decode(labels, skip_special_tokens=True)\n",
    "\n",
    "    print(\"Input Text:\", input_text)\n",
    "    print(\"Output Text:\", output_text)\n",
    "\n",
    "    # Exit the loop after processing the first example\n",
    "    break\n"
   ]
  },
  {
   "cell_type": "markdown",
   "metadata": {
    "id": "eolxOhpl85CZ"
   },
   "source": [
    "# **from testing dataset , I have done only one example decoding**"
   ]
  },
  {
   "cell_type": "code",
   "execution_count": null,
   "metadata": {
    "colab": {
     "base_uri": "https://localhost:8080/"
    },
    "id": "-XDYMy3M8e_z",
    "outputId": "4d82f9ee-d135-4fb7-fdc1-77c41a776453"
   },
   "outputs": [],
   "source": [
    "# Assuming you have already created the test_dataloader\n",
    "for data_point in test_dataloader:\n",
    "    input_ids = data_point['input_ids'][0]  # Assuming you want the first example\n",
    "    attention_mask = data_point['attention_mask'][0]\n",
    "    labels = data_point['labels'][0]\n",
    "\n",
    "    # Decode input_ids and labels\n",
    "    input_text = tokenizer.decode(input_ids, skip_special_tokens=True)\n",
    "    output_text = tokenizer.decode(labels, skip_special_tokens=True)\n",
    "\n",
    "    print(\"Input Text:\", input_text)\n",
    "    print(\"Output Text:\", output_text)\n",
    "\n",
    "    # Exit the loop after processing the first example\n",
    "    break\n"
   ]
  },
  {
   "cell_type": "markdown",
   "metadata": {
    "id": "07ss82iB8_FU"
   },
   "source": [
    "# **from validation dataset , I have done only one example decoding**"
   ]
  },
  {
   "cell_type": "code",
   "execution_count": null,
   "metadata": {
    "colab": {
     "base_uri": "https://localhost:8080/"
    },
    "id": "owsfzR4v8fm6",
    "outputId": "d6f830a1-6e77-4a78-9aa1-0db21465be0a"
   },
   "outputs": [],
   "source": [
    "# Assuming you have already created the validation_dataloader\n",
    "for data_point in validation_dataloader:\n",
    "    input_ids = data_point['input_ids'][0]  # Assuming you want the first example\n",
    "    attention_mask = data_point['attention_mask'][0]\n",
    "    labels = data_point['labels'][0]\n",
    "\n",
    "    # Decode input_ids and labels\n",
    "    input_text = tokenizer.decode(input_ids, skip_special_tokens=True)\n",
    "    output_text = tokenizer.decode(labels, skip_special_tokens=True)\n",
    "\n",
    "    print(\"Input Text:\", input_text)\n",
    "    print(\"Output Text:\", output_text)\n",
    "\n",
    "    # Exit the loop after processing the first example\n",
    "    break\n"
   ]
  },
  {
   "cell_type": "code",
   "execution_count": null,
   "metadata": {
    "colab": {
     "base_uri": "https://localhost:8080/"
    },
    "id": "Gd87PmBkeAY2",
    "outputId": "8c2ccc15-8aa5-4463-beda-9929322d2a5f"
   },
   "outputs": [],
   "source": [
    "# Move the model to the device (CPU or GPU)\n",
    "model.to(device)"
   ]
  },
  {
   "cell_type": "code",
   "execution_count": null,
   "metadata": {
    "id": "lieCrycOdqHr"
   },
   "outputs": [],
   "source": [
    "from transformers import TrainingArguments\n",
    "from transformers import AdamW\n",
    "\n",
    "from torch.optim import AdamW\n",
    "\n",
    "# Create a custom optimizer using torch.optim.AdamW\n",
    "custom_optimizer = AdamW(\n",
    "    model.parameters(),\n",
    "    lr=1e-3,  # Learning rate\n",
    "    eps=1e-8,  # Epsilon value to prevent division by zero\n",
    "    weight_decay=0.01,  # Weight decay (L2 regularization)\n",
    ")\n",
    "\n",
    "#if you have 1,000 training examples and a batch size of 100, you would have 10 iterations in each epoch (1,000 / 100 = 10)\n",
    "'''\n",
    "This parameter determines how many small batches are accumulated before performing a weight update.\n",
    "In your code, it's set to 8, which means you'll accumulate gradients over 8 small batches before performing a weight update.\n",
    "This effectively simulates a larger batch size without requiring more GPU memory.\n",
    "So, you are updating the model's weights less frequently compared to the number of actual batches processed.\n",
    "'''\n",
    "\n",
    "\n",
    "\n",
    "'''\n",
    "Learning rate determines how quickly the model learns from the data.\n",
    "The learning rate scheduler type is set to \"cosine_with_restarts,\" which is a type of learning rate schedule.\n",
    " Warmup steps are the number of initial training steps with a smaller learning rate, and weight decay introduces L2 regularization to the optimizer.\n",
    "'''\n",
    "\n",
    "\n",
    "\n",
    "'''\n",
    "Number of Iterations per Epoch = Number of Training Samples / Batch Size\n",
    "Total Iterations = Number of Iterations per Epoch * Number of Epochs\n",
    "'''\n",
    "# Define the TrainingArguments\n",
    "training_args = TrainingArguments(\n",
    "    output_dir='/content/drive/MyDrive/movie',\n",
    "    num_train_epochs=50,\n",
    "    per_device_train_batch_size=6,\n",
    "    gradient_accumulation_steps=8,  # Accumulate gradients over 8 small batches\n",
    "    evaluation_strategy=\"steps\",\n",
    "    eval_steps=100,\n",
    "    save_total_limit=2,\n",
    "    save_steps=2000,\n",
    "    learning_rate=1e-3,\n",
    "    do_train=True,\n",
    "    do_eval=True,\n",
    "    remove_unused_columns=False,\n",
    "    push_to_hub=False,\n",
    "    report_to=\"none\",\n",
    "    load_best_model_at_end=True,\n",
    "    lr_scheduler_type=\"cosine_with_restarts\",  # Set the learning rate scheduler type\n",
    "    warmup_steps=100,  # Number of warmup steps\n",
    "    weight_decay=0.01,  # Weight decay (L2 regularization)\n",
    "    logging_dir='/content/drive/MyDrive/movie',  # Use the same directory for logs\n",
    "    logging_steps=100,  # Log every 500 steps\n",
    ")\n"
   ]
  },
  {
   "cell_type": "code",
   "execution_count": null,
   "metadata": {
    "id": "yM7jobxRCQ3C"
   },
   "outputs": [],
   "source": [
    "from transformers import DataCollatorForSeq2Seq\n",
    "\n",
    "# Create a data collator for sequence-to-sequence tasks\n",
    "data_collator = DataCollatorForSeq2Seq(\n",
    "    tokenizer=tokenizer,  # Your Hugging Face tokenizer\n",
    "    model=model,\n",
    "    padding=True,\n",
    "    max_length=128,\n",
    "    label_pad_token_id=tokenizer.pad_token_id,\n",
    ")\n"
   ]
  },
  {
   "cell_type": "code",
   "execution_count": null,
   "metadata": {
    "id": "Bc0oxhBLCRP6"
   },
   "outputs": [],
   "source": [
    "\n",
    "# Define the Trainer with the custom optimizer\n",
    "trainer = Trainer(\n",
    "    model=model,\n",
    "    args=training_args,\n",
    "    data_collator=data_collator,\n",
    "    train_dataset=train_dataset,\n",
    "    eval_dataset=validation_dataset,\n",
    "    optimizers=(custom_optimizer, None),  # Pass the custom optimizer here\n",
    ")\n"
   ]
  },
  {
   "cell_type": "markdown",
   "metadata": {
    "id": "wRbFX1xIvIuD"
   },
   "source": [
    "# **Training start here**"
   ]
  },
  {
   "cell_type": "code",
   "execution_count": null,
   "metadata": {
    "colab": {
     "base_uri": "https://localhost:8080/",
     "height": 430
    },
    "id": "FXhfpwIuYqdH",
    "outputId": "9e426d85-be00-4bce-b8d9-2a2747dd00a0"
   },
   "outputs": [],
   "source": [
    "# Fine-tune the model\n",
    "trainer.train()"
   ]
  },
  {
   "cell_type": "markdown",
   "metadata": {
    "id": "7F23E_DpvChu"
   },
   "source": [
    "# **Saving model and tokenizer**"
   ]
  },
  {
   "cell_type": "code",
   "execution_count": null,
   "metadata": {
    "colab": {
     "base_uri": "https://localhost:8080/"
    },
    "id": "HH4e0lrKVfGW",
    "outputId": "80489e4d-e229-4711-d783-b11d7b259377"
   },
   "outputs": [],
   "source": [
    "from transformers import AutoModelForSeq2SeqLM\n",
    "\n",
    "# Save the model\n",
    "model.save_pretrained(\"/content/drive/MyDrive/movie/sylhet_model.pt\")\n",
    "\n",
    "# Save the tokenizer\n",
    "tokenizer.save_pretrained(\"/content/drive/MyDrive/movie/sylhet_tokenizer.json\")\n"
   ]
  },
  {
   "cell_type": "markdown",
   "metadata": {
    "id": "mvilfm_wvMgy"
   },
   "source": [
    "# **Loading trained model and tokenizer**"
   ]
  },
  {
   "cell_type": "code",
   "execution_count": null,
   "metadata": {
    "id": "qlWR7hxDVfzG"
   },
   "outputs": [],
   "source": [
    "from transformers import AutoModelForSeq2SeqLM, AutoTokenizer\n",
    "\n",
    "# Load the saved model\n",
    "model = AutoModelForSeq2SeqLM.from_pretrained(\"/content/drive/MyDrive/movie/sylhet_model.pt\")\n",
    "\n",
    "# Load the tokenizer\n",
    "tokenizer = AutoTokenizer.from_pretrained(\"/content/drive/MyDrive/movie/sylhet_tokenizer.json\")\n"
   ]
  },
  {
   "cell_type": "code",
   "execution_count": null,
   "metadata": {
    "colab": {
     "base_uri": "https://localhost:8080/"
    },
    "id": "izuKgQ4UUgLN",
    "outputId": "1b53cc0d-bfac-4680-eeb6-97009ab6bfef"
   },
   "outputs": [],
   "source": [
    "!pip install datasets"
   ]
  },
  {
   "cell_type": "code",
   "execution_count": null,
   "metadata": {
    "colab": {
     "base_uri": "https://localhost:8080/"
    },
    "id": "YYgonbylUuHx",
    "outputId": "cb5189a8-fab2-4440-e026-2a91394a35e2"
   },
   "outputs": [],
   "source": [
    "!pip install python-Levenshtein"
   ]
  },
  {
   "cell_type": "code",
   "execution_count": null,
   "metadata": {
    "colab": {
     "base_uri": "https://localhost:8080/"
    },
    "id": "AL4RCOHgU9tA",
    "outputId": "1e1c7c10-2e9f-46d3-92f2-d3d448166af4"
   },
   "outputs": [],
   "source": [
    "!pip install jiwer"
   ]
  },
  {
   "cell_type": "code",
   "execution_count": null,
   "metadata": {
    "colab": {
     "base_uri": "https://localhost:8080/"
    },
    "id": "7ySxLtGWb8eM",
    "outputId": "5cb0c83a-f819-4e34-9b9c-55798cf45aee"
   },
   "outputs": [],
   "source": [
    "# Move the model to the device (CPU or GPU)\n",
    "model.to(device)"
   ]
  },
  {
   "cell_type": "code",
   "execution_count": null,
   "metadata": {
    "colab": {
     "base_uri": "https://localhost:8080/"
    },
    "id": "V0oB40J3jc_B",
    "outputId": "d4227f29-8933-463a-9334-5b3dae668fb5"
   },
   "outputs": [],
   "source": [
    "!pip install rouge-score\n",
    "#https://github.com/google-research/google-research/tree/master/rouge\n",
    "#https://huggingface.co/spaces/evaluate-metric/rouge [Different types of ROUGE scores]"
   ]
  },
  {
   "cell_type": "code",
   "execution_count": null,
   "metadata": {
    "colab": {
     "base_uri": "https://localhost:8080/"
    },
    "id": "EGt3awYZlEyC",
    "outputId": "7eacf4d9-682f-40c6-e9c8-c148e6786ddc"
   },
   "outputs": [],
   "source": [
    "!pip install evaluate"
   ]
  },
  {
   "cell_type": "markdown",
   "metadata": {
    "id": "T-CckuFHvsvy"
   },
   "source": [
    "# **Loading evaluation metrics**"
   ]
  },
  {
   "cell_type": "code",
   "execution_count": null,
   "metadata": {
    "colab": {
     "base_uri": "https://localhost:8080/"
    },
    "id": "tFL6okK2jKb9",
    "outputId": "35c92cb9-48c2-4f27-cfd4-0e22ce0f5011"
   },
   "outputs": [],
   "source": [
    "import torch\n",
    "import Levenshtein\n",
    "from evaluate import load\n",
    "# Define the move_to_device function\n",
    "def move_to_device(batch, device):\n",
    "    if isinstance(batch, torch.Tensor):\n",
    "        return batch.to(device)\n",
    "    elif isinstance(batch, list):\n",
    "        return [move_to_device(item, device) for item in batch]\n",
    "    elif isinstance(batch, dict):\n",
    "        return {key: move_to_device(value, device) for key, value in batch.items()}\n",
    "    else:\n",
    "        return batch  # If it's not a tensor, list, or dict, leave it as is\n",
    "\n",
    "# Load the evaluation metric for Character Error Rate (CER) and Word Error Rate (WER) and Exact Match(em)\n",
    "cer_metric = load(\"cer\")\n",
    "wer_metric = load(\"wer\")\n",
    "meteor = load('meteor')\n",
    "exact_match_metric = load(\"exact_match\")\n",
    "\n",
    "# Load BLEU and ROUGE metrics\n",
    "bleu_metric = load(\"bleu\")\n",
    "rouge_metric = load('rouge')\n",
    "\n",
    "# Initialize lists to store generated translations and references\n",
    "generated_translations = []\n",
    "references = []\n",
    "\n",
    "# Generate translations for the test dataset\n",
    "for batch in test_dataloader:\n",
    "    # Move the batch to CUDA\n",
    "    batch = move_to_device(batch, 'cuda')\n",
    "\n",
    "    input_text = batch['input_ids']  # Access the input_text using the correct key\n",
    "    labels = batch['labels']  # Access the labels using the correct key\n",
    "\n",
    "    # Generate translations\n",
    "    translation_ids = model.generate(input_text, max_length=512, num_beams=4, length_penalty=2.0, early_stopping=True)\n",
    "\n",
    "    # Move the translation_ids to CPU to decode\n",
    "    translation_ids = translation_ids.to('cpu')\n",
    "\n",
    "    generated_translation = tokenizer.batch_decode(translation_ids, skip_special_tokens=True)\n",
    "\n",
    "    generated_translations.extend(generated_translation)\n",
    "    references.extend(tokenizer.batch_decode(labels, skip_special_tokens=True))  # Decoding the label IDs\n",
    "\n",
    "# Make sure to move generated_translations back to CPU for evaluation if necessary\n",
    "generated_translations = [translation if not isinstance(translation, str) else translation for translation in generated_translations]\n",
    "\n"
   ]
  },
  {
   "cell_type": "code",
   "execution_count": null,
   "metadata": {
    "colab": {
     "base_uri": "https://localhost:8080/"
    },
    "id": "q9IzRg_2jk4I",
    "outputId": "db1fa669-0c48-412e-952e-4cadbae5f8f0"
   },
   "outputs": [],
   "source": [
    "print(\"Number of generated translations:\", len(generated_translations))\n",
    "print(\"Number of references:\", len(references))"
   ]
  },
  {
   "cell_type": "code",
   "execution_count": null,
   "metadata": {
    "colab": {
     "base_uri": "https://localhost:8080/"
    },
    "id": "DTOYr3C-oJFy",
    "outputId": "f98bf335-bd07-475d-99ed-c7cfbacdf796"
   },
   "outputs": [],
   "source": [
    "print(generated_translations)"
   ]
  },
  {
   "cell_type": "code",
   "execution_count": null,
   "metadata": {
    "colab": {
     "base_uri": "https://localhost:8080/"
    },
    "id": "RsVL6kv2oQL4",
    "outputId": "5caf86ab-ee7a-40f6-c154-e6af2a9543bb"
   },
   "outputs": [],
   "source": [
    "print(references)"
   ]
  },
  {
   "cell_type": "code",
   "execution_count": null,
   "metadata": {
    "id": "wX5HA_74qZsI"
   },
   "outputs": [],
   "source": [
    "# Calculate Character Error Rate (CER) and Word Error Rate (WER)\n",
    "results_CER = cer_metric.compute(predictions=generated_translations, references=references)\n",
    "results_WER = wer_metric.compute(predictions=generated_translations, references=references)\n",
    "\n",
    "# Calculate Exact Match (EM) and METEOR(M)\n",
    "results_em = exact_match_metric.compute(predictions=generated_translations, references=references)\n",
    "results_met = meteor.compute(predictions=generated_translations, references=references)\n",
    "\n",
    "# Calculate Bilingual Evaluation Understudy (BLEU) and Recall-Oriented Understudy for Gisting Evaluation (ROUGE)\n",
    "results_bleu = bleu_metric.compute(predictions=generated_translations, references=references)\n",
    "results_rouge = rouge_metric.compute(predictions=generated_translations, references=references)\n",
    "\n",
    "\n",
    "# Calculate Levenshtein Distance\n",
    "levenshtein_distances = [Levenshtein.distance(generated, reference) for generated, reference in zip(generated_translations, references)]\n"
   ]
  },
  {
   "cell_type": "markdown",
   "metadata": {
    "id": "Tyf8p-Ppv8ct"
   },
   "source": [
    "# **Printing every evaluation metrics**"
   ]
  },
  {
   "cell_type": "code",
   "execution_count": null,
   "metadata": {
    "colab": {
     "base_uri": "https://localhost:8080/"
    },
    "id": "Q20W2nvCsVOT",
    "outputId": "5a69d551-047b-49a6-b979-f88500a706a6"
   },
   "outputs": [],
   "source": [
    "print(results_CER)\n",
    "print(results_WER)\n",
    "print(results_em)\n",
    "print(results_met)\n",
    "print(results_bleu)\n",
    "print(results_rouge)\n",
    "print(levenshtein_distances)"
   ]
  },
  {
   "cell_type": "code",
   "execution_count": null,
   "metadata": {
    "colab": {
     "base_uri": "https://localhost:8080/"
    },
    "id": "Pteb9P9Nj_ny",
    "outputId": "729ade2f-ec3c-492d-b018-f676a80e8876"
   },
   "outputs": [],
   "source": [
    "total_correct = 0\n",
    "total_samples = len(references)\n",
    "\n",
    "for generated, reference in zip(generated_translations, references):\n",
    "    levenshtein_distance = Levenshtein.distance(generated, reference)\n",
    "    max_length = max(len(generated), len(reference))\n",
    "    accuracy = 1 - (levenshtein_distance / max_length)\n",
    "    if accuracy >= 0.8:  # Adjust the threshold as needed\n",
    "        total_correct += 1\n",
    "\n",
    "accuracy = total_correct / total_samples\n",
    "print(\"Accuracy:\", accuracy)\n"
   ]
  },
  {
   "cell_type": "markdown",
   "metadata": {
    "id": "_2if0TYAwCJg"
   },
   "source": [
    "# **Saving input text(Sylheti Language) , labels(normal bangla) and generated translations to csv**"
   ]
  },
  {
   "cell_type": "code",
   "execution_count": null,
   "metadata": {
    "id": "SQm40wAKf8t6"
   },
   "outputs": [],
   "source": [
    "import pandas as pd\n",
    "\n",
    "# Create a DataFrame to store translations\n",
    "translation_df = pd.DataFrame({\n",
    "    'input_text': test_data['input_text'],  # Assuming 'test_data' contains your test dataset\n",
    "    'labels': references,\n",
    "    'translations': generated_translations\n",
    "})\n",
    "\n",
    "# Save translations to a CSV file\n",
    "# Save translations to a CSV file\n",
    "translation_df.to_excel('/content/sample_data/sylhet_translations_BanglaT5.xlsx', index=False)\n"
   ]
  },
  {
   "cell_type": "code",
   "execution_count": null,
   "metadata": {
    "id": "xw_EV6YGbWWc"
   },
   "outputs": [],
   "source": []
  }
 ],
 "metadata": {
  "accelerator": "GPU",
  "colab": {
   "gpuType": "T4",
   "provenance": []
  },
  "kernelspec": {
   "display_name": "Python 3 (ipykernel)",
   "language": "python",
   "name": "python3"
  },
  "language_info": {
   "codemirror_mode": {
    "name": "ipython",
    "version": 3
   },
   "file_extension": ".py",
   "mimetype": "text/x-python",
   "name": "python",
   "nbconvert_exporter": "python",
   "pygments_lexer": "ipython3",
   "version": "3.8.18"
  },
  "widgets": {
   "application/vnd.jupyter.widget-state+json": {
    "01d5050f15514c2eb48801fcc44ccdea": {
     "model_module": "@jupyter-widgets/base",
     "model_module_version": "1.2.0",
     "model_name": "LayoutModel",
     "state": {
      "_model_module": "@jupyter-widgets/base",
      "_model_module_version": "1.2.0",
      "_model_name": "LayoutModel",
      "_view_count": null,
      "_view_module": "@jupyter-widgets/base",
      "_view_module_version": "1.2.0",
      "_view_name": "LayoutView",
      "align_content": null,
      "align_items": null,
      "align_self": null,
      "border": null,
      "bottom": null,
      "display": null,
      "flex": null,
      "flex_flow": null,
      "grid_area": null,
      "grid_auto_columns": null,
      "grid_auto_flow": null,
      "grid_auto_rows": null,
      "grid_column": null,
      "grid_gap": null,
      "grid_row": null,
      "grid_template_areas": null,
      "grid_template_columns": null,
      "grid_template_rows": null,
      "height": null,
      "justify_content": null,
      "justify_items": null,
      "left": null,
      "margin": null,
      "max_height": null,
      "max_width": null,
      "min_height": null,
      "min_width": null,
      "object_fit": null,
      "object_position": null,
      "order": null,
      "overflow": null,
      "overflow_x": null,
      "overflow_y": null,
      "padding": null,
      "right": null,
      "top": null,
      "visibility": null,
      "width": null
     }
    },
    "0490c9e59770456b85fbe72a01e431fd": {
     "model_module": "@jupyter-widgets/controls",
     "model_module_version": "1.5.0",
     "model_name": "DescriptionStyleModel",
     "state": {
      "_model_module": "@jupyter-widgets/controls",
      "_model_module_version": "1.5.0",
      "_model_name": "DescriptionStyleModel",
      "_view_count": null,
      "_view_module": "@jupyter-widgets/base",
      "_view_module_version": "1.2.0",
      "_view_name": "StyleView",
      "description_width": ""
     }
    },
    "0501fb07400f4ebbaf923dd96cce2ac5": {
     "model_module": "@jupyter-widgets/controls",
     "model_module_version": "1.5.0",
     "model_name": "HTMLModel",
     "state": {
      "_dom_classes": [],
      "_model_module": "@jupyter-widgets/controls",
      "_model_module_version": "1.5.0",
      "_model_name": "HTMLModel",
      "_view_count": null,
      "_view_module": "@jupyter-widgets/controls",
      "_view_module_version": "1.5.0",
      "_view_name": "HTMLView",
      "description": "",
      "description_tooltip": null,
      "layout": "IPY_MODEL_73cd9ee719ed43cd8868276e43d19ed5",
      "placeholder": "​",
      "style": "IPY_MODEL_5e9d9aec1cfc4d3aaf5b0b519d7f4139",
      "value": " 659/659 [00:00&lt;00:00, 14.0kB/s]"
     }
    },
    "0af0be0c12d74e94a9c9ac2774817e02": {
     "model_module": "@jupyter-widgets/base",
     "model_module_version": "1.2.0",
     "model_name": "LayoutModel",
     "state": {
      "_model_module": "@jupyter-widgets/base",
      "_model_module_version": "1.2.0",
      "_model_name": "LayoutModel",
      "_view_count": null,
      "_view_module": "@jupyter-widgets/base",
      "_view_module_version": "1.2.0",
      "_view_name": "LayoutView",
      "align_content": null,
      "align_items": null,
      "align_self": null,
      "border": null,
      "bottom": null,
      "display": null,
      "flex": null,
      "flex_flow": null,
      "grid_area": null,
      "grid_auto_columns": null,
      "grid_auto_flow": null,
      "grid_auto_rows": null,
      "grid_column": null,
      "grid_gap": null,
      "grid_row": null,
      "grid_template_areas": null,
      "grid_template_columns": null,
      "grid_template_rows": null,
      "height": null,
      "justify_content": null,
      "justify_items": null,
      "left": null,
      "margin": null,
      "max_height": null,
      "max_width": null,
      "min_height": null,
      "min_width": null,
      "object_fit": null,
      "object_position": null,
      "order": null,
      "overflow": null,
      "overflow_x": null,
      "overflow_y": null,
      "padding": null,
      "right": null,
      "top": null,
      "visibility": null,
      "width": null
     }
    },
    "0b0dafe5fa2e463b927201259db66ab5": {
     "model_module": "@jupyter-widgets/controls",
     "model_module_version": "1.5.0",
     "model_name": "DescriptionStyleModel",
     "state": {
      "_model_module": "@jupyter-widgets/controls",
      "_model_module_version": "1.5.0",
      "_model_name": "DescriptionStyleModel",
      "_view_count": null,
      "_view_module": "@jupyter-widgets/base",
      "_view_module_version": "1.2.0",
      "_view_name": "StyleView",
      "description_width": ""
     }
    },
    "206037f3a8104dc69557d5181f9e6536": {
     "model_module": "@jupyter-widgets/controls",
     "model_module_version": "1.5.0",
     "model_name": "HTMLModel",
     "state": {
      "_dom_classes": [],
      "_model_module": "@jupyter-widgets/controls",
      "_model_module_version": "1.5.0",
      "_model_name": "HTMLModel",
      "_view_count": null,
      "_view_module": "@jupyter-widgets/controls",
      "_view_module_version": "1.5.0",
      "_view_name": "HTMLView",
      "description": "",
      "description_tooltip": null,
      "layout": "IPY_MODEL_4a0be399110742d9a9f093348ab9f47d",
      "placeholder": "​",
      "style": "IPY_MODEL_d4dedf5f1d5f4e459f1ad137955393c5",
      "value": "Downloading (…)okenizer_config.json: 100%"
     }
    },
    "222ce6ca7bd74d808030b911b5175b87": {
     "model_module": "@jupyter-widgets/controls",
     "model_module_version": "1.5.0",
     "model_name": "HBoxModel",
     "state": {
      "_dom_classes": [],
      "_model_module": "@jupyter-widgets/controls",
      "_model_module_version": "1.5.0",
      "_model_name": "HBoxModel",
      "_view_count": null,
      "_view_module": "@jupyter-widgets/controls",
      "_view_module_version": "1.5.0",
      "_view_name": "HBoxView",
      "box_style": "",
      "children": [
       "IPY_MODEL_71bde98fff9f49b9b267376a25001738",
       "IPY_MODEL_5f3734bfe4d84a1d881cc4213b0e8bab",
       "IPY_MODEL_c59acea69889473cb2cc3e5d6e0e6815"
      ],
      "layout": "IPY_MODEL_893c33b1a2524c6a90167e83aeffc7da"
     }
    },
    "2511716f6c134b218e4460506d62661b": {
     "model_module": "@jupyter-widgets/controls",
     "model_module_version": "1.5.0",
     "model_name": "DescriptionStyleModel",
     "state": {
      "_model_module": "@jupyter-widgets/controls",
      "_model_module_version": "1.5.0",
      "_model_name": "DescriptionStyleModel",
      "_view_count": null,
      "_view_module": "@jupyter-widgets/base",
      "_view_module_version": "1.2.0",
      "_view_name": "StyleView",
      "description_width": ""
     }
    },
    "264d608563f6466fb2f6e38694eca301": {
     "model_module": "@jupyter-widgets/controls",
     "model_module_version": "1.5.0",
     "model_name": "HBoxModel",
     "state": {
      "_dom_classes": [],
      "_model_module": "@jupyter-widgets/controls",
      "_model_module_version": "1.5.0",
      "_model_name": "HBoxModel",
      "_view_count": null,
      "_view_module": "@jupyter-widgets/controls",
      "_view_module_version": "1.5.0",
      "_view_name": "HBoxView",
      "box_style": "",
      "children": [
       "IPY_MODEL_816966444ad84a66b86bd85327f9d5f2",
       "IPY_MODEL_37ec1e34211344538238be9cc8d77e2a",
       "IPY_MODEL_8ab6658661c048a6ab481b3291bbb048"
      ],
      "layout": "IPY_MODEL_60635e2ae1ff4062ab8ba496de6cac7d"
     }
    },
    "31865b57dbba4ba5af114cb9307aa172": {
     "model_module": "@jupyter-widgets/base",
     "model_module_version": "1.2.0",
     "model_name": "LayoutModel",
     "state": {
      "_model_module": "@jupyter-widgets/base",
      "_model_module_version": "1.2.0",
      "_model_name": "LayoutModel",
      "_view_count": null,
      "_view_module": "@jupyter-widgets/base",
      "_view_module_version": "1.2.0",
      "_view_name": "LayoutView",
      "align_content": null,
      "align_items": null,
      "align_self": null,
      "border": null,
      "bottom": null,
      "display": null,
      "flex": null,
      "flex_flow": null,
      "grid_area": null,
      "grid_auto_columns": null,
      "grid_auto_flow": null,
      "grid_auto_rows": null,
      "grid_column": null,
      "grid_gap": null,
      "grid_row": null,
      "grid_template_areas": null,
      "grid_template_columns": null,
      "grid_template_rows": null,
      "height": null,
      "justify_content": null,
      "justify_items": null,
      "left": null,
      "margin": null,
      "max_height": null,
      "max_width": null,
      "min_height": null,
      "min_width": null,
      "object_fit": null,
      "object_position": null,
      "order": null,
      "overflow": null,
      "overflow_x": null,
      "overflow_y": null,
      "padding": null,
      "right": null,
      "top": null,
      "visibility": null,
      "width": null
     }
    },
    "324e246e09ee460bb3876a827a42ff58": {
     "model_module": "@jupyter-widgets/controls",
     "model_module_version": "1.5.0",
     "model_name": "HTMLModel",
     "state": {
      "_dom_classes": [],
      "_model_module": "@jupyter-widgets/controls",
      "_model_module_version": "1.5.0",
      "_model_name": "HTMLModel",
      "_view_count": null,
      "_view_module": "@jupyter-widgets/controls",
      "_view_module_version": "1.5.0",
      "_view_name": "HTMLView",
      "description": "",
      "description_tooltip": null,
      "layout": "IPY_MODEL_74a117b9fcf943e3a5e05c41e6443ce2",
      "placeholder": "​",
      "style": "IPY_MODEL_d19fa5dc787f499d839f38a367de08eb",
      "value": " 1.79k/1.79k [00:00&lt;00:00, 67.7kB/s]"
     }
    },
    "33736ef1c4a644c3aef8ee95e5baa868": {
     "model_module": "@jupyter-widgets/base",
     "model_module_version": "1.2.0",
     "model_name": "LayoutModel",
     "state": {
      "_model_module": "@jupyter-widgets/base",
      "_model_module_version": "1.2.0",
      "_model_name": "LayoutModel",
      "_view_count": null,
      "_view_module": "@jupyter-widgets/base",
      "_view_module_version": "1.2.0",
      "_view_name": "LayoutView",
      "align_content": null,
      "align_items": null,
      "align_self": null,
      "border": null,
      "bottom": null,
      "display": null,
      "flex": null,
      "flex_flow": null,
      "grid_area": null,
      "grid_auto_columns": null,
      "grid_auto_flow": null,
      "grid_auto_rows": null,
      "grid_column": null,
      "grid_gap": null,
      "grid_row": null,
      "grid_template_areas": null,
      "grid_template_columns": null,
      "grid_template_rows": null,
      "height": null,
      "justify_content": null,
      "justify_items": null,
      "left": null,
      "margin": null,
      "max_height": null,
      "max_width": null,
      "min_height": null,
      "min_width": null,
      "object_fit": null,
      "object_position": null,
      "order": null,
      "overflow": null,
      "overflow_x": null,
      "overflow_y": null,
      "padding": null,
      "right": null,
      "top": null,
      "visibility": null,
      "width": null
     }
    },
    "36198a34d2324a5cbaae440544107685": {
     "model_module": "@jupyter-widgets/base",
     "model_module_version": "1.2.0",
     "model_name": "LayoutModel",
     "state": {
      "_model_module": "@jupyter-widgets/base",
      "_model_module_version": "1.2.0",
      "_model_name": "LayoutModel",
      "_view_count": null,
      "_view_module": "@jupyter-widgets/base",
      "_view_module_version": "1.2.0",
      "_view_name": "LayoutView",
      "align_content": null,
      "align_items": null,
      "align_self": null,
      "border": null,
      "bottom": null,
      "display": null,
      "flex": null,
      "flex_flow": null,
      "grid_area": null,
      "grid_auto_columns": null,
      "grid_auto_flow": null,
      "grid_auto_rows": null,
      "grid_column": null,
      "grid_gap": null,
      "grid_row": null,
      "grid_template_areas": null,
      "grid_template_columns": null,
      "grid_template_rows": null,
      "height": null,
      "justify_content": null,
      "justify_items": null,
      "left": null,
      "margin": null,
      "max_height": null,
      "max_width": null,
      "min_height": null,
      "min_width": null,
      "object_fit": null,
      "object_position": null,
      "order": null,
      "overflow": null,
      "overflow_x": null,
      "overflow_y": null,
      "padding": null,
      "right": null,
      "top": null,
      "visibility": null,
      "width": null
     }
    },
    "37ec1e34211344538238be9cc8d77e2a": {
     "model_module": "@jupyter-widgets/controls",
     "model_module_version": "1.5.0",
     "model_name": "FloatProgressModel",
     "state": {
      "_dom_classes": [],
      "_model_module": "@jupyter-widgets/controls",
      "_model_module_version": "1.5.0",
      "_model_name": "FloatProgressModel",
      "_view_count": null,
      "_view_module": "@jupyter-widgets/controls",
      "_view_module_version": "1.5.0",
      "_view_name": "ProgressView",
      "bar_style": "success",
      "description": "",
      "description_tooltip": null,
      "layout": "IPY_MODEL_f34462d41b594a358b20f322ddd4108f",
      "max": 990441433,
      "min": 0,
      "orientation": "horizontal",
      "style": "IPY_MODEL_770ec9c1eb9e46a1b33c29143e6e6a2d",
      "value": 990441433
     }
    },
    "3fca650d79d342db8d690f434cb27ad6": {
     "model_module": "@jupyter-widgets/base",
     "model_module_version": "1.2.0",
     "model_name": "LayoutModel",
     "state": {
      "_model_module": "@jupyter-widgets/base",
      "_model_module_version": "1.2.0",
      "_model_name": "LayoutModel",
      "_view_count": null,
      "_view_module": "@jupyter-widgets/base",
      "_view_module_version": "1.2.0",
      "_view_name": "LayoutView",
      "align_content": null,
      "align_items": null,
      "align_self": null,
      "border": null,
      "bottom": null,
      "display": null,
      "flex": null,
      "flex_flow": null,
      "grid_area": null,
      "grid_auto_columns": null,
      "grid_auto_flow": null,
      "grid_auto_rows": null,
      "grid_column": null,
      "grid_gap": null,
      "grid_row": null,
      "grid_template_areas": null,
      "grid_template_columns": null,
      "grid_template_rows": null,
      "height": null,
      "justify_content": null,
      "justify_items": null,
      "left": null,
      "margin": null,
      "max_height": null,
      "max_width": null,
      "min_height": null,
      "min_width": null,
      "object_fit": null,
      "object_position": null,
      "order": null,
      "overflow": null,
      "overflow_x": null,
      "overflow_y": null,
      "padding": null,
      "right": null,
      "top": null,
      "visibility": null,
      "width": null
     }
    },
    "4a0be399110742d9a9f093348ab9f47d": {
     "model_module": "@jupyter-widgets/base",
     "model_module_version": "1.2.0",
     "model_name": "LayoutModel",
     "state": {
      "_model_module": "@jupyter-widgets/base",
      "_model_module_version": "1.2.0",
      "_model_name": "LayoutModel",
      "_view_count": null,
      "_view_module": "@jupyter-widgets/base",
      "_view_module_version": "1.2.0",
      "_view_name": "LayoutView",
      "align_content": null,
      "align_items": null,
      "align_self": null,
      "border": null,
      "bottom": null,
      "display": null,
      "flex": null,
      "flex_flow": null,
      "grid_area": null,
      "grid_auto_columns": null,
      "grid_auto_flow": null,
      "grid_auto_rows": null,
      "grid_column": null,
      "grid_gap": null,
      "grid_row": null,
      "grid_template_areas": null,
      "grid_template_columns": null,
      "grid_template_rows": null,
      "height": null,
      "justify_content": null,
      "justify_items": null,
      "left": null,
      "margin": null,
      "max_height": null,
      "max_width": null,
      "min_height": null,
      "min_width": null,
      "object_fit": null,
      "object_position": null,
      "order": null,
      "overflow": null,
      "overflow_x": null,
      "overflow_y": null,
      "padding": null,
      "right": null,
      "top": null,
      "visibility": null,
      "width": null
     }
    },
    "52e4cf12060b4a76a1f219a4aac097ce": {
     "model_module": "@jupyter-widgets/controls",
     "model_module_version": "1.5.0",
     "model_name": "HTMLModel",
     "state": {
      "_dom_classes": [],
      "_model_module": "@jupyter-widgets/controls",
      "_model_module_version": "1.5.0",
      "_model_name": "HTMLModel",
      "_view_count": null,
      "_view_module": "@jupyter-widgets/controls",
      "_view_module_version": "1.5.0",
      "_view_name": "HTMLView",
      "description": "",
      "description_tooltip": null,
      "layout": "IPY_MODEL_33736ef1c4a644c3aef8ee95e5baa868",
      "placeholder": "​",
      "style": "IPY_MODEL_0490c9e59770456b85fbe72a01e431fd",
      "value": "Downloading (…)lve/main/config.json: 100%"
     }
    },
    "5e9d9aec1cfc4d3aaf5b0b519d7f4139": {
     "model_module": "@jupyter-widgets/controls",
     "model_module_version": "1.5.0",
     "model_name": "DescriptionStyleModel",
     "state": {
      "_model_module": "@jupyter-widgets/controls",
      "_model_module_version": "1.5.0",
      "_model_name": "DescriptionStyleModel",
      "_view_count": null,
      "_view_module": "@jupyter-widgets/base",
      "_view_module_version": "1.2.0",
      "_view_name": "StyleView",
      "description_width": ""
     }
    },
    "5f3734bfe4d84a1d881cc4213b0e8bab": {
     "model_module": "@jupyter-widgets/controls",
     "model_module_version": "1.5.0",
     "model_name": "FloatProgressModel",
     "state": {
      "_dom_classes": [],
      "_model_module": "@jupyter-widgets/controls",
      "_model_module_version": "1.5.0",
      "_model_name": "FloatProgressModel",
      "_view_count": null,
      "_view_module": "@jupyter-widgets/controls",
      "_view_module_version": "1.5.0",
      "_view_name": "ProgressView",
      "bar_style": "success",
      "description": "",
      "description_tooltip": null,
      "layout": "IPY_MODEL_cbb64a2cd2a44690b60c661ddca5d173",
      "max": 1111492,
      "min": 0,
      "orientation": "horizontal",
      "style": "IPY_MODEL_6715eb134e034de2997f82879f3b36af",
      "value": 1111492
     }
    },
    "60635e2ae1ff4062ab8ba496de6cac7d": {
     "model_module": "@jupyter-widgets/base",
     "model_module_version": "1.2.0",
     "model_name": "LayoutModel",
     "state": {
      "_model_module": "@jupyter-widgets/base",
      "_model_module_version": "1.2.0",
      "_model_name": "LayoutModel",
      "_view_count": null,
      "_view_module": "@jupyter-widgets/base",
      "_view_module_version": "1.2.0",
      "_view_name": "LayoutView",
      "align_content": null,
      "align_items": null,
      "align_self": null,
      "border": null,
      "bottom": null,
      "display": null,
      "flex": null,
      "flex_flow": null,
      "grid_area": null,
      "grid_auto_columns": null,
      "grid_auto_flow": null,
      "grid_auto_rows": null,
      "grid_column": null,
      "grid_gap": null,
      "grid_row": null,
      "grid_template_areas": null,
      "grid_template_columns": null,
      "grid_template_rows": null,
      "height": null,
      "justify_content": null,
      "justify_items": null,
      "left": null,
      "margin": null,
      "max_height": null,
      "max_width": null,
      "min_height": null,
      "min_width": null,
      "object_fit": null,
      "object_position": null,
      "order": null,
      "overflow": null,
      "overflow_x": null,
      "overflow_y": null,
      "padding": null,
      "right": null,
      "top": null,
      "visibility": null,
      "width": null
     }
    },
    "61fa562c09c84985af2915d357148fd3": {
     "model_module": "@jupyter-widgets/controls",
     "model_module_version": "1.5.0",
     "model_name": "ProgressStyleModel",
     "state": {
      "_model_module": "@jupyter-widgets/controls",
      "_model_module_version": "1.5.0",
      "_model_name": "ProgressStyleModel",
      "_view_count": null,
      "_view_module": "@jupyter-widgets/base",
      "_view_module_version": "1.2.0",
      "_view_name": "StyleView",
      "bar_color": null,
      "description_width": ""
     }
    },
    "6715eb134e034de2997f82879f3b36af": {
     "model_module": "@jupyter-widgets/controls",
     "model_module_version": "1.5.0",
     "model_name": "ProgressStyleModel",
     "state": {
      "_model_module": "@jupyter-widgets/controls",
      "_model_module_version": "1.5.0",
      "_model_name": "ProgressStyleModel",
      "_view_count": null,
      "_view_module": "@jupyter-widgets/base",
      "_view_module_version": "1.2.0",
      "_view_name": "StyleView",
      "bar_color": null,
      "description_width": ""
     }
    },
    "71bde98fff9f49b9b267376a25001738": {
     "model_module": "@jupyter-widgets/controls",
     "model_module_version": "1.5.0",
     "model_name": "HTMLModel",
     "state": {
      "_dom_classes": [],
      "_model_module": "@jupyter-widgets/controls",
      "_model_module_version": "1.5.0",
      "_model_name": "HTMLModel",
      "_view_count": null,
      "_view_module": "@jupyter-widgets/controls",
      "_view_module_version": "1.5.0",
      "_view_name": "HTMLView",
      "description": "",
      "description_tooltip": null,
      "layout": "IPY_MODEL_8c19d7e9ff094dea8d482188e45fe25a",
      "placeholder": "​",
      "style": "IPY_MODEL_2511716f6c134b218e4460506d62661b",
      "value": "Downloading spiece.model: 100%"
     }
    },
    "73cd9ee719ed43cd8868276e43d19ed5": {
     "model_module": "@jupyter-widgets/base",
     "model_module_version": "1.2.0",
     "model_name": "LayoutModel",
     "state": {
      "_model_module": "@jupyter-widgets/base",
      "_model_module_version": "1.2.0",
      "_model_name": "LayoutModel",
      "_view_count": null,
      "_view_module": "@jupyter-widgets/base",
      "_view_module_version": "1.2.0",
      "_view_name": "LayoutView",
      "align_content": null,
      "align_items": null,
      "align_self": null,
      "border": null,
      "bottom": null,
      "display": null,
      "flex": null,
      "flex_flow": null,
      "grid_area": null,
      "grid_auto_columns": null,
      "grid_auto_flow": null,
      "grid_auto_rows": null,
      "grid_column": null,
      "grid_gap": null,
      "grid_row": null,
      "grid_template_areas": null,
      "grid_template_columns": null,
      "grid_template_rows": null,
      "height": null,
      "justify_content": null,
      "justify_items": null,
      "left": null,
      "margin": null,
      "max_height": null,
      "max_width": null,
      "min_height": null,
      "min_width": null,
      "object_fit": null,
      "object_position": null,
      "order": null,
      "overflow": null,
      "overflow_x": null,
      "overflow_y": null,
      "padding": null,
      "right": null,
      "top": null,
      "visibility": null,
      "width": null
     }
    },
    "74a117b9fcf943e3a5e05c41e6443ce2": {
     "model_module": "@jupyter-widgets/base",
     "model_module_version": "1.2.0",
     "model_name": "LayoutModel",
     "state": {
      "_model_module": "@jupyter-widgets/base",
      "_model_module_version": "1.2.0",
      "_model_name": "LayoutModel",
      "_view_count": null,
      "_view_module": "@jupyter-widgets/base",
      "_view_module_version": "1.2.0",
      "_view_name": "LayoutView",
      "align_content": null,
      "align_items": null,
      "align_self": null,
      "border": null,
      "bottom": null,
      "display": null,
      "flex": null,
      "flex_flow": null,
      "grid_area": null,
      "grid_auto_columns": null,
      "grid_auto_flow": null,
      "grid_auto_rows": null,
      "grid_column": null,
      "grid_gap": null,
      "grid_row": null,
      "grid_template_areas": null,
      "grid_template_columns": null,
      "grid_template_rows": null,
      "height": null,
      "justify_content": null,
      "justify_items": null,
      "left": null,
      "margin": null,
      "max_height": null,
      "max_width": null,
      "min_height": null,
      "min_width": null,
      "object_fit": null,
      "object_position": null,
      "order": null,
      "overflow": null,
      "overflow_x": null,
      "overflow_y": null,
      "padding": null,
      "right": null,
      "top": null,
      "visibility": null,
      "width": null
     }
    },
    "770ec9c1eb9e46a1b33c29143e6e6a2d": {
     "model_module": "@jupyter-widgets/controls",
     "model_module_version": "1.5.0",
     "model_name": "ProgressStyleModel",
     "state": {
      "_model_module": "@jupyter-widgets/controls",
      "_model_module_version": "1.5.0",
      "_model_name": "ProgressStyleModel",
      "_view_count": null,
      "_view_module": "@jupyter-widgets/base",
      "_view_module_version": "1.2.0",
      "_view_name": "StyleView",
      "bar_color": null,
      "description_width": ""
     }
    },
    "7c6227646f584c5aada544caf86888d4": {
     "model_module": "@jupyter-widgets/controls",
     "model_module_version": "1.5.0",
     "model_name": "DescriptionStyleModel",
     "state": {
      "_model_module": "@jupyter-widgets/controls",
      "_model_module_version": "1.5.0",
      "_model_name": "DescriptionStyleModel",
      "_view_count": null,
      "_view_module": "@jupyter-widgets/base",
      "_view_module_version": "1.2.0",
      "_view_name": "StyleView",
      "description_width": ""
     }
    },
    "7e74c8b11f424a2c853742ed25a05de7": {
     "model_module": "@jupyter-widgets/base",
     "model_module_version": "1.2.0",
     "model_name": "LayoutModel",
     "state": {
      "_model_module": "@jupyter-widgets/base",
      "_model_module_version": "1.2.0",
      "_model_name": "LayoutModel",
      "_view_count": null,
      "_view_module": "@jupyter-widgets/base",
      "_view_module_version": "1.2.0",
      "_view_name": "LayoutView",
      "align_content": null,
      "align_items": null,
      "align_self": null,
      "border": null,
      "bottom": null,
      "display": null,
      "flex": null,
      "flex_flow": null,
      "grid_area": null,
      "grid_auto_columns": null,
      "grid_auto_flow": null,
      "grid_auto_rows": null,
      "grid_column": null,
      "grid_gap": null,
      "grid_row": null,
      "grid_template_areas": null,
      "grid_template_columns": null,
      "grid_template_rows": null,
      "height": null,
      "justify_content": null,
      "justify_items": null,
      "left": null,
      "margin": null,
      "max_height": null,
      "max_width": null,
      "min_height": null,
      "min_width": null,
      "object_fit": null,
      "object_position": null,
      "order": null,
      "overflow": null,
      "overflow_x": null,
      "overflow_y": null,
      "padding": null,
      "right": null,
      "top": null,
      "visibility": null,
      "width": null
     }
    },
    "816966444ad84a66b86bd85327f9d5f2": {
     "model_module": "@jupyter-widgets/controls",
     "model_module_version": "1.5.0",
     "model_name": "HTMLModel",
     "state": {
      "_dom_classes": [],
      "_model_module": "@jupyter-widgets/controls",
      "_model_module_version": "1.5.0",
      "_model_name": "HTMLModel",
      "_view_count": null,
      "_view_module": "@jupyter-widgets/controls",
      "_view_module_version": "1.5.0",
      "_view_name": "HTMLView",
      "description": "",
      "description_tooltip": null,
      "layout": "IPY_MODEL_7e74c8b11f424a2c853742ed25a05de7",
      "placeholder": "​",
      "style": "IPY_MODEL_7c6227646f584c5aada544caf86888d4",
      "value": "Downloading pytorch_model.bin: 100%"
     }
    },
    "893c33b1a2524c6a90167e83aeffc7da": {
     "model_module": "@jupyter-widgets/base",
     "model_module_version": "1.2.0",
     "model_name": "LayoutModel",
     "state": {
      "_model_module": "@jupyter-widgets/base",
      "_model_module_version": "1.2.0",
      "_model_name": "LayoutModel",
      "_view_count": null,
      "_view_module": "@jupyter-widgets/base",
      "_view_module_version": "1.2.0",
      "_view_name": "LayoutView",
      "align_content": null,
      "align_items": null,
      "align_self": null,
      "border": null,
      "bottom": null,
      "display": null,
      "flex": null,
      "flex_flow": null,
      "grid_area": null,
      "grid_auto_columns": null,
      "grid_auto_flow": null,
      "grid_auto_rows": null,
      "grid_column": null,
      "grid_gap": null,
      "grid_row": null,
      "grid_template_areas": null,
      "grid_template_columns": null,
      "grid_template_rows": null,
      "height": null,
      "justify_content": null,
      "justify_items": null,
      "left": null,
      "margin": null,
      "max_height": null,
      "max_width": null,
      "min_height": null,
      "min_width": null,
      "object_fit": null,
      "object_position": null,
      "order": null,
      "overflow": null,
      "overflow_x": null,
      "overflow_y": null,
      "padding": null,
      "right": null,
      "top": null,
      "visibility": null,
      "width": null
     }
    },
    "8ab6658661c048a6ab481b3291bbb048": {
     "model_module": "@jupyter-widgets/controls",
     "model_module_version": "1.5.0",
     "model_name": "HTMLModel",
     "state": {
      "_dom_classes": [],
      "_model_module": "@jupyter-widgets/controls",
      "_model_module_version": "1.5.0",
      "_model_name": "HTMLModel",
      "_view_count": null,
      "_view_module": "@jupyter-widgets/controls",
      "_view_module_version": "1.5.0",
      "_view_name": "HTMLView",
      "description": "",
      "description_tooltip": null,
      "layout": "IPY_MODEL_df0e752b618b4615bc5ba3b50d3be21e",
      "placeholder": "​",
      "style": "IPY_MODEL_cce458e9cd824519930bd325a2c6c8df",
      "value": " 990M/990M [00:50&lt;00:00, 21.0MB/s]"
     }
    },
    "8ad2823346c94b19a021f16d951705dc": {
     "model_module": "@jupyter-widgets/controls",
     "model_module_version": "1.5.0",
     "model_name": "FloatProgressModel",
     "state": {
      "_dom_classes": [],
      "_model_module": "@jupyter-widgets/controls",
      "_model_module_version": "1.5.0",
      "_model_name": "FloatProgressModel",
      "_view_count": null,
      "_view_module": "@jupyter-widgets/controls",
      "_view_module_version": "1.5.0",
      "_view_name": "ProgressView",
      "bar_style": "success",
      "description": "",
      "description_tooltip": null,
      "layout": "IPY_MODEL_31865b57dbba4ba5af114cb9307aa172",
      "max": 1829,
      "min": 0,
      "orientation": "horizontal",
      "style": "IPY_MODEL_9bb0e0e5d8824014b83c75b7c1246051",
      "value": 1829
     }
    },
    "8c19d7e9ff094dea8d482188e45fe25a": {
     "model_module": "@jupyter-widgets/base",
     "model_module_version": "1.2.0",
     "model_name": "LayoutModel",
     "state": {
      "_model_module": "@jupyter-widgets/base",
      "_model_module_version": "1.2.0",
      "_model_name": "LayoutModel",
      "_view_count": null,
      "_view_module": "@jupyter-widgets/base",
      "_view_module_version": "1.2.0",
      "_view_name": "LayoutView",
      "align_content": null,
      "align_items": null,
      "align_self": null,
      "border": null,
      "bottom": null,
      "display": null,
      "flex": null,
      "flex_flow": null,
      "grid_area": null,
      "grid_auto_columns": null,
      "grid_auto_flow": null,
      "grid_auto_rows": null,
      "grid_column": null,
      "grid_gap": null,
      "grid_row": null,
      "grid_template_areas": null,
      "grid_template_columns": null,
      "grid_template_rows": null,
      "height": null,
      "justify_content": null,
      "justify_items": null,
      "left": null,
      "margin": null,
      "max_height": null,
      "max_width": null,
      "min_height": null,
      "min_width": null,
      "object_fit": null,
      "object_position": null,
      "order": null,
      "overflow": null,
      "overflow_x": null,
      "overflow_y": null,
      "padding": null,
      "right": null,
      "top": null,
      "visibility": null,
      "width": null
     }
    },
    "928aff74a3d14fe58ae9bdb1d2f7f20f": {
     "model_module": "@jupyter-widgets/controls",
     "model_module_version": "1.5.0",
     "model_name": "ProgressStyleModel",
     "state": {
      "_model_module": "@jupyter-widgets/controls",
      "_model_module_version": "1.5.0",
      "_model_name": "ProgressStyleModel",
      "_view_count": null,
      "_view_module": "@jupyter-widgets/base",
      "_view_module_version": "1.2.0",
      "_view_name": "StyleView",
      "bar_color": null,
      "description_width": ""
     }
    },
    "94aabbce825d49e583d7c8f0fc9df7da": {
     "model_module": "@jupyter-widgets/controls",
     "model_module_version": "1.5.0",
     "model_name": "FloatProgressModel",
     "state": {
      "_dom_classes": [],
      "_model_module": "@jupyter-widgets/controls",
      "_model_module_version": "1.5.0",
      "_model_name": "FloatProgressModel",
      "_view_count": null,
      "_view_module": "@jupyter-widgets/controls",
      "_view_module_version": "1.5.0",
      "_view_name": "ProgressView",
      "bar_style": "success",
      "description": "",
      "description_tooltip": null,
      "layout": "IPY_MODEL_f961b23951b847d380d82a8ffa795bea",
      "max": 1786,
      "min": 0,
      "orientation": "horizontal",
      "style": "IPY_MODEL_61fa562c09c84985af2915d357148fd3",
      "value": 1786
     }
    },
    "9bb0e0e5d8824014b83c75b7c1246051": {
     "model_module": "@jupyter-widgets/controls",
     "model_module_version": "1.5.0",
     "model_name": "ProgressStyleModel",
     "state": {
      "_model_module": "@jupyter-widgets/controls",
      "_model_module_version": "1.5.0",
      "_model_name": "ProgressStyleModel",
      "_view_count": null,
      "_view_module": "@jupyter-widgets/base",
      "_view_module_version": "1.2.0",
      "_view_name": "StyleView",
      "bar_color": null,
      "description_width": ""
     }
    },
    "a1c64b3068514bf8b069a12e9ee62e35": {
     "model_module": "@jupyter-widgets/controls",
     "model_module_version": "1.5.0",
     "model_name": "HBoxModel",
     "state": {
      "_dom_classes": [],
      "_model_module": "@jupyter-widgets/controls",
      "_model_module_version": "1.5.0",
      "_model_name": "HBoxModel",
      "_view_count": null,
      "_view_module": "@jupyter-widgets/controls",
      "_view_module_version": "1.5.0",
      "_view_name": "HBoxView",
      "box_style": "",
      "children": [
       "IPY_MODEL_bcc4c4b1d3894fb89b166c49f4eb917b",
       "IPY_MODEL_94aabbce825d49e583d7c8f0fc9df7da",
       "IPY_MODEL_324e246e09ee460bb3876a827a42ff58"
      ],
      "layout": "IPY_MODEL_01d5050f15514c2eb48801fcc44ccdea"
     }
    },
    "bcc4c4b1d3894fb89b166c49f4eb917b": {
     "model_module": "@jupyter-widgets/controls",
     "model_module_version": "1.5.0",
     "model_name": "HTMLModel",
     "state": {
      "_dom_classes": [],
      "_model_module": "@jupyter-widgets/controls",
      "_model_module_version": "1.5.0",
      "_model_name": "HTMLModel",
      "_view_count": null,
      "_view_module": "@jupyter-widgets/controls",
      "_view_module_version": "1.5.0",
      "_view_name": "HTMLView",
      "description": "",
      "description_tooltip": null,
      "layout": "IPY_MODEL_36198a34d2324a5cbaae440544107685",
      "placeholder": "​",
      "style": "IPY_MODEL_be9ec5248d6e406e8590876866a08341",
      "value": "Downloading (…)cial_tokens_map.json: 100%"
     }
    },
    "be9ec5248d6e406e8590876866a08341": {
     "model_module": "@jupyter-widgets/controls",
     "model_module_version": "1.5.0",
     "model_name": "DescriptionStyleModel",
     "state": {
      "_model_module": "@jupyter-widgets/controls",
      "_model_module_version": "1.5.0",
      "_model_name": "DescriptionStyleModel",
      "_view_count": null,
      "_view_module": "@jupyter-widgets/base",
      "_view_module_version": "1.2.0",
      "_view_name": "StyleView",
      "description_width": ""
     }
    },
    "c59acea69889473cb2cc3e5d6e0e6815": {
     "model_module": "@jupyter-widgets/controls",
     "model_module_version": "1.5.0",
     "model_name": "HTMLModel",
     "state": {
      "_dom_classes": [],
      "_model_module": "@jupyter-widgets/controls",
      "_model_module_version": "1.5.0",
      "_model_name": "HTMLModel",
      "_view_count": null,
      "_view_module": "@jupyter-widgets/controls",
      "_view_module_version": "1.5.0",
      "_view_name": "HTMLView",
      "description": "",
      "description_tooltip": null,
      "layout": "IPY_MODEL_ebc4f85211a94f7abc9ecf9dbec19d82",
      "placeholder": "​",
      "style": "IPY_MODEL_da7c1eed766b4c2da315f4fecd2bbb19",
      "value": " 1.11M/1.11M [00:00&lt;00:00, 1.13MB/s]"
     }
    },
    "c6c2944a22894d1d8d9cc056c1b00c1c": {
     "model_module": "@jupyter-widgets/controls",
     "model_module_version": "1.5.0",
     "model_name": "FloatProgressModel",
     "state": {
      "_dom_classes": [],
      "_model_module": "@jupyter-widgets/controls",
      "_model_module_version": "1.5.0",
      "_model_name": "FloatProgressModel",
      "_view_count": null,
      "_view_module": "@jupyter-widgets/controls",
      "_view_module_version": "1.5.0",
      "_view_name": "ProgressView",
      "bar_style": "success",
      "description": "",
      "description_tooltip": null,
      "layout": "IPY_MODEL_0af0be0c12d74e94a9c9ac2774817e02",
      "max": 659,
      "min": 0,
      "orientation": "horizontal",
      "style": "IPY_MODEL_928aff74a3d14fe58ae9bdb1d2f7f20f",
      "value": 659
     }
    },
    "cbb64a2cd2a44690b60c661ddca5d173": {
     "model_module": "@jupyter-widgets/base",
     "model_module_version": "1.2.0",
     "model_name": "LayoutModel",
     "state": {
      "_model_module": "@jupyter-widgets/base",
      "_model_module_version": "1.2.0",
      "_model_name": "LayoutModel",
      "_view_count": null,
      "_view_module": "@jupyter-widgets/base",
      "_view_module_version": "1.2.0",
      "_view_name": "LayoutView",
      "align_content": null,
      "align_items": null,
      "align_self": null,
      "border": null,
      "bottom": null,
      "display": null,
      "flex": null,
      "flex_flow": null,
      "grid_area": null,
      "grid_auto_columns": null,
      "grid_auto_flow": null,
      "grid_auto_rows": null,
      "grid_column": null,
      "grid_gap": null,
      "grid_row": null,
      "grid_template_areas": null,
      "grid_template_columns": null,
      "grid_template_rows": null,
      "height": null,
      "justify_content": null,
      "justify_items": null,
      "left": null,
      "margin": null,
      "max_height": null,
      "max_width": null,
      "min_height": null,
      "min_width": null,
      "object_fit": null,
      "object_position": null,
      "order": null,
      "overflow": null,
      "overflow_x": null,
      "overflow_y": null,
      "padding": null,
      "right": null,
      "top": null,
      "visibility": null,
      "width": null
     }
    },
    "cce458e9cd824519930bd325a2c6c8df": {
     "model_module": "@jupyter-widgets/controls",
     "model_module_version": "1.5.0",
     "model_name": "DescriptionStyleModel",
     "state": {
      "_model_module": "@jupyter-widgets/controls",
      "_model_module_version": "1.5.0",
      "_model_name": "DescriptionStyleModel",
      "_view_count": null,
      "_view_module": "@jupyter-widgets/base",
      "_view_module_version": "1.2.0",
      "_view_name": "StyleView",
      "description_width": ""
     }
    },
    "d19fa5dc787f499d839f38a367de08eb": {
     "model_module": "@jupyter-widgets/controls",
     "model_module_version": "1.5.0",
     "model_name": "DescriptionStyleModel",
     "state": {
      "_model_module": "@jupyter-widgets/controls",
      "_model_module_version": "1.5.0",
      "_model_name": "DescriptionStyleModel",
      "_view_count": null,
      "_view_module": "@jupyter-widgets/base",
      "_view_module_version": "1.2.0",
      "_view_name": "StyleView",
      "description_width": ""
     }
    },
    "d4dedf5f1d5f4e459f1ad137955393c5": {
     "model_module": "@jupyter-widgets/controls",
     "model_module_version": "1.5.0",
     "model_name": "DescriptionStyleModel",
     "state": {
      "_model_module": "@jupyter-widgets/controls",
      "_model_module_version": "1.5.0",
      "_model_name": "DescriptionStyleModel",
      "_view_count": null,
      "_view_module": "@jupyter-widgets/base",
      "_view_module_version": "1.2.0",
      "_view_name": "StyleView",
      "description_width": ""
     }
    },
    "da7c1eed766b4c2da315f4fecd2bbb19": {
     "model_module": "@jupyter-widgets/controls",
     "model_module_version": "1.5.0",
     "model_name": "DescriptionStyleModel",
     "state": {
      "_model_module": "@jupyter-widgets/controls",
      "_model_module_version": "1.5.0",
      "_model_name": "DescriptionStyleModel",
      "_view_count": null,
      "_view_module": "@jupyter-widgets/base",
      "_view_module_version": "1.2.0",
      "_view_name": "StyleView",
      "description_width": ""
     }
    },
    "df0e752b618b4615bc5ba3b50d3be21e": {
     "model_module": "@jupyter-widgets/base",
     "model_module_version": "1.2.0",
     "model_name": "LayoutModel",
     "state": {
      "_model_module": "@jupyter-widgets/base",
      "_model_module_version": "1.2.0",
      "_model_name": "LayoutModel",
      "_view_count": null,
      "_view_module": "@jupyter-widgets/base",
      "_view_module_version": "1.2.0",
      "_view_name": "LayoutView",
      "align_content": null,
      "align_items": null,
      "align_self": null,
      "border": null,
      "bottom": null,
      "display": null,
      "flex": null,
      "flex_flow": null,
      "grid_area": null,
      "grid_auto_columns": null,
      "grid_auto_flow": null,
      "grid_auto_rows": null,
      "grid_column": null,
      "grid_gap": null,
      "grid_row": null,
      "grid_template_areas": null,
      "grid_template_columns": null,
      "grid_template_rows": null,
      "height": null,
      "justify_content": null,
      "justify_items": null,
      "left": null,
      "margin": null,
      "max_height": null,
      "max_width": null,
      "min_height": null,
      "min_width": null,
      "object_fit": null,
      "object_position": null,
      "order": null,
      "overflow": null,
      "overflow_x": null,
      "overflow_y": null,
      "padding": null,
      "right": null,
      "top": null,
      "visibility": null,
      "width": null
     }
    },
    "e563029896df416681dc2b279d098f57": {
     "model_module": "@jupyter-widgets/controls",
     "model_module_version": "1.5.0",
     "model_name": "HTMLModel",
     "state": {
      "_dom_classes": [],
      "_model_module": "@jupyter-widgets/controls",
      "_model_module_version": "1.5.0",
      "_model_name": "HTMLModel",
      "_view_count": null,
      "_view_module": "@jupyter-widgets/controls",
      "_view_module_version": "1.5.0",
      "_view_name": "HTMLView",
      "description": "",
      "description_tooltip": null,
      "layout": "IPY_MODEL_fe0ec9b9088c46f096e55ca7552a5beb",
      "placeholder": "​",
      "style": "IPY_MODEL_0b0dafe5fa2e463b927201259db66ab5",
      "value": " 1.83k/1.83k [00:00&lt;00:00, 91.9kB/s]"
     }
    },
    "ebc4f85211a94f7abc9ecf9dbec19d82": {
     "model_module": "@jupyter-widgets/base",
     "model_module_version": "1.2.0",
     "model_name": "LayoutModel",
     "state": {
      "_model_module": "@jupyter-widgets/base",
      "_model_module_version": "1.2.0",
      "_model_name": "LayoutModel",
      "_view_count": null,
      "_view_module": "@jupyter-widgets/base",
      "_view_module_version": "1.2.0",
      "_view_name": "LayoutView",
      "align_content": null,
      "align_items": null,
      "align_self": null,
      "border": null,
      "bottom": null,
      "display": null,
      "flex": null,
      "flex_flow": null,
      "grid_area": null,
      "grid_auto_columns": null,
      "grid_auto_flow": null,
      "grid_auto_rows": null,
      "grid_column": null,
      "grid_gap": null,
      "grid_row": null,
      "grid_template_areas": null,
      "grid_template_columns": null,
      "grid_template_rows": null,
      "height": null,
      "justify_content": null,
      "justify_items": null,
      "left": null,
      "margin": null,
      "max_height": null,
      "max_width": null,
      "min_height": null,
      "min_width": null,
      "object_fit": null,
      "object_position": null,
      "order": null,
      "overflow": null,
      "overflow_x": null,
      "overflow_y": null,
      "padding": null,
      "right": null,
      "top": null,
      "visibility": null,
      "width": null
     }
    },
    "f22fcfe9367741bdb11e247fe76053cb": {
     "model_module": "@jupyter-widgets/controls",
     "model_module_version": "1.5.0",
     "model_name": "HBoxModel",
     "state": {
      "_dom_classes": [],
      "_model_module": "@jupyter-widgets/controls",
      "_model_module_version": "1.5.0",
      "_model_name": "HBoxModel",
      "_view_count": null,
      "_view_module": "@jupyter-widgets/controls",
      "_view_module_version": "1.5.0",
      "_view_name": "HBoxView",
      "box_style": "",
      "children": [
       "IPY_MODEL_52e4cf12060b4a76a1f219a4aac097ce",
       "IPY_MODEL_c6c2944a22894d1d8d9cc056c1b00c1c",
       "IPY_MODEL_0501fb07400f4ebbaf923dd96cce2ac5"
      ],
      "layout": "IPY_MODEL_3fca650d79d342db8d690f434cb27ad6"
     }
    },
    "f34462d41b594a358b20f322ddd4108f": {
     "model_module": "@jupyter-widgets/base",
     "model_module_version": "1.2.0",
     "model_name": "LayoutModel",
     "state": {
      "_model_module": "@jupyter-widgets/base",
      "_model_module_version": "1.2.0",
      "_model_name": "LayoutModel",
      "_view_count": null,
      "_view_module": "@jupyter-widgets/base",
      "_view_module_version": "1.2.0",
      "_view_name": "LayoutView",
      "align_content": null,
      "align_items": null,
      "align_self": null,
      "border": null,
      "bottom": null,
      "display": null,
      "flex": null,
      "flex_flow": null,
      "grid_area": null,
      "grid_auto_columns": null,
      "grid_auto_flow": null,
      "grid_auto_rows": null,
      "grid_column": null,
      "grid_gap": null,
      "grid_row": null,
      "grid_template_areas": null,
      "grid_template_columns": null,
      "grid_template_rows": null,
      "height": null,
      "justify_content": null,
      "justify_items": null,
      "left": null,
      "margin": null,
      "max_height": null,
      "max_width": null,
      "min_height": null,
      "min_width": null,
      "object_fit": null,
      "object_position": null,
      "order": null,
      "overflow": null,
      "overflow_x": null,
      "overflow_y": null,
      "padding": null,
      "right": null,
      "top": null,
      "visibility": null,
      "width": null
     }
    },
    "f961b23951b847d380d82a8ffa795bea": {
     "model_module": "@jupyter-widgets/base",
     "model_module_version": "1.2.0",
     "model_name": "LayoutModel",
     "state": {
      "_model_module": "@jupyter-widgets/base",
      "_model_module_version": "1.2.0",
      "_model_name": "LayoutModel",
      "_view_count": null,
      "_view_module": "@jupyter-widgets/base",
      "_view_module_version": "1.2.0",
      "_view_name": "LayoutView",
      "align_content": null,
      "align_items": null,
      "align_self": null,
      "border": null,
      "bottom": null,
      "display": null,
      "flex": null,
      "flex_flow": null,
      "grid_area": null,
      "grid_auto_columns": null,
      "grid_auto_flow": null,
      "grid_auto_rows": null,
      "grid_column": null,
      "grid_gap": null,
      "grid_row": null,
      "grid_template_areas": null,
      "grid_template_columns": null,
      "grid_template_rows": null,
      "height": null,
      "justify_content": null,
      "justify_items": null,
      "left": null,
      "margin": null,
      "max_height": null,
      "max_width": null,
      "min_height": null,
      "min_width": null,
      "object_fit": null,
      "object_position": null,
      "order": null,
      "overflow": null,
      "overflow_x": null,
      "overflow_y": null,
      "padding": null,
      "right": null,
      "top": null,
      "visibility": null,
      "width": null
     }
    },
    "f9af5dc0501647f9b608b70b925e0823": {
     "model_module": "@jupyter-widgets/controls",
     "model_module_version": "1.5.0",
     "model_name": "HBoxModel",
     "state": {
      "_dom_classes": [],
      "_model_module": "@jupyter-widgets/controls",
      "_model_module_version": "1.5.0",
      "_model_name": "HBoxModel",
      "_view_count": null,
      "_view_module": "@jupyter-widgets/controls",
      "_view_module_version": "1.5.0",
      "_view_name": "HBoxView",
      "box_style": "",
      "children": [
       "IPY_MODEL_206037f3a8104dc69557d5181f9e6536",
       "IPY_MODEL_8ad2823346c94b19a021f16d951705dc",
       "IPY_MODEL_e563029896df416681dc2b279d098f57"
      ],
      "layout": "IPY_MODEL_f9f3d9973fca4b1a991053fbcad8a272"
     }
    },
    "f9f3d9973fca4b1a991053fbcad8a272": {
     "model_module": "@jupyter-widgets/base",
     "model_module_version": "1.2.0",
     "model_name": "LayoutModel",
     "state": {
      "_model_module": "@jupyter-widgets/base",
      "_model_module_version": "1.2.0",
      "_model_name": "LayoutModel",
      "_view_count": null,
      "_view_module": "@jupyter-widgets/base",
      "_view_module_version": "1.2.0",
      "_view_name": "LayoutView",
      "align_content": null,
      "align_items": null,
      "align_self": null,
      "border": null,
      "bottom": null,
      "display": null,
      "flex": null,
      "flex_flow": null,
      "grid_area": null,
      "grid_auto_columns": null,
      "grid_auto_flow": null,
      "grid_auto_rows": null,
      "grid_column": null,
      "grid_gap": null,
      "grid_row": null,
      "grid_template_areas": null,
      "grid_template_columns": null,
      "grid_template_rows": null,
      "height": null,
      "justify_content": null,
      "justify_items": null,
      "left": null,
      "margin": null,
      "max_height": null,
      "max_width": null,
      "min_height": null,
      "min_width": null,
      "object_fit": null,
      "object_position": null,
      "order": null,
      "overflow": null,
      "overflow_x": null,
      "overflow_y": null,
      "padding": null,
      "right": null,
      "top": null,
      "visibility": null,
      "width": null
     }
    },
    "fe0ec9b9088c46f096e55ca7552a5beb": {
     "model_module": "@jupyter-widgets/base",
     "model_module_version": "1.2.0",
     "model_name": "LayoutModel",
     "state": {
      "_model_module": "@jupyter-widgets/base",
      "_model_module_version": "1.2.0",
      "_model_name": "LayoutModel",
      "_view_count": null,
      "_view_module": "@jupyter-widgets/base",
      "_view_module_version": "1.2.0",
      "_view_name": "LayoutView",
      "align_content": null,
      "align_items": null,
      "align_self": null,
      "border": null,
      "bottom": null,
      "display": null,
      "flex": null,
      "flex_flow": null,
      "grid_area": null,
      "grid_auto_columns": null,
      "grid_auto_flow": null,
      "grid_auto_rows": null,
      "grid_column": null,
      "grid_gap": null,
      "grid_row": null,
      "grid_template_areas": null,
      "grid_template_columns": null,
      "grid_template_rows": null,
      "height": null,
      "justify_content": null,
      "justify_items": null,
      "left": null,
      "margin": null,
      "max_height": null,
      "max_width": null,
      "min_height": null,
      "min_width": null,
      "object_fit": null,
      "object_position": null,
      "order": null,
      "overflow": null,
      "overflow_x": null,
      "overflow_y": null,
      "padding": null,
      "right": null,
      "top": null,
      "visibility": null,
      "width": null
     }
    }
   }
  }
 },
 "nbformat": 4,
 "nbformat_minor": 4
}
