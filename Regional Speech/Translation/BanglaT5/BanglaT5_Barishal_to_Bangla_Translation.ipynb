{
 "cells": [
  {
   "cell_type": "code",
   "execution_count": null,
   "metadata": {
    "id": "xccHTUA4drLj"
   },
   "outputs": [],
   "source": [
    "import pandas as pd\n",
    "import numpy as np\n",
    "import matplotlib.pyplot as plt\n",
    "from wordcloud import WordCloud\n",
    "from collections import Counter\n",
    "import nltk\n",
    "from nltk.util import ngrams"
   ]
  },
  {
   "cell_type": "code",
   "execution_count": null,
   "metadata": {
    "colab": {
     "base_uri": "https://localhost:8080/"
    },
    "id": "PzSkC1vPe4Z6",
    "outputId": "c3de247b-f39a-4d02-be11-cff957ac9238"
   },
   "outputs": [],
   "source": [
    "from google.colab import drive\n",
    "drive.mount('/content/drive')"
   ]
  },
  {
   "cell_type": "code",
   "execution_count": null,
   "metadata": {
    "id": "7PpZs5YwftMW"
   },
   "outputs": [],
   "source": [
    "train_data = pd.read_csv(\"/content/Barishal_Translation_Main_Train_Dataset - 1.csv\")\n",
    "test_data = pd.read_csv(\"/content/Barishal_Translation_Main_test_Datase.csv\")\n",
    "validation_data = pd.read_csv(\"/content/Barishal_Main_Validation_Dataset - 1.csv\")"
   ]
  },
  {
   "cell_type": "code",
   "execution_count": null,
   "metadata": {
    "colab": {
     "base_uri": "https://localhost:8080/",
     "height": 206
    },
    "id": "OejQOMqbgXBo",
    "outputId": "164edfd6-30a6-4f4a-c768-248412b97872"
   },
   "outputs": [],
   "source": [
    "train_data.head(5)"
   ]
  },
  {
   "cell_type": "code",
   "execution_count": null,
   "metadata": {
    "colab": {
     "base_uri": "https://localhost:8080/",
     "height": 206
    },
    "id": "fL690gKN1fo5",
    "outputId": "f5f4221a-e590-4836-f580-69259f091f09"
   },
   "outputs": [],
   "source": [
    "train_data.tail(5)"
   ]
  },
  {
   "cell_type": "code",
   "execution_count": null,
   "metadata": {
    "colab": {
     "base_uri": "https://localhost:8080/",
     "height": 206
    },
    "id": "8sBumGdygZoQ",
    "outputId": "d1b677f2-84c4-41f7-f50b-7eb8dc430704"
   },
   "outputs": [],
   "source": [
    "test_data.head(5)"
   ]
  },
  {
   "cell_type": "code",
   "execution_count": null,
   "metadata": {
    "colab": {
     "base_uri": "https://localhost:8080/",
     "height": 206
    },
    "id": "WpvaSQMc1kJi",
    "outputId": "62b92d29-2640-4f6a-db2b-d136c14e2052"
   },
   "outputs": [],
   "source": [
    "test_data.tail(5)"
   ]
  },
  {
   "cell_type": "code",
   "execution_count": null,
   "metadata": {
    "colab": {
     "base_uri": "https://localhost:8080/",
     "height": 206
    },
    "id": "xjJX-qYBgbOB",
    "outputId": "1a555226-7c4f-4b97-f62c-f89f0a13fd8a"
   },
   "outputs": [],
   "source": [
    "validation_data.head(5)"
   ]
  },
  {
   "cell_type": "code",
   "execution_count": null,
   "metadata": {
    "colab": {
     "base_uri": "https://localhost:8080/",
     "height": 206
    },
    "id": "V0-WYx7S1ptc",
    "outputId": "8804ed4a-3e0b-42d3-b7a2-5461304832f2"
   },
   "outputs": [],
   "source": [
    "validation_data.tail(5)"
   ]
  },
  {
   "cell_type": "code",
   "execution_count": null,
   "metadata": {
    "colab": {
     "base_uri": "https://localhost:8080/"
    },
    "id": "gJjxfCbROQF2",
    "outputId": "6a44cdb0-6084-43d5-b19c-952cfcf467cf"
   },
   "outputs": [],
   "source": [
    "!pip install transformers torch pandas"
   ]
  },
  {
   "cell_type": "code",
   "execution_count": null,
   "metadata": {
    "colab": {
     "base_uri": "https://localhost:8080/"
    },
    "id": "hjAFH_OYaGBd",
    "outputId": "613a947d-4106-4cae-9f4a-ca48ccb04a3d"
   },
   "outputs": [],
   "source": [
    "!pip install sacrebleu"
   ]
  },
  {
   "cell_type": "code",
   "execution_count": null,
   "metadata": {
    "colab": {
     "base_uri": "https://localhost:8080/"
    },
    "id": "QbXwlOOKaNPw",
    "outputId": "34eba379-818e-4079-aab0-057ffe16e927"
   },
   "outputs": [],
   "source": [
    "!pip install rouge_score"
   ]
  },
  {
   "cell_type": "code",
   "execution_count": null,
   "metadata": {
    "colab": {
     "base_uri": "https://localhost:8080/"
    },
    "id": "o6vnIX2PcGE5",
    "outputId": "e31b4536-be82-430f-9bf8-5437867beda0"
   },
   "outputs": [],
   "source": [
    "!pip install sentencepiece"
   ]
  },
  {
   "cell_type": "code",
   "execution_count": null,
   "metadata": {
    "colab": {
     "base_uri": "https://localhost:8080/"
    },
    "id": "esPlJFmQe5lk",
    "outputId": "ae64d567-17be-40b4-981f-41802b5f7826"
   },
   "outputs": [],
   "source": [
    "!pip install transformers[sentencepiece]"
   ]
  },
  {
   "cell_type": "code",
   "execution_count": null,
   "metadata": {
    "colab": {
     "base_uri": "https://localhost:8080/"
    },
    "id": "NWIUgjZqcobw",
    "outputId": "6d9bd63f-2906-4287-cafc-b3cf096f17e1"
   },
   "outputs": [],
   "source": [
    "!transformers-cli cache clear"
   ]
  },
  {
   "cell_type": "code",
   "execution_count": null,
   "metadata": {
    "colab": {
     "base_uri": "https://localhost:8080/"
    },
    "id": "idYkCKoYLAkK",
    "outputId": "17903179-87cd-4502-e385-1a20c443453f"
   },
   "outputs": [],
   "source": [
    "!pip install transformers[torch]"
   ]
  },
  {
   "cell_type": "code",
   "execution_count": null,
   "metadata": {
    "colab": {
     "base_uri": "https://localhost:8080/"
    },
    "id": "ehyMslAiLEdi",
    "outputId": "793af444-3deb-4aaa-8251-98b49a84a549"
   },
   "outputs": [],
   "source": [
    "!pip install accelerate -U"
   ]
  },
  {
   "cell_type": "code",
   "execution_count": null,
   "metadata": {
    "colab": {
     "base_uri": "https://localhost:8080/"
    },
    "id": "Y3y3J7pKLHo8",
    "outputId": "a6df9f27-817c-437c-9fe4-c65adeeb396f"
   },
   "outputs": [],
   "source": [
    "!pip install git+https://github.com/csebuetnlp/normalizer"
   ]
  },
  {
   "cell_type": "code",
   "execution_count": null,
   "metadata": {
    "colab": {
     "base_uri": "https://localhost:8080/"
    },
    "id": "o16Pwu4BRJED",
    "outputId": "91b607da-54dd-46e5-b040-9744f2761e0a"
   },
   "outputs": [],
   "source": [
    "!pip install --upgrade pip"
   ]
  },
  {
   "cell_type": "code",
   "execution_count": null,
   "metadata": {
    "colab": {
     "base_uri": "https://localhost:8080/"
    },
    "id": "LQyLIu29LM05",
    "outputId": "57a64370-f4bf-4167-9ff5-5f7cb82a14ea"
   },
   "outputs": [],
   "source": [
    "!pip install transformers==4.10.3"
   ]
  },
  {
   "cell_type": "code",
   "execution_count": null,
   "metadata": {
    "colab": {
     "base_uri": "https://localhost:8080/"
    },
    "id": "TWyS4kEnRi-v",
    "outputId": "7f925e3f-4097-4010-d1c5-5261751df883"
   },
   "outputs": [],
   "source": [
    "!pip install torch transformers"
   ]
  },
  {
   "cell_type": "code",
   "execution_count": null,
   "metadata": {
    "colab": {
     "base_uri": "https://localhost:8080/"
    },
    "id": "dTWQoot8LNs2",
    "outputId": "2d1a7200-e160-4ae3-8ef5-4ee40996acb3"
   },
   "outputs": [],
   "source": [
    "!pip install accelerate==0.20.3"
   ]
  },
  {
   "cell_type": "code",
   "execution_count": null,
   "metadata": {
    "id": "SY1P_thOZs0z"
   },
   "outputs": [],
   "source": [
    "import torch\n",
    "from transformers import AutoModelForSeq2SeqLM, AutoTokenizer, DataCollatorForSeq2Seq, Trainer, TrainingArguments\n",
    "from normalizer import normalize\n",
    "import pandas as pd\n",
    "import numpy as np\n",
    "import nltk\n",
    "from nltk.translate.bleu_score import corpus_bleu\n",
    "from sacrebleu import sentence_bleu\n",
    "from rouge_score import rouge_scorer\n",
    "from sklearn.model_selection import train_test_split\n",
    "import os\n",
    "\n",
    "\n",
    "device = torch.device(\"cuda\" if torch.cuda.is_available() else \"cpu\")"
   ]
  },
  {
   "cell_type": "code",
   "execution_count": null,
   "metadata": {
    "id": "_r2KXdcLOII8"
   },
   "outputs": [],
   "source": [
    "train_data = pd.read_csv(\"/content/Barishal_Translation_Main_Train_Dataset - 1.csv\")\n",
    "test_data = pd.read_csv(\"/content/Barishal_Translation_Main_test_Datase.csv\")\n",
    "validation_data = pd.read_csv(\"/content/Barishal_Main_Validation_Dataset - 1.csv\")"
   ]
  },
  {
   "cell_type": "code",
   "execution_count": null,
   "metadata": {
    "colab": {
     "base_uri": "https://localhost:8080/",
     "height": 206
    },
    "id": "9N7XBlRTfUUI",
    "outputId": "33c03ffb-20f3-4362-f387-cd98e63fe2e6"
   },
   "outputs": [],
   "source": [
    "train_data.head()"
   ]
  },
  {
   "cell_type": "code",
   "execution_count": null,
   "metadata": {
    "colab": {
     "base_uri": "https://localhost:8080/",
     "height": 206
    },
    "id": "fFzjNm-5ojeH",
    "outputId": "a3fac7d9-0530-4082-ec1e-afc0e77dd4ca"
   },
   "outputs": [],
   "source": [
    "# Rename the columns to match the expected format\n",
    "train_data.rename(columns={'Barishal_bangla_speech': 'input_text', 'bangla_speech': 'labels'}, inplace=True)\n",
    "train_data.head()"
   ]
  },
  {
   "cell_type": "code",
   "execution_count": null,
   "metadata": {
    "colab": {
     "base_uri": "https://localhost:8080/",
     "height": 206
    },
    "id": "VyEST6yhfd89",
    "outputId": "d12421be-7976-4885-9508-4089c81718b6"
   },
   "outputs": [],
   "source": [
    "test_data.head()"
   ]
  },
  {
   "cell_type": "code",
   "execution_count": null,
   "metadata": {
    "colab": {
     "base_uri": "https://localhost:8080/",
     "height": 206
    },
    "id": "lx3Dgo0WgLSu",
    "outputId": "f59e9954-c488-4173-bd00-5e439b5b5e1d"
   },
   "outputs": [],
   "source": [
    "# Rename the columns to match the expected format\n",
    "test_data.rename(columns={'Barishal_bangla_speech': 'input_text', 'bangla_speech'\t: 'labels'}, inplace=True)\n",
    "test_data.head()"
   ]
  },
  {
   "cell_type": "code",
   "execution_count": null,
   "metadata": {
    "colab": {
     "base_uri": "https://localhost:8080/",
     "height": 206
    },
    "id": "niWA4tjcfeDt",
    "outputId": "6f582b67-8e74-48dd-b4c9-a42b7e43f0b3"
   },
   "outputs": [],
   "source": [
    "validation_data.head()"
   ]
  },
  {
   "cell_type": "code",
   "execution_count": null,
   "metadata": {
    "colab": {
     "base_uri": "https://localhost:8080/",
     "height": 206
    },
    "id": "5md8H5UqgUkv",
    "outputId": "94f57a97-d30d-4a27-a8be-5650f6f2916b"
   },
   "outputs": [],
   "source": [
    "# Rename the columns to match the expected format\n",
    "validation_data.rename(columns={'Barishal_bangla_speech': 'input_text', 'bangla_speech'\t: 'labels'}, inplace=True)\n",
    "validation_data.head()"
   ]
  },
  {
   "cell_type": "code",
   "execution_count": null,
   "metadata": {
    "colab": {
     "base_uri": "https://localhost:8080/",
     "height": 214,
     "referenced_widgets": [
      "33c15eb9f99b45af81700ff3731b1ad9",
      "4f75a878e93c477bba2b83145c3f77f3",
      "f47289e29afa4e78bdbacf29f821676a",
      "97f0964944664fcebdc42a34cd7a41e7",
      "cbaa32e5e0ad4b0aa1fb5cc257eab12f",
      "c7eaa8b14d1c41469c55103cab62b27d",
      "803ed52e791149f391d43758d84faa47",
      "9d589973ad2d405d9b17c28fccb80c86",
      "fe2d6e688a3a4fbb945fdd896145c03f",
      "41892eb009ca49f9b3636f69bdd1d799",
      "3cde3147248c4c238b8e9438dc8d87ac",
      "c92c428e20a14614912f396845f34962",
      "57309b1f666447bd9a3644d0d5c4d5dc",
      "c1334f0a64ec4de58fe90b6d2b847e4d",
      "2faea6c65bc54477b9d48b2da67f5949",
      "874d35a9c95f40cdbea203da7508ce03",
      "1fdd880e9ff341329285593ea361fe72",
      "1f29fc4db08f4c68a19f978e674737ae",
      "24de232a5c4b41e5a4597ce4b390afa9",
      "60f4053eb2e64ee7b99e34856849fe13",
      "203132a0a9d64e3fa4668e623236b217",
      "fc7d2d6dda7146268684ee71209c325f",
      "637c507e3d47463ea1ec97b064d3bdd9",
      "c3f05bce46a7443c85ede8030f79aa01",
      "80d0ad44af44492d8319afddcab5f898",
      "2187345bb1ba4635913904fbd9badf9c",
      "95bf85a7cceb416ba7c15c8cae838fd4",
      "e2b8e8f0d29d4d238103712a1372c340",
      "6081d0ff5b9c4c28af370374bba3a2b4",
      "d9ef045cba1646c297e5c6ff91679c10",
      "4cc9c8e58fd34c70a0eddd1aa2cb6f23",
      "0f9bc95e4ad945e28dab4b15ca8c56cf",
      "bfeffb7bed42438cb0ab7c3cf7f57f1a",
      "c7b941f2bf814639a62a3b8903f21c68",
      "a1daa6dbe6fe414a8b9ed384aa82f05d",
      "94650dcd62994071a45e388e81f04a01",
      "2ce3344c75ed4c3ab4e991aa5911b523",
      "4409a1910b2944918c04c1978978b591",
      "ace87bca4c4f466880323a21a9ad901b",
      "e45a8d4fccb04388bf04155e4f49bc64",
      "4ab74d2bcfda4deaac75df7f719bf5d2",
      "4bfd59fb48144815bbc4e8d858e875be",
      "0f7fc773ba5e42dda245df2b84f3700b",
      "f371402b5b014b3eb360ccc0f0c074bb",
      "6edd9024dd214fccaf0595c0fa8dedc3",
      "c0612152e40c4cd2bd38b517632d59ee",
      "3db54ba913814c79bb18afcb4316857f",
      "a4c49c235f0f4ab89844f37d6fba876f",
      "ffffe1c55ad14b5ca669ec7f6599a9c4",
      "0a5f91de066d4dbdbbe95b3ccb21ef96",
      "4e8d27bfd8c04f33a83af27a219bf7f0",
      "33266908a5b74d5c8fecd708bd3f011f",
      "7a86b8b20e61401ca379e6efcf24964f",
      "16a7a9005cd64c179f1c276adf8ce92b",
      "c47eb9504cee498cbb68658126bc459e"
     ]
    },
    "id": "EsIxClpzOVGu",
    "outputId": "d0d8c0b7-1d1b-4d52-fffc-14a007917a01"
   },
   "outputs": [],
   "source": [
    "model_name = \"csebuetnlp/banglat5\"\n",
    "model = AutoModelForSeq2SeqLM.from_pretrained(model_name)\n",
    "tokenizer = AutoTokenizer.from_pretrained(model_name, use_fast=False)"
   ]
  },
  {
   "cell_type": "code",
   "execution_count": null,
   "metadata": {
    "colab": {
     "base_uri": "https://localhost:8080/",
     "height": 53
    },
    "id": "MzFbTqE25vQh",
    "outputId": "e5818b0c-12e9-4aea-a9c1-eb804dce99c6"
   },
   "outputs": [],
   "source": [
    "from transformers import AutoModelForSeq2SeqLM, AutoTokenizer\n"
   ]
  },
  {
   "cell_type": "code",
   "execution_count": null,
   "metadata": {
    "id": "A_N5Dzib18PO"
   },
   "outputs": [],
   "source": [
    "from torch.utils.data import Dataset, DataLoader"
   ]
  },
  {
   "cell_type": "code",
   "execution_count": null,
   "metadata": {
    "id": "pKGRnuEh0TGb"
   },
   "outputs": [],
   "source": [
    "class Seq2SeqDataset(Dataset):\n",
    "    def __init__(self, data, tokenizer, max_length=128):\n",
    "        \"\"\"\n",
    "        Args:\n",
    "            data: A DataFrame containing 'input_text' and 'labels' columns.\n",
    "            tokenizer: A Hugging Face tokenizer.\n",
    "            max_length: Maximum sequence length.\n",
    "        \"\"\"\n",
    "        self.input_text = data['input_text'].apply(normalize).tolist()\n",
    "        self.labels = data['labels'].apply(normalize).tolist()\n",
    "        self.tokenizer = tokenizer\n",
    "        self.max_length = max_length\n",
    "\n",
    "    def __len__(self):\n",
    "        return len(self.input_text)\n",
    "\n",
    "    def __getitem__(self, idx):\n",
    "        input_text = self.input_text[idx]\n",
    "        label_text = self.labels[idx]\n",
    "\n",
    "        # Tokenize the input text\n",
    "        input_encodings = self.tokenizer(\n",
    "            input_text,\n",
    "            truncation=True,\n",
    "            padding='max_length',\n",
    "            max_length=self.max_length,\n",
    "            return_tensors='pt'\n",
    "        )\n",
    "\n",
    "        # Tokenize the label text to get its 'input_ids' and 'attention_mask'\n",
    "        label_encodings = self.tokenizer(\n",
    "            label_text,\n",
    "            truncation=True,\n",
    "            padding='max_length',\n",
    "            max_length=self.max_length,\n",
    "            return_tensors='pt'\n",
    "        )\n",
    "\n",
    "        return {\n",
    "            'input_ids': input_encodings['input_ids'].squeeze(),\n",
    "            'attention_mask': input_encodings['attention_mask'].squeeze(),\n",
    "            'labels': label_encodings['input_ids'].squeeze(),\n",
    "        }\n"
   ]
  },
  {
   "cell_type": "code",
   "execution_count": null,
   "metadata": {
    "id": "LStEDAlZ1wYg"
   },
   "outputs": [],
   "source": [
    "# Create train , test and validation datasets\n",
    "train_dataset = Seq2SeqDataset(train_data, tokenizer)\n",
    "test_dataset = Seq2SeqDataset(test_data, tokenizer)\n",
    "validation_dataset = Seq2SeqDataset(validation_data, tokenizer)\n",
    "\n",
    "# Create train , test and validation dataloaders\n",
    "train_dataloader = DataLoader(train_dataset, batch_size=16, shuffle=True)  #batch_size=32\n",
    "test_dataloader = DataLoader(test_dataset, batch_size=16) #batch_size=32\n",
    "validation_dataloader = DataLoader(validation_dataset, batch_size=16) #batch_size=32\n"
   ]
  },
  {
   "cell_type": "markdown",
   "metadata": {
    "id": "mKPOxrLV2Y4r"
   },
   "source": [
    "# **For training dataset**"
   ]
  },
  {
   "cell_type": "code",
   "execution_count": null,
   "metadata": {
    "colab": {
     "base_uri": "https://localhost:8080/",
     "height": 35
    },
    "id": "IFSIhjlmbhjD",
    "outputId": "51858df3-2e76-4b17-9314-78e3f5bffdba"
   },
   "outputs": [],
   "source": [
    "# Assuming you have already created the train_dataloader\n",
    "for data_point in train_dataloader:\n",
    "    input_ids = data_point['input_ids']\n",
    "    attention_mask = data_point['attention_mask']\n",
    "    labels = data_point['labels']\n",
    "''' print(\"Input IDs:\", input_ids)\n",
    "    print(\"Attention Mask:\", attention_mask)\n",
    "    print(\"Labels:\", labels)\n",
    "'''"
   ]
  },
  {
   "cell_type": "markdown",
   "metadata": {
    "id": "OA4f3Os12hi6"
   },
   "source": [
    "# **For test dataset**"
   ]
  },
  {
   "cell_type": "code",
   "execution_count": null,
   "metadata": {
    "colab": {
     "base_uri": "https://localhost:8080/",
     "height": 35
    },
    "id": "hL_Z6OEc2S5Q",
    "outputId": "fc564a5e-fd83-4dc2-cf45-df3f57b33e0e"
   },
   "outputs": [],
   "source": [
    "# Assuming you have already created the test_dataloader\n",
    "for data_point in test_dataloader:\n",
    "    input_ids = data_point['input_ids']\n",
    "    attention_mask = data_point['attention_mask']\n",
    "    labels = data_point['labels']\n",
    "''' print(\"Input IDs:\", input_ids)\n",
    "    print(\"Attention Mask:\", attention_mask)\n",
    "    print(\"Labels:\", labels)\n",
    "'''"
   ]
  },
  {
   "cell_type": "markdown",
   "metadata": {
    "id": "7Vewrso12qdG"
   },
   "source": [
    "# **For validation dataset**"
   ]
  },
  {
   "cell_type": "code",
   "execution_count": null,
   "metadata": {
    "colab": {
     "base_uri": "https://localhost:8080/",
     "height": 35
    },
    "id": "GRJwY9KI2TGp",
    "outputId": "6e487a7f-4fdf-4e74-f277-e2e0e25682f2"
   },
   "outputs": [],
   "source": [
    "# Assuming you have already created the validation_dataloader\n",
    "for data_point in validation_dataloader:\n",
    "    input_ids = data_point['input_ids']\n",
    "    attention_mask = data_point['attention_mask']\n",
    "    labels = data_point['labels']\n",
    "'''    print(\"Input IDs:\", input_ids)\n",
    "    print(\"Attention Mask:\", attention_mask)\n",
    "    print(\"Labels:\", labels)'''"
   ]
  },
  {
   "cell_type": "markdown",
   "metadata": {
    "id": "gkNDot898qY4"
   },
   "source": [
    "# **from training dataset , I have done only one example decoding**"
   ]
  },
  {
   "cell_type": "code",
   "execution_count": null,
   "metadata": {
    "colab": {
     "base_uri": "https://localhost:8080/"
    },
    "id": "E7oYSMV87guP",
    "outputId": "5a90efe5-e85e-4cd1-87dc-8a9587689aaf"
   },
   "outputs": [],
   "source": [
    "# Assuming you have already created the train_dataloader with shuffle\n",
    "for data_point in train_dataloader:\n",
    "    input_ids = data_point['input_ids'][0]  # Assuming you want the first example\n",
    "    attention_mask = data_point['attention_mask'][0]\n",
    "    labels = data_point['labels'][0]\n",
    "\n",
    "    # Decode input_ids and labels\n",
    "    input_text = tokenizer.decode(input_ids, skip_special_tokens=True)\n",
    "    output_text = tokenizer.decode(labels, skip_special_tokens=True)\n",
    "\n",
    "    print(\"Input Text:\", input_text)\n",
    "    print(\"Output Text:\", output_text)\n",
    "\n",
    "    # Exit the loop after processing the first example\n",
    "    break\n"
   ]
  },
  {
   "cell_type": "markdown",
   "metadata": {
    "id": "eolxOhpl85CZ"
   },
   "source": [
    "# **from testing dataset , I have done only one example decoding**"
   ]
  },
  {
   "cell_type": "code",
   "execution_count": null,
   "metadata": {
    "colab": {
     "base_uri": "https://localhost:8080/"
    },
    "id": "-XDYMy3M8e_z",
    "outputId": "442371d8-0d00-45ca-af22-caced80494ab"
   },
   "outputs": [],
   "source": [
    "# Assuming you have already created the test_dataloader\n",
    "for data_point in test_dataloader:\n",
    "    input_ids = data_point['input_ids'][0]  # Assuming you want the first example\n",
    "    attention_mask = data_point['attention_mask'][0]\n",
    "    labels = data_point['labels'][0]\n",
    "\n",
    "    # Decode input_ids and labels\n",
    "    input_text = tokenizer.decode(input_ids, skip_special_tokens=True)\n",
    "    output_text = tokenizer.decode(labels, skip_special_tokens=True)\n",
    "\n",
    "    print(\"Input Text:\", input_text)\n",
    "    print(\"Output Text:\", output_text)\n",
    "\n",
    "    # Exit the loop after processing the first example\n",
    "    break\n"
   ]
  },
  {
   "cell_type": "markdown",
   "metadata": {
    "id": "07ss82iB8_FU"
   },
   "source": [
    "# **from validation dataset , I have done only one example decoding**"
   ]
  },
  {
   "cell_type": "code",
   "execution_count": null,
   "metadata": {
    "colab": {
     "base_uri": "https://localhost:8080/"
    },
    "id": "owsfzR4v8fm6",
    "outputId": "a0ebb8d9-b4f4-4631-c0a5-aea50269f9bc"
   },
   "outputs": [],
   "source": [
    "# Assuming you have already created the validation_dataloader\n",
    "for data_point in validation_dataloader:\n",
    "    input_ids = data_point['input_ids'][0]  # Assuming you want the first example\n",
    "    attention_mask = data_point['attention_mask'][0]\n",
    "    labels = data_point['labels'][0]\n",
    "\n",
    "    # Decode input_ids and labels\n",
    "    input_text = tokenizer.decode(input_ids, skip_special_tokens=True)\n",
    "    output_text = tokenizer.decode(labels, skip_special_tokens=True)\n",
    "\n",
    "    print(\"Input Text:\", input_text)\n",
    "    print(\"Output Text:\", output_text)\n",
    "\n",
    "    # Exit the loop after processing the first example\n",
    "    break\n"
   ]
  },
  {
   "cell_type": "code",
   "execution_count": null,
   "metadata": {
    "colab": {
     "base_uri": "https://localhost:8080/"
    },
    "id": "Gd87PmBkeAY2",
    "outputId": "6851bdd5-bf50-4425-a16d-482a258b333b"
   },
   "outputs": [],
   "source": [
    "# Move the model to the device (CPU or GPU)\n",
    "model.to(device)"
   ]
  },
  {
   "cell_type": "code",
   "execution_count": null,
   "metadata": {
    "id": "lieCrycOdqHr"
   },
   "outputs": [],
   "source": [
    "from transformers import TrainingArguments\n",
    "from transformers import AdamW\n",
    "\n",
    "from torch.optim import AdamW\n",
    "\n",
    "# Create a custom optimizer using torch.optim.AdamW\n",
    "custom_optimizer = AdamW(\n",
    "    model.parameters(),\n",
    "    lr=1e-3,  # Learning rate\n",
    "    eps=1e-8,  # Epsilon value to prevent division by zero\n",
    "    weight_decay=0.01,  # Weight decay (L2 regularization)\n",
    ")\n",
    "\n",
    "#if you have 1,000 training examples and a batch size of 100, you would have 10 iterations in each epoch (1,000 / 100 = 10)\n",
    "'''\n",
    "This parameter determines how many small batches are accumulated before performing a weight update.\n",
    "In your code, it's set to 8, which means you'll accumulate gradients over 8 small batches before performing a weight update.\n",
    "This effectively simulates a larger batch size without requiring more GPU memory.\n",
    "So, you are updating the model's weights less frequently compared to the number of actual batches processed.\n",
    "'''\n",
    "\n",
    "\n",
    "\n",
    "'''\n",
    "Learning rate determines how quickly the model learns from the data.\n",
    "The learning rate scheduler type is set to \"cosine_with_restarts,\" which is a type of learning rate schedule.\n",
    " Warmup steps are the number of initial training steps with a smaller learning rate, and weight decay introduces L2 regularization to the optimizer.\n",
    "'''\n",
    "\n",
    "\n",
    "\n",
    "'''\n",
    "Number of Iterations per Epoch = Number of Training Samples / Batch Size\n",
    "Total Iterations = Number of Iterations per Epoch * Number of Epochs\n",
    "'''\n",
    "# Define the TrainingArguments\n",
    "training_args = TrainingArguments(\n",
    "    output_dir='/content/drive/MyDrive/movie',\n",
    "    num_train_epochs=50,\n",
    "    per_device_train_batch_size=6,\n",
    "    gradient_accumulation_steps=8,  # Accumulate gradients over 8 small batches\n",
    "    evaluation_strategy=\"steps\",\n",
    "    eval_steps=100,\n",
    "    save_total_limit=2,\n",
    "    save_steps=2000,\n",
    "    learning_rate=1e-3,\n",
    "    do_train=True,\n",
    "    do_eval=True,\n",
    "    remove_unused_columns=False,\n",
    "    push_to_hub=False,\n",
    "    report_to=\"none\",\n",
    "    load_best_model_at_end=True,\n",
    "    lr_scheduler_type=\"cosine_with_restarts\",  # Set the learning rate scheduler type\n",
    "    warmup_steps=100,  # Number of warmup steps\n",
    "    weight_decay=0.01,  # Weight decay (L2 regularization)\n",
    "    logging_dir='/content/drive/MyDrive/movie',  # Use the same directory for logs\n",
    "    logging_steps=100,  # Log every 500 steps\n",
    ")\n"
   ]
  },
  {
   "cell_type": "code",
   "execution_count": null,
   "metadata": {
    "id": "yM7jobxRCQ3C"
   },
   "outputs": [],
   "source": [
    "from transformers import DataCollatorForSeq2Seq\n",
    "\n",
    "# Create a data collator for sequence-to-sequence tasks\n",
    "data_collator = DataCollatorForSeq2Seq(\n",
    "    tokenizer=tokenizer,  # Your Hugging Face tokenizer\n",
    "    model=model,\n",
    "    padding=True,\n",
    "    max_length=128,\n",
    "    label_pad_token_id=tokenizer.pad_token_id,\n",
    ")\n"
   ]
  },
  {
   "cell_type": "code",
   "execution_count": null,
   "metadata": {
    "id": "Bc0oxhBLCRP6"
   },
   "outputs": [],
   "source": [
    "\n",
    "# Define the Trainer with the custom optimizer\n",
    "trainer = Trainer(\n",
    "    model=model,\n",
    "    args=training_args,\n",
    "    data_collator=data_collator,\n",
    "    train_dataset=train_dataset,\n",
    "    eval_dataset=validation_dataset,\n",
    "    optimizers=(custom_optimizer, None),  # Pass the custom optimizer here\n",
    ")\n"
   ]
  },
  {
   "cell_type": "markdown",
   "metadata": {
    "id": "wRbFX1xIvIuD"
   },
   "source": [
    "# **Training start here**"
   ]
  },
  {
   "cell_type": "code",
   "execution_count": null,
   "metadata": {
    "colab": {
     "base_uri": "https://localhost:8080/",
     "height": 193
    },
    "id": "FXhfpwIuYqdH",
    "outputId": "5da813aa-c0c7-41c3-fc6d-e3936f5834d1"
   },
   "outputs": [],
   "source": [
    "# Fine-tune the model\n",
    "trainer.train()"
   ]
  },
  {
   "cell_type": "markdown",
   "metadata": {
    "id": "7F23E_DpvChu"
   },
   "source": [
    "# **Saving model and tokenizer**"
   ]
  },
  {
   "cell_type": "code",
   "execution_count": null,
   "metadata": {
    "colab": {
     "base_uri": "https://localhost:8080/"
    },
    "id": "HH4e0lrKVfGW",
    "outputId": "80489e4d-e229-4711-d783-b11d7b259377"
   },
   "outputs": [],
   "source": [
    "from transformers import AutoModelForSeq2SeqLM\n",
    "\n",
    "# Save the model\n",
    "model.save_pretrained(\"/content/drive/MyDrive/movie/Barishal_model.pt\")\n",
    "\n",
    "# Save the tokenizer\n",
    "tokenizer.save_pretrained(\"/content/drive/MyDrive/movie/Barishal_tokenizer.json\")\n"
   ]
  },
  {
   "cell_type": "markdown",
   "metadata": {
    "id": "mvilfm_wvMgy"
   },
   "source": [
    "# **Loading trained model and tokenizer**"
   ]
  },
  {
   "cell_type": "code",
   "execution_count": null,
   "metadata": {
    "id": "qlWR7hxDVfzG"
   },
   "outputs": [],
   "source": [
    "from transformers import AutoModelForSeq2SeqLM, AutoTokenizer\n",
    "\n",
    "# Load the saved model\n",
    "model = AutoModelForSeq2SeqLM.from_pretrained(\"/content/drive/MyDrive/movie/Barishal_model.pt\")\n",
    "\n",
    "# Load the tokenizer\n",
    "tokenizer = AutoTokenizer.from_pretrained(\"/content/drive/MyDrive/movie/Barishal_tokenizer.json\")\n"
   ]
  },
  {
   "cell_type": "code",
   "execution_count": null,
   "metadata": {
    "colab": {
     "base_uri": "https://localhost:8080/"
    },
    "id": "izuKgQ4UUgLN",
    "outputId": "1b53cc0d-bfac-4680-eeb6-97009ab6bfef"
   },
   "outputs": [],
   "source": [
    "!pip install datasets"
   ]
  },
  {
   "cell_type": "code",
   "execution_count": null,
   "metadata": {
    "colab": {
     "base_uri": "https://localhost:8080/"
    },
    "id": "YYgonbylUuHx",
    "outputId": "cb5189a8-fab2-4440-e026-2a91394a35e2"
   },
   "outputs": [],
   "source": [
    "!pip install python-Levenshtein"
   ]
  },
  {
   "cell_type": "code",
   "execution_count": null,
   "metadata": {
    "colab": {
     "base_uri": "https://localhost:8080/"
    },
    "id": "AL4RCOHgU9tA",
    "outputId": "1e1c7c10-2e9f-46d3-92f2-d3d448166af4"
   },
   "outputs": [],
   "source": [
    "!pip install jiwer"
   ]
  },
  {
   "cell_type": "code",
   "execution_count": null,
   "metadata": {
    "colab": {
     "base_uri": "https://localhost:8080/"
    },
    "id": "7ySxLtGWb8eM",
    "outputId": "5cb0c83a-f819-4e34-9b9c-55798cf45aee"
   },
   "outputs": [],
   "source": [
    "# Move the model to the device (CPU or GPU)\n",
    "model.to(device)"
   ]
  },
  {
   "cell_type": "code",
   "execution_count": null,
   "metadata": {
    "colab": {
     "base_uri": "https://localhost:8080/"
    },
    "id": "V0oB40J3jc_B",
    "outputId": "d4227f29-8933-463a-9334-5b3dae668fb5"
   },
   "outputs": [],
   "source": [
    "!pip install rouge-score\n",
    "#https://github.com/google-research/google-research/tree/master/rouge\n",
    "#https://huggingface.co/spaces/evaluate-metric/rouge [Different types of ROUGE scores]"
   ]
  },
  {
   "cell_type": "code",
   "execution_count": null,
   "metadata": {
    "colab": {
     "base_uri": "https://localhost:8080/"
    },
    "id": "EGt3awYZlEyC",
    "outputId": "7eacf4d9-682f-40c6-e9c8-c148e6786ddc"
   },
   "outputs": [],
   "source": [
    "!pip install evaluate"
   ]
  },
  {
   "cell_type": "markdown",
   "metadata": {
    "id": "T-CckuFHvsvy"
   },
   "source": [
    "# **Loading evaluation metrics**"
   ]
  },
  {
   "cell_type": "code",
   "execution_count": null,
   "metadata": {
    "colab": {
     "base_uri": "https://localhost:8080/"
    },
    "id": "tFL6okK2jKb9",
    "outputId": "35c92cb9-48c2-4f27-cfd4-0e22ce0f5011"
   },
   "outputs": [],
   "source": [
    "import torch\n",
    "import Levenshtein\n",
    "from evaluate import load\n",
    "# Define the move_to_device function\n",
    "def move_to_device(batch, device):\n",
    "    if isinstance(batch, torch.Tensor):\n",
    "        return batch.to(device)\n",
    "    elif isinstance(batch, list):\n",
    "        return [move_to_device(item, device) for item in batch]\n",
    "    elif isinstance(batch, dict):\n",
    "        return {key: move_to_device(value, device) for key, value in batch.items()}\n",
    "    else:\n",
    "        return batch  # If it's not a tensor, list, or dict, leave it as is\n",
    "\n",
    "# Load the evaluation metric for Character Error Rate (CER) and Word Error Rate (WER) and Exact Match(em)\n",
    "cer_metric = load(\"cer\")\n",
    "wer_metric = load(\"wer\")\n",
    "meteor = load('meteor')\n",
    "exact_match_metric = load(\"exact_match\")\n",
    "\n",
    "# Load BLEU and ROUGE metrics\n",
    "bleu_metric = load(\"bleu\")\n",
    "rouge_metric = load('rouge')\n",
    "\n",
    "# Initialize lists to store generated translations and references\n",
    "generated_translations = []\n",
    "references = []\n",
    "\n",
    "# Generate translations for the test dataset\n",
    "for batch in test_dataloader:\n",
    "    # Move the batch to CUDA\n",
    "    batch = move_to_device(batch, 'cuda')\n",
    "\n",
    "    input_text = batch['input_ids']  # Access the input_text using the correct key\n",
    "    labels = batch['labels']  # Access the labels using the correct key\n",
    "\n",
    "    # Generate translations\n",
    "    translation_ids = model.generate(input_text, max_length=512, num_beams=4, length_penalty=2.0, early_stopping=True)\n",
    "\n",
    "    # Move the translation_ids to CPU to decode\n",
    "    translation_ids = translation_ids.to('cpu')\n",
    "\n",
    "    generated_translation = tokenizer.batch_decode(translation_ids, skip_special_tokens=True)\n",
    "\n",
    "    generated_translations.extend(generated_translation)\n",
    "    references.extend(tokenizer.batch_decode(labels, skip_special_tokens=True))  # Decoding the label IDs\n",
    "\n",
    "# Make sure to move generated_translations back to CPU for evaluation if necessary\n",
    "generated_translations = [translation if not isinstance(translation, str) else translation for translation in generated_translations]\n",
    "\n"
   ]
  },
  {
   "cell_type": "code",
   "execution_count": null,
   "metadata": {
    "colab": {
     "base_uri": "https://localhost:8080/"
    },
    "id": "q9IzRg_2jk4I",
    "outputId": "db1fa669-0c48-412e-952e-4cadbae5f8f0"
   },
   "outputs": [],
   "source": [
    "print(\"Number of generated translations:\", len(generated_translations))\n",
    "print(\"Number of references:\", len(references))"
   ]
  },
  {
   "cell_type": "code",
   "execution_count": null,
   "metadata": {
    "colab": {
     "base_uri": "https://localhost:8080/"
    },
    "id": "DTOYr3C-oJFy",
    "outputId": "f98bf335-bd07-475d-99ed-c7cfbacdf796"
   },
   "outputs": [],
   "source": [
    "print(generated_translations)"
   ]
  },
  {
   "cell_type": "code",
   "execution_count": null,
   "metadata": {
    "colab": {
     "base_uri": "https://localhost:8080/"
    },
    "id": "RsVL6kv2oQL4",
    "outputId": "5caf86ab-ee7a-40f6-c154-e6af2a9543bb"
   },
   "outputs": [],
   "source": [
    "print(references)"
   ]
  },
  {
   "cell_type": "code",
   "execution_count": null,
   "metadata": {
    "id": "wX5HA_74qZsI"
   },
   "outputs": [],
   "source": [
    "# Calculate Character Error Rate (CER) and Word Error Rate (WER)\n",
    "results_CER = cer_metric.compute(predictions=generated_translations, references=references)\n",
    "results_WER = wer_metric.compute(predictions=generated_translations, references=references)\n",
    "\n",
    "# Calculate Exact Match (EM) and METEOR(M)\n",
    "results_em = exact_match_metric.compute(predictions=generated_translations, references=references)\n",
    "results_met = meteor.compute(predictions=generated_translations, references=references)\n",
    "\n",
    "# Calculate Bilingual Evaluation Understudy (BLEU) and Recall-Oriented Understudy for Gisting Evaluation (ROUGE)\n",
    "results_bleu = bleu_metric.compute(predictions=generated_translations, references=references)\n",
    "results_rouge = rouge_metric.compute(predictions=generated_translations, references=references)\n",
    "\n",
    "\n",
    "# Calculate Levenshtein Distance\n",
    "levenshtein_distances = [Levenshtein.distance(generated, reference) for generated, reference in zip(generated_translations, references)]\n"
   ]
  },
  {
   "cell_type": "markdown",
   "metadata": {
    "id": "Tyf8p-Ppv8ct"
   },
   "source": [
    "# **Printing every evaluation metrics**"
   ]
  },
  {
   "cell_type": "code",
   "execution_count": null,
   "metadata": {
    "colab": {
     "base_uri": "https://localhost:8080/"
    },
    "id": "Q20W2nvCsVOT",
    "outputId": "5a69d551-047b-49a6-b979-f88500a706a6"
   },
   "outputs": [],
   "source": [
    "print(results_CER)\n",
    "print(results_WER)\n",
    "print(results_em)\n",
    "print(results_met)\n",
    "print(results_bleu)\n",
    "print(results_rouge)\n",
    "print(levenshtein_distances)"
   ]
  },
  {
   "cell_type": "code",
   "execution_count": null,
   "metadata": {
    "colab": {
     "base_uri": "https://localhost:8080/"
    },
    "id": "Pteb9P9Nj_ny",
    "outputId": "729ade2f-ec3c-492d-b018-f676a80e8876"
   },
   "outputs": [],
   "source": [
    "total_correct = 0\n",
    "total_samples = len(references)\n",
    "\n",
    "for generated, reference in zip(generated_translations, references):\n",
    "    levenshtein_distance = Levenshtein.distance(generated, reference)\n",
    "    max_length = max(len(generated), len(reference))\n",
    "    accuracy = 1 - (levenshtein_distance / max_length)\n",
    "    if accuracy >= 0.8:  # Adjust the threshold as needed\n",
    "        total_correct += 1\n",
    "\n",
    "accuracy = total_correct / total_samples\n",
    "print(\"Accuracy:\", accuracy)\n"
   ]
  },
  {
   "cell_type": "markdown",
   "metadata": {
    "id": "_2if0TYAwCJg"
   },
   "source": [
    "# **Saving input text(Barishal Language) , labels(normal bangla) and generated translations to csv**"
   ]
  },
  {
   "cell_type": "code",
   "execution_count": null,
   "metadata": {
    "id": "SQm40wAKf8t6"
   },
   "outputs": [],
   "source": [
    "import pandas as pd\n",
    "\n",
    "# Create a DataFrame to store translations\n",
    "translation_df = pd.DataFrame({\n",
    "    'input_text': test_data['input_text'],  # Assuming 'test_data' contains your test dataset\n",
    "    'labels': references,\n",
    "    'translations': generated_translations\n",
    "})\n",
    "\n",
    "# Save translations to a CSV file\n",
    "# Save translations to a CSV file\n",
    "translation_df.to_excel('/content/sample_data/Barishal_translations_BanglaT5.xlsx', index=False)\n"
   ]
  },
  {
   "cell_type": "code",
   "execution_count": null,
   "metadata": {
    "id": "xw_EV6YGbWWc"
   },
   "outputs": [],
   "source": []
  }
 ],
 "metadata": {
  "accelerator": "GPU",
  "colab": {
   "gpuType": "T4",
   "provenance": []
  },
  "kernelspec": {
   "display_name": "Python 3 (ipykernel)",
   "language": "python",
   "name": "python3"
  },
  "language_info": {
   "codemirror_mode": {
    "name": "ipython",
    "version": 3
   },
   "file_extension": ".py",
   "mimetype": "text/x-python",
   "name": "python",
   "nbconvert_exporter": "python",
   "pygments_lexer": "ipython3",
   "version": "3.8.18"
  },
  "widgets": {
   "application/vnd.jupyter.widget-state+json": {
    "0a5f91de066d4dbdbbe95b3ccb21ef96": {
     "model_module": "@jupyter-widgets/base",
     "model_module_version": "1.2.0",
     "model_name": "LayoutModel",
     "state": {
      "_model_module": "@jupyter-widgets/base",
      "_model_module_version": "1.2.0",
      "_model_name": "LayoutModel",
      "_view_count": null,
      "_view_module": "@jupyter-widgets/base",
      "_view_module_version": "1.2.0",
      "_view_name": "LayoutView",
      "align_content": null,
      "align_items": null,
      "align_self": null,
      "border": null,
      "bottom": null,
      "display": null,
      "flex": null,
      "flex_flow": null,
      "grid_area": null,
      "grid_auto_columns": null,
      "grid_auto_flow": null,
      "grid_auto_rows": null,
      "grid_column": null,
      "grid_gap": null,
      "grid_row": null,
      "grid_template_areas": null,
      "grid_template_columns": null,
      "grid_template_rows": null,
      "height": null,
      "justify_content": null,
      "justify_items": null,
      "left": null,
      "margin": null,
      "max_height": null,
      "max_width": null,
      "min_height": null,
      "min_width": null,
      "object_fit": null,
      "object_position": null,
      "order": null,
      "overflow": null,
      "overflow_x": null,
      "overflow_y": null,
      "padding": null,
      "right": null,
      "top": null,
      "visibility": null,
      "width": null
     }
    },
    "0f7fc773ba5e42dda245df2b84f3700b": {
     "model_module": "@jupyter-widgets/base",
     "model_module_version": "1.2.0",
     "model_name": "LayoutModel",
     "state": {
      "_model_module": "@jupyter-widgets/base",
      "_model_module_version": "1.2.0",
      "_model_name": "LayoutModel",
      "_view_count": null,
      "_view_module": "@jupyter-widgets/base",
      "_view_module_version": "1.2.0",
      "_view_name": "LayoutView",
      "align_content": null,
      "align_items": null,
      "align_self": null,
      "border": null,
      "bottom": null,
      "display": null,
      "flex": null,
      "flex_flow": null,
      "grid_area": null,
      "grid_auto_columns": null,
      "grid_auto_flow": null,
      "grid_auto_rows": null,
      "grid_column": null,
      "grid_gap": null,
      "grid_row": null,
      "grid_template_areas": null,
      "grid_template_columns": null,
      "grid_template_rows": null,
      "height": null,
      "justify_content": null,
      "justify_items": null,
      "left": null,
      "margin": null,
      "max_height": null,
      "max_width": null,
      "min_height": null,
      "min_width": null,
      "object_fit": null,
      "object_position": null,
      "order": null,
      "overflow": null,
      "overflow_x": null,
      "overflow_y": null,
      "padding": null,
      "right": null,
      "top": null,
      "visibility": null,
      "width": null
     }
    },
    "0f9bc95e4ad945e28dab4b15ca8c56cf": {
     "model_module": "@jupyter-widgets/base",
     "model_module_version": "1.2.0",
     "model_name": "LayoutModel",
     "state": {
      "_model_module": "@jupyter-widgets/base",
      "_model_module_version": "1.2.0",
      "_model_name": "LayoutModel",
      "_view_count": null,
      "_view_module": "@jupyter-widgets/base",
      "_view_module_version": "1.2.0",
      "_view_name": "LayoutView",
      "align_content": null,
      "align_items": null,
      "align_self": null,
      "border": null,
      "bottom": null,
      "display": null,
      "flex": null,
      "flex_flow": null,
      "grid_area": null,
      "grid_auto_columns": null,
      "grid_auto_flow": null,
      "grid_auto_rows": null,
      "grid_column": null,
      "grid_gap": null,
      "grid_row": null,
      "grid_template_areas": null,
      "grid_template_columns": null,
      "grid_template_rows": null,
      "height": null,
      "justify_content": null,
      "justify_items": null,
      "left": null,
      "margin": null,
      "max_height": null,
      "max_width": null,
      "min_height": null,
      "min_width": null,
      "object_fit": null,
      "object_position": null,
      "order": null,
      "overflow": null,
      "overflow_x": null,
      "overflow_y": null,
      "padding": null,
      "right": null,
      "top": null,
      "visibility": null,
      "width": null
     }
    },
    "16a7a9005cd64c179f1c276adf8ce92b": {
     "model_module": "@jupyter-widgets/base",
     "model_module_version": "1.2.0",
     "model_name": "LayoutModel",
     "state": {
      "_model_module": "@jupyter-widgets/base",
      "_model_module_version": "1.2.0",
      "_model_name": "LayoutModel",
      "_view_count": null,
      "_view_module": "@jupyter-widgets/base",
      "_view_module_version": "1.2.0",
      "_view_name": "LayoutView",
      "align_content": null,
      "align_items": null,
      "align_self": null,
      "border": null,
      "bottom": null,
      "display": null,
      "flex": null,
      "flex_flow": null,
      "grid_area": null,
      "grid_auto_columns": null,
      "grid_auto_flow": null,
      "grid_auto_rows": null,
      "grid_column": null,
      "grid_gap": null,
      "grid_row": null,
      "grid_template_areas": null,
      "grid_template_columns": null,
      "grid_template_rows": null,
      "height": null,
      "justify_content": null,
      "justify_items": null,
      "left": null,
      "margin": null,
      "max_height": null,
      "max_width": null,
      "min_height": null,
      "min_width": null,
      "object_fit": null,
      "object_position": null,
      "order": null,
      "overflow": null,
      "overflow_x": null,
      "overflow_y": null,
      "padding": null,
      "right": null,
      "top": null,
      "visibility": null,
      "width": null
     }
    },
    "1f29fc4db08f4c68a19f978e674737ae": {
     "model_module": "@jupyter-widgets/controls",
     "model_module_version": "1.5.0",
     "model_name": "DescriptionStyleModel",
     "state": {
      "_model_module": "@jupyter-widgets/controls",
      "_model_module_version": "1.5.0",
      "_model_name": "DescriptionStyleModel",
      "_view_count": null,
      "_view_module": "@jupyter-widgets/base",
      "_view_module_version": "1.2.0",
      "_view_name": "StyleView",
      "description_width": ""
     }
    },
    "1fdd880e9ff341329285593ea361fe72": {
     "model_module": "@jupyter-widgets/base",
     "model_module_version": "1.2.0",
     "model_name": "LayoutModel",
     "state": {
      "_model_module": "@jupyter-widgets/base",
      "_model_module_version": "1.2.0",
      "_model_name": "LayoutModel",
      "_view_count": null,
      "_view_module": "@jupyter-widgets/base",
      "_view_module_version": "1.2.0",
      "_view_name": "LayoutView",
      "align_content": null,
      "align_items": null,
      "align_self": null,
      "border": null,
      "bottom": null,
      "display": null,
      "flex": null,
      "flex_flow": null,
      "grid_area": null,
      "grid_auto_columns": null,
      "grid_auto_flow": null,
      "grid_auto_rows": null,
      "grid_column": null,
      "grid_gap": null,
      "grid_row": null,
      "grid_template_areas": null,
      "grid_template_columns": null,
      "grid_template_rows": null,
      "height": null,
      "justify_content": null,
      "justify_items": null,
      "left": null,
      "margin": null,
      "max_height": null,
      "max_width": null,
      "min_height": null,
      "min_width": null,
      "object_fit": null,
      "object_position": null,
      "order": null,
      "overflow": null,
      "overflow_x": null,
      "overflow_y": null,
      "padding": null,
      "right": null,
      "top": null,
      "visibility": null,
      "width": null
     }
    },
    "203132a0a9d64e3fa4668e623236b217": {
     "model_module": "@jupyter-widgets/base",
     "model_module_version": "1.2.0",
     "model_name": "LayoutModel",
     "state": {
      "_model_module": "@jupyter-widgets/base",
      "_model_module_version": "1.2.0",
      "_model_name": "LayoutModel",
      "_view_count": null,
      "_view_module": "@jupyter-widgets/base",
      "_view_module_version": "1.2.0",
      "_view_name": "LayoutView",
      "align_content": null,
      "align_items": null,
      "align_self": null,
      "border": null,
      "bottom": null,
      "display": null,
      "flex": null,
      "flex_flow": null,
      "grid_area": null,
      "grid_auto_columns": null,
      "grid_auto_flow": null,
      "grid_auto_rows": null,
      "grid_column": null,
      "grid_gap": null,
      "grid_row": null,
      "grid_template_areas": null,
      "grid_template_columns": null,
      "grid_template_rows": null,
      "height": null,
      "justify_content": null,
      "justify_items": null,
      "left": null,
      "margin": null,
      "max_height": null,
      "max_width": null,
      "min_height": null,
      "min_width": null,
      "object_fit": null,
      "object_position": null,
      "order": null,
      "overflow": null,
      "overflow_x": null,
      "overflow_y": null,
      "padding": null,
      "right": null,
      "top": null,
      "visibility": null,
      "width": null
     }
    },
    "2187345bb1ba4635913904fbd9badf9c": {
     "model_module": "@jupyter-widgets/controls",
     "model_module_version": "1.5.0",
     "model_name": "HTMLModel",
     "state": {
      "_dom_classes": [],
      "_model_module": "@jupyter-widgets/controls",
      "_model_module_version": "1.5.0",
      "_model_name": "HTMLModel",
      "_view_count": null,
      "_view_module": "@jupyter-widgets/controls",
      "_view_module_version": "1.5.0",
      "_view_name": "HTMLView",
      "description": "",
      "description_tooltip": null,
      "layout": "IPY_MODEL_0f9bc95e4ad945e28dab4b15ca8c56cf",
      "placeholder": "​",
      "style": "IPY_MODEL_bfeffb7bed42438cb0ab7c3cf7f57f1a",
      "value": " 1.83k/1.83k [00:00&lt;00:00, 101kB/s]"
     }
    },
    "24de232a5c4b41e5a4597ce4b390afa9": {
     "model_module": "@jupyter-widgets/base",
     "model_module_version": "1.2.0",
     "model_name": "LayoutModel",
     "state": {
      "_model_module": "@jupyter-widgets/base",
      "_model_module_version": "1.2.0",
      "_model_name": "LayoutModel",
      "_view_count": null,
      "_view_module": "@jupyter-widgets/base",
      "_view_module_version": "1.2.0",
      "_view_name": "LayoutView",
      "align_content": null,
      "align_items": null,
      "align_self": null,
      "border": null,
      "bottom": null,
      "display": null,
      "flex": null,
      "flex_flow": null,
      "grid_area": null,
      "grid_auto_columns": null,
      "grid_auto_flow": null,
      "grid_auto_rows": null,
      "grid_column": null,
      "grid_gap": null,
      "grid_row": null,
      "grid_template_areas": null,
      "grid_template_columns": null,
      "grid_template_rows": null,
      "height": null,
      "justify_content": null,
      "justify_items": null,
      "left": null,
      "margin": null,
      "max_height": null,
      "max_width": null,
      "min_height": null,
      "min_width": null,
      "object_fit": null,
      "object_position": null,
      "order": null,
      "overflow": null,
      "overflow_x": null,
      "overflow_y": null,
      "padding": null,
      "right": null,
      "top": null,
      "visibility": null,
      "width": null
     }
    },
    "2ce3344c75ed4c3ab4e991aa5911b523": {
     "model_module": "@jupyter-widgets/controls",
     "model_module_version": "1.5.0",
     "model_name": "HTMLModel",
     "state": {
      "_dom_classes": [],
      "_model_module": "@jupyter-widgets/controls",
      "_model_module_version": "1.5.0",
      "_model_name": "HTMLModel",
      "_view_count": null,
      "_view_module": "@jupyter-widgets/controls",
      "_view_module_version": "1.5.0",
      "_view_name": "HTMLView",
      "description": "",
      "description_tooltip": null,
      "layout": "IPY_MODEL_0f7fc773ba5e42dda245df2b84f3700b",
      "placeholder": "​",
      "style": "IPY_MODEL_f371402b5b014b3eb360ccc0f0c074bb",
      "value": " 1.11M/1.11M [00:00&lt;00:00, 3.69MB/s]"
     }
    },
    "2faea6c65bc54477b9d48b2da67f5949": {
     "model_module": "@jupyter-widgets/controls",
     "model_module_version": "1.5.0",
     "model_name": "HTMLModel",
     "state": {
      "_dom_classes": [],
      "_model_module": "@jupyter-widgets/controls",
      "_model_module_version": "1.5.0",
      "_model_name": "HTMLModel",
      "_view_count": null,
      "_view_module": "@jupyter-widgets/controls",
      "_view_module_version": "1.5.0",
      "_view_name": "HTMLView",
      "description": "",
      "description_tooltip": null,
      "layout": "IPY_MODEL_203132a0a9d64e3fa4668e623236b217",
      "placeholder": "​",
      "style": "IPY_MODEL_fc7d2d6dda7146268684ee71209c325f",
      "value": " 990M/990M [00:24&lt;00:00, 39.3MB/s]"
     }
    },
    "33266908a5b74d5c8fecd708bd3f011f": {
     "model_module": "@jupyter-widgets/base",
     "model_module_version": "1.2.0",
     "model_name": "LayoutModel",
     "state": {
      "_model_module": "@jupyter-widgets/base",
      "_model_module_version": "1.2.0",
      "_model_name": "LayoutModel",
      "_view_count": null,
      "_view_module": "@jupyter-widgets/base",
      "_view_module_version": "1.2.0",
      "_view_name": "LayoutView",
      "align_content": null,
      "align_items": null,
      "align_self": null,
      "border": null,
      "bottom": null,
      "display": null,
      "flex": null,
      "flex_flow": null,
      "grid_area": null,
      "grid_auto_columns": null,
      "grid_auto_flow": null,
      "grid_auto_rows": null,
      "grid_column": null,
      "grid_gap": null,
      "grid_row": null,
      "grid_template_areas": null,
      "grid_template_columns": null,
      "grid_template_rows": null,
      "height": null,
      "justify_content": null,
      "justify_items": null,
      "left": null,
      "margin": null,
      "max_height": null,
      "max_width": null,
      "min_height": null,
      "min_width": null,
      "object_fit": null,
      "object_position": null,
      "order": null,
      "overflow": null,
      "overflow_x": null,
      "overflow_y": null,
      "padding": null,
      "right": null,
      "top": null,
      "visibility": null,
      "width": null
     }
    },
    "33c15eb9f99b45af81700ff3731b1ad9": {
     "model_module": "@jupyter-widgets/controls",
     "model_module_version": "1.5.0",
     "model_name": "HBoxModel",
     "state": {
      "_dom_classes": [],
      "_model_module": "@jupyter-widgets/controls",
      "_model_module_version": "1.5.0",
      "_model_name": "HBoxModel",
      "_view_count": null,
      "_view_module": "@jupyter-widgets/controls",
      "_view_module_version": "1.5.0",
      "_view_name": "HBoxView",
      "box_style": "",
      "children": [
       "IPY_MODEL_4f75a878e93c477bba2b83145c3f77f3",
       "IPY_MODEL_f47289e29afa4e78bdbacf29f821676a",
       "IPY_MODEL_97f0964944664fcebdc42a34cd7a41e7"
      ],
      "layout": "IPY_MODEL_cbaa32e5e0ad4b0aa1fb5cc257eab12f"
     }
    },
    "3cde3147248c4c238b8e9438dc8d87ac": {
     "model_module": "@jupyter-widgets/controls",
     "model_module_version": "1.5.0",
     "model_name": "DescriptionStyleModel",
     "state": {
      "_model_module": "@jupyter-widgets/controls",
      "_model_module_version": "1.5.0",
      "_model_name": "DescriptionStyleModel",
      "_view_count": null,
      "_view_module": "@jupyter-widgets/base",
      "_view_module_version": "1.2.0",
      "_view_name": "StyleView",
      "description_width": ""
     }
    },
    "3db54ba913814c79bb18afcb4316857f": {
     "model_module": "@jupyter-widgets/controls",
     "model_module_version": "1.5.0",
     "model_name": "FloatProgressModel",
     "state": {
      "_dom_classes": [],
      "_model_module": "@jupyter-widgets/controls",
      "_model_module_version": "1.5.0",
      "_model_name": "FloatProgressModel",
      "_view_count": null,
      "_view_module": "@jupyter-widgets/controls",
      "_view_module_version": "1.5.0",
      "_view_name": "ProgressView",
      "bar_style": "success",
      "description": "",
      "description_tooltip": null,
      "layout": "IPY_MODEL_33266908a5b74d5c8fecd708bd3f011f",
      "max": 1786,
      "min": 0,
      "orientation": "horizontal",
      "style": "IPY_MODEL_7a86b8b20e61401ca379e6efcf24964f",
      "value": 1786
     }
    },
    "41892eb009ca49f9b3636f69bdd1d799": {
     "model_module": "@jupyter-widgets/base",
     "model_module_version": "1.2.0",
     "model_name": "LayoutModel",
     "state": {
      "_model_module": "@jupyter-widgets/base",
      "_model_module_version": "1.2.0",
      "_model_name": "LayoutModel",
      "_view_count": null,
      "_view_module": "@jupyter-widgets/base",
      "_view_module_version": "1.2.0",
      "_view_name": "LayoutView",
      "align_content": null,
      "align_items": null,
      "align_self": null,
      "border": null,
      "bottom": null,
      "display": null,
      "flex": null,
      "flex_flow": null,
      "grid_area": null,
      "grid_auto_columns": null,
      "grid_auto_flow": null,
      "grid_auto_rows": null,
      "grid_column": null,
      "grid_gap": null,
      "grid_row": null,
      "grid_template_areas": null,
      "grid_template_columns": null,
      "grid_template_rows": null,
      "height": null,
      "justify_content": null,
      "justify_items": null,
      "left": null,
      "margin": null,
      "max_height": null,
      "max_width": null,
      "min_height": null,
      "min_width": null,
      "object_fit": null,
      "object_position": null,
      "order": null,
      "overflow": null,
      "overflow_x": null,
      "overflow_y": null,
      "padding": null,
      "right": null,
      "top": null,
      "visibility": null,
      "width": null
     }
    },
    "4409a1910b2944918c04c1978978b591": {
     "model_module": "@jupyter-widgets/base",
     "model_module_version": "1.2.0",
     "model_name": "LayoutModel",
     "state": {
      "_model_module": "@jupyter-widgets/base",
      "_model_module_version": "1.2.0",
      "_model_name": "LayoutModel",
      "_view_count": null,
      "_view_module": "@jupyter-widgets/base",
      "_view_module_version": "1.2.0",
      "_view_name": "LayoutView",
      "align_content": null,
      "align_items": null,
      "align_self": null,
      "border": null,
      "bottom": null,
      "display": null,
      "flex": null,
      "flex_flow": null,
      "grid_area": null,
      "grid_auto_columns": null,
      "grid_auto_flow": null,
      "grid_auto_rows": null,
      "grid_column": null,
      "grid_gap": null,
      "grid_row": null,
      "grid_template_areas": null,
      "grid_template_columns": null,
      "grid_template_rows": null,
      "height": null,
      "justify_content": null,
      "justify_items": null,
      "left": null,
      "margin": null,
      "max_height": null,
      "max_width": null,
      "min_height": null,
      "min_width": null,
      "object_fit": null,
      "object_position": null,
      "order": null,
      "overflow": null,
      "overflow_x": null,
      "overflow_y": null,
      "padding": null,
      "right": null,
      "top": null,
      "visibility": null,
      "width": null
     }
    },
    "4ab74d2bcfda4deaac75df7f719bf5d2": {
     "model_module": "@jupyter-widgets/base",
     "model_module_version": "1.2.0",
     "model_name": "LayoutModel",
     "state": {
      "_model_module": "@jupyter-widgets/base",
      "_model_module_version": "1.2.0",
      "_model_name": "LayoutModel",
      "_view_count": null,
      "_view_module": "@jupyter-widgets/base",
      "_view_module_version": "1.2.0",
      "_view_name": "LayoutView",
      "align_content": null,
      "align_items": null,
      "align_self": null,
      "border": null,
      "bottom": null,
      "display": null,
      "flex": null,
      "flex_flow": null,
      "grid_area": null,
      "grid_auto_columns": null,
      "grid_auto_flow": null,
      "grid_auto_rows": null,
      "grid_column": null,
      "grid_gap": null,
      "grid_row": null,
      "grid_template_areas": null,
      "grid_template_columns": null,
      "grid_template_rows": null,
      "height": null,
      "justify_content": null,
      "justify_items": null,
      "left": null,
      "margin": null,
      "max_height": null,
      "max_width": null,
      "min_height": null,
      "min_width": null,
      "object_fit": null,
      "object_position": null,
      "order": null,
      "overflow": null,
      "overflow_x": null,
      "overflow_y": null,
      "padding": null,
      "right": null,
      "top": null,
      "visibility": null,
      "width": null
     }
    },
    "4bfd59fb48144815bbc4e8d858e875be": {
     "model_module": "@jupyter-widgets/controls",
     "model_module_version": "1.5.0",
     "model_name": "ProgressStyleModel",
     "state": {
      "_model_module": "@jupyter-widgets/controls",
      "_model_module_version": "1.5.0",
      "_model_name": "ProgressStyleModel",
      "_view_count": null,
      "_view_module": "@jupyter-widgets/base",
      "_view_module_version": "1.2.0",
      "_view_name": "StyleView",
      "bar_color": null,
      "description_width": ""
     }
    },
    "4cc9c8e58fd34c70a0eddd1aa2cb6f23": {
     "model_module": "@jupyter-widgets/controls",
     "model_module_version": "1.5.0",
     "model_name": "ProgressStyleModel",
     "state": {
      "_model_module": "@jupyter-widgets/controls",
      "_model_module_version": "1.5.0",
      "_model_name": "ProgressStyleModel",
      "_view_count": null,
      "_view_module": "@jupyter-widgets/base",
      "_view_module_version": "1.2.0",
      "_view_name": "StyleView",
      "bar_color": null,
      "description_width": ""
     }
    },
    "4e8d27bfd8c04f33a83af27a219bf7f0": {
     "model_module": "@jupyter-widgets/controls",
     "model_module_version": "1.5.0",
     "model_name": "DescriptionStyleModel",
     "state": {
      "_model_module": "@jupyter-widgets/controls",
      "_model_module_version": "1.5.0",
      "_model_name": "DescriptionStyleModel",
      "_view_count": null,
      "_view_module": "@jupyter-widgets/base",
      "_view_module_version": "1.2.0",
      "_view_name": "StyleView",
      "description_width": ""
     }
    },
    "4f75a878e93c477bba2b83145c3f77f3": {
     "model_module": "@jupyter-widgets/controls",
     "model_module_version": "1.5.0",
     "model_name": "HTMLModel",
     "state": {
      "_dom_classes": [],
      "_model_module": "@jupyter-widgets/controls",
      "_model_module_version": "1.5.0",
      "_model_name": "HTMLModel",
      "_view_count": null,
      "_view_module": "@jupyter-widgets/controls",
      "_view_module_version": "1.5.0",
      "_view_name": "HTMLView",
      "description": "",
      "description_tooltip": null,
      "layout": "IPY_MODEL_c7eaa8b14d1c41469c55103cab62b27d",
      "placeholder": "​",
      "style": "IPY_MODEL_803ed52e791149f391d43758d84faa47",
      "value": "Downloading (…)lve/main/config.json: 100%"
     }
    },
    "57309b1f666447bd9a3644d0d5c4d5dc": {
     "model_module": "@jupyter-widgets/controls",
     "model_module_version": "1.5.0",
     "model_name": "HTMLModel",
     "state": {
      "_dom_classes": [],
      "_model_module": "@jupyter-widgets/controls",
      "_model_module_version": "1.5.0",
      "_model_name": "HTMLModel",
      "_view_count": null,
      "_view_module": "@jupyter-widgets/controls",
      "_view_module_version": "1.5.0",
      "_view_name": "HTMLView",
      "description": "",
      "description_tooltip": null,
      "layout": "IPY_MODEL_1fdd880e9ff341329285593ea361fe72",
      "placeholder": "​",
      "style": "IPY_MODEL_1f29fc4db08f4c68a19f978e674737ae",
      "value": "Downloading pytorch_model.bin: 100%"
     }
    },
    "6081d0ff5b9c4c28af370374bba3a2b4": {
     "model_module": "@jupyter-widgets/controls",
     "model_module_version": "1.5.0",
     "model_name": "DescriptionStyleModel",
     "state": {
      "_model_module": "@jupyter-widgets/controls",
      "_model_module_version": "1.5.0",
      "_model_name": "DescriptionStyleModel",
      "_view_count": null,
      "_view_module": "@jupyter-widgets/base",
      "_view_module_version": "1.2.0",
      "_view_name": "StyleView",
      "description_width": ""
     }
    },
    "60f4053eb2e64ee7b99e34856849fe13": {
     "model_module": "@jupyter-widgets/controls",
     "model_module_version": "1.5.0",
     "model_name": "ProgressStyleModel",
     "state": {
      "_model_module": "@jupyter-widgets/controls",
      "_model_module_version": "1.5.0",
      "_model_name": "ProgressStyleModel",
      "_view_count": null,
      "_view_module": "@jupyter-widgets/base",
      "_view_module_version": "1.2.0",
      "_view_name": "StyleView",
      "bar_color": null,
      "description_width": ""
     }
    },
    "637c507e3d47463ea1ec97b064d3bdd9": {
     "model_module": "@jupyter-widgets/controls",
     "model_module_version": "1.5.0",
     "model_name": "HBoxModel",
     "state": {
      "_dom_classes": [],
      "_model_module": "@jupyter-widgets/controls",
      "_model_module_version": "1.5.0",
      "_model_name": "HBoxModel",
      "_view_count": null,
      "_view_module": "@jupyter-widgets/controls",
      "_view_module_version": "1.5.0",
      "_view_name": "HBoxView",
      "box_style": "",
      "children": [
       "IPY_MODEL_c3f05bce46a7443c85ede8030f79aa01",
       "IPY_MODEL_80d0ad44af44492d8319afddcab5f898",
       "IPY_MODEL_2187345bb1ba4635913904fbd9badf9c"
      ],
      "layout": "IPY_MODEL_95bf85a7cceb416ba7c15c8cae838fd4"
     }
    },
    "6edd9024dd214fccaf0595c0fa8dedc3": {
     "model_module": "@jupyter-widgets/controls",
     "model_module_version": "1.5.0",
     "model_name": "HBoxModel",
     "state": {
      "_dom_classes": [],
      "_model_module": "@jupyter-widgets/controls",
      "_model_module_version": "1.5.0",
      "_model_name": "HBoxModel",
      "_view_count": null,
      "_view_module": "@jupyter-widgets/controls",
      "_view_module_version": "1.5.0",
      "_view_name": "HBoxView",
      "box_style": "",
      "children": [
       "IPY_MODEL_c0612152e40c4cd2bd38b517632d59ee",
       "IPY_MODEL_3db54ba913814c79bb18afcb4316857f",
       "IPY_MODEL_a4c49c235f0f4ab89844f37d6fba876f"
      ],
      "layout": "IPY_MODEL_ffffe1c55ad14b5ca669ec7f6599a9c4"
     }
    },
    "7a86b8b20e61401ca379e6efcf24964f": {
     "model_module": "@jupyter-widgets/controls",
     "model_module_version": "1.5.0",
     "model_name": "ProgressStyleModel",
     "state": {
      "_model_module": "@jupyter-widgets/controls",
      "_model_module_version": "1.5.0",
      "_model_name": "ProgressStyleModel",
      "_view_count": null,
      "_view_module": "@jupyter-widgets/base",
      "_view_module_version": "1.2.0",
      "_view_name": "StyleView",
      "bar_color": null,
      "description_width": ""
     }
    },
    "803ed52e791149f391d43758d84faa47": {
     "model_module": "@jupyter-widgets/controls",
     "model_module_version": "1.5.0",
     "model_name": "DescriptionStyleModel",
     "state": {
      "_model_module": "@jupyter-widgets/controls",
      "_model_module_version": "1.5.0",
      "_model_name": "DescriptionStyleModel",
      "_view_count": null,
      "_view_module": "@jupyter-widgets/base",
      "_view_module_version": "1.2.0",
      "_view_name": "StyleView",
      "description_width": ""
     }
    },
    "80d0ad44af44492d8319afddcab5f898": {
     "model_module": "@jupyter-widgets/controls",
     "model_module_version": "1.5.0",
     "model_name": "FloatProgressModel",
     "state": {
      "_dom_classes": [],
      "_model_module": "@jupyter-widgets/controls",
      "_model_module_version": "1.5.0",
      "_model_name": "FloatProgressModel",
      "_view_count": null,
      "_view_module": "@jupyter-widgets/controls",
      "_view_module_version": "1.5.0",
      "_view_name": "ProgressView",
      "bar_style": "success",
      "description": "",
      "description_tooltip": null,
      "layout": "IPY_MODEL_d9ef045cba1646c297e5c6ff91679c10",
      "max": 1829,
      "min": 0,
      "orientation": "horizontal",
      "style": "IPY_MODEL_4cc9c8e58fd34c70a0eddd1aa2cb6f23",
      "value": 1829
     }
    },
    "874d35a9c95f40cdbea203da7508ce03": {
     "model_module": "@jupyter-widgets/base",
     "model_module_version": "1.2.0",
     "model_name": "LayoutModel",
     "state": {
      "_model_module": "@jupyter-widgets/base",
      "_model_module_version": "1.2.0",
      "_model_name": "LayoutModel",
      "_view_count": null,
      "_view_module": "@jupyter-widgets/base",
      "_view_module_version": "1.2.0",
      "_view_name": "LayoutView",
      "align_content": null,
      "align_items": null,
      "align_self": null,
      "border": null,
      "bottom": null,
      "display": null,
      "flex": null,
      "flex_flow": null,
      "grid_area": null,
      "grid_auto_columns": null,
      "grid_auto_flow": null,
      "grid_auto_rows": null,
      "grid_column": null,
      "grid_gap": null,
      "grid_row": null,
      "grid_template_areas": null,
      "grid_template_columns": null,
      "grid_template_rows": null,
      "height": null,
      "justify_content": null,
      "justify_items": null,
      "left": null,
      "margin": null,
      "max_height": null,
      "max_width": null,
      "min_height": null,
      "min_width": null,
      "object_fit": null,
      "object_position": null,
      "order": null,
      "overflow": null,
      "overflow_x": null,
      "overflow_y": null,
      "padding": null,
      "right": null,
      "top": null,
      "visibility": null,
      "width": null
     }
    },
    "94650dcd62994071a45e388e81f04a01": {
     "model_module": "@jupyter-widgets/controls",
     "model_module_version": "1.5.0",
     "model_name": "FloatProgressModel",
     "state": {
      "_dom_classes": [],
      "_model_module": "@jupyter-widgets/controls",
      "_model_module_version": "1.5.0",
      "_model_name": "FloatProgressModel",
      "_view_count": null,
      "_view_module": "@jupyter-widgets/controls",
      "_view_module_version": "1.5.0",
      "_view_name": "ProgressView",
      "bar_style": "success",
      "description": "",
      "description_tooltip": null,
      "layout": "IPY_MODEL_4ab74d2bcfda4deaac75df7f719bf5d2",
      "max": 1111492,
      "min": 0,
      "orientation": "horizontal",
      "style": "IPY_MODEL_4bfd59fb48144815bbc4e8d858e875be",
      "value": 1111492
     }
    },
    "95bf85a7cceb416ba7c15c8cae838fd4": {
     "model_module": "@jupyter-widgets/base",
     "model_module_version": "1.2.0",
     "model_name": "LayoutModel",
     "state": {
      "_model_module": "@jupyter-widgets/base",
      "_model_module_version": "1.2.0",
      "_model_name": "LayoutModel",
      "_view_count": null,
      "_view_module": "@jupyter-widgets/base",
      "_view_module_version": "1.2.0",
      "_view_name": "LayoutView",
      "align_content": null,
      "align_items": null,
      "align_self": null,
      "border": null,
      "bottom": null,
      "display": null,
      "flex": null,
      "flex_flow": null,
      "grid_area": null,
      "grid_auto_columns": null,
      "grid_auto_flow": null,
      "grid_auto_rows": null,
      "grid_column": null,
      "grid_gap": null,
      "grid_row": null,
      "grid_template_areas": null,
      "grid_template_columns": null,
      "grid_template_rows": null,
      "height": null,
      "justify_content": null,
      "justify_items": null,
      "left": null,
      "margin": null,
      "max_height": null,
      "max_width": null,
      "min_height": null,
      "min_width": null,
      "object_fit": null,
      "object_position": null,
      "order": null,
      "overflow": null,
      "overflow_x": null,
      "overflow_y": null,
      "padding": null,
      "right": null,
      "top": null,
      "visibility": null,
      "width": null
     }
    },
    "97f0964944664fcebdc42a34cd7a41e7": {
     "model_module": "@jupyter-widgets/controls",
     "model_module_version": "1.5.0",
     "model_name": "HTMLModel",
     "state": {
      "_dom_classes": [],
      "_model_module": "@jupyter-widgets/controls",
      "_model_module_version": "1.5.0",
      "_model_name": "HTMLModel",
      "_view_count": null,
      "_view_module": "@jupyter-widgets/controls",
      "_view_module_version": "1.5.0",
      "_view_name": "HTMLView",
      "description": "",
      "description_tooltip": null,
      "layout": "IPY_MODEL_41892eb009ca49f9b3636f69bdd1d799",
      "placeholder": "​",
      "style": "IPY_MODEL_3cde3147248c4c238b8e9438dc8d87ac",
      "value": " 659/659 [00:00&lt;00:00, 43.6kB/s]"
     }
    },
    "9d589973ad2d405d9b17c28fccb80c86": {
     "model_module": "@jupyter-widgets/base",
     "model_module_version": "1.2.0",
     "model_name": "LayoutModel",
     "state": {
      "_model_module": "@jupyter-widgets/base",
      "_model_module_version": "1.2.0",
      "_model_name": "LayoutModel",
      "_view_count": null,
      "_view_module": "@jupyter-widgets/base",
      "_view_module_version": "1.2.0",
      "_view_name": "LayoutView",
      "align_content": null,
      "align_items": null,
      "align_self": null,
      "border": null,
      "bottom": null,
      "display": null,
      "flex": null,
      "flex_flow": null,
      "grid_area": null,
      "grid_auto_columns": null,
      "grid_auto_flow": null,
      "grid_auto_rows": null,
      "grid_column": null,
      "grid_gap": null,
      "grid_row": null,
      "grid_template_areas": null,
      "grid_template_columns": null,
      "grid_template_rows": null,
      "height": null,
      "justify_content": null,
      "justify_items": null,
      "left": null,
      "margin": null,
      "max_height": null,
      "max_width": null,
      "min_height": null,
      "min_width": null,
      "object_fit": null,
      "object_position": null,
      "order": null,
      "overflow": null,
      "overflow_x": null,
      "overflow_y": null,
      "padding": null,
      "right": null,
      "top": null,
      "visibility": null,
      "width": null
     }
    },
    "a1daa6dbe6fe414a8b9ed384aa82f05d": {
     "model_module": "@jupyter-widgets/controls",
     "model_module_version": "1.5.0",
     "model_name": "HTMLModel",
     "state": {
      "_dom_classes": [],
      "_model_module": "@jupyter-widgets/controls",
      "_model_module_version": "1.5.0",
      "_model_name": "HTMLModel",
      "_view_count": null,
      "_view_module": "@jupyter-widgets/controls",
      "_view_module_version": "1.5.0",
      "_view_name": "HTMLView",
      "description": "",
      "description_tooltip": null,
      "layout": "IPY_MODEL_ace87bca4c4f466880323a21a9ad901b",
      "placeholder": "​",
      "style": "IPY_MODEL_e45a8d4fccb04388bf04155e4f49bc64",
      "value": "Downloading spiece.model: 100%"
     }
    },
    "a4c49c235f0f4ab89844f37d6fba876f": {
     "model_module": "@jupyter-widgets/controls",
     "model_module_version": "1.5.0",
     "model_name": "HTMLModel",
     "state": {
      "_dom_classes": [],
      "_model_module": "@jupyter-widgets/controls",
      "_model_module_version": "1.5.0",
      "_model_name": "HTMLModel",
      "_view_count": null,
      "_view_module": "@jupyter-widgets/controls",
      "_view_module_version": "1.5.0",
      "_view_name": "HTMLView",
      "description": "",
      "description_tooltip": null,
      "layout": "IPY_MODEL_16a7a9005cd64c179f1c276adf8ce92b",
      "placeholder": "​",
      "style": "IPY_MODEL_c47eb9504cee498cbb68658126bc459e",
      "value": " 1.79k/1.79k [00:00&lt;00:00, 112kB/s]"
     }
    },
    "ace87bca4c4f466880323a21a9ad901b": {
     "model_module": "@jupyter-widgets/base",
     "model_module_version": "1.2.0",
     "model_name": "LayoutModel",
     "state": {
      "_model_module": "@jupyter-widgets/base",
      "_model_module_version": "1.2.0",
      "_model_name": "LayoutModel",
      "_view_count": null,
      "_view_module": "@jupyter-widgets/base",
      "_view_module_version": "1.2.0",
      "_view_name": "LayoutView",
      "align_content": null,
      "align_items": null,
      "align_self": null,
      "border": null,
      "bottom": null,
      "display": null,
      "flex": null,
      "flex_flow": null,
      "grid_area": null,
      "grid_auto_columns": null,
      "grid_auto_flow": null,
      "grid_auto_rows": null,
      "grid_column": null,
      "grid_gap": null,
      "grid_row": null,
      "grid_template_areas": null,
      "grid_template_columns": null,
      "grid_template_rows": null,
      "height": null,
      "justify_content": null,
      "justify_items": null,
      "left": null,
      "margin": null,
      "max_height": null,
      "max_width": null,
      "min_height": null,
      "min_width": null,
      "object_fit": null,
      "object_position": null,
      "order": null,
      "overflow": null,
      "overflow_x": null,
      "overflow_y": null,
      "padding": null,
      "right": null,
      "top": null,
      "visibility": null,
      "width": null
     }
    },
    "bfeffb7bed42438cb0ab7c3cf7f57f1a": {
     "model_module": "@jupyter-widgets/controls",
     "model_module_version": "1.5.0",
     "model_name": "DescriptionStyleModel",
     "state": {
      "_model_module": "@jupyter-widgets/controls",
      "_model_module_version": "1.5.0",
      "_model_name": "DescriptionStyleModel",
      "_view_count": null,
      "_view_module": "@jupyter-widgets/base",
      "_view_module_version": "1.2.0",
      "_view_name": "StyleView",
      "description_width": ""
     }
    },
    "c0612152e40c4cd2bd38b517632d59ee": {
     "model_module": "@jupyter-widgets/controls",
     "model_module_version": "1.5.0",
     "model_name": "HTMLModel",
     "state": {
      "_dom_classes": [],
      "_model_module": "@jupyter-widgets/controls",
      "_model_module_version": "1.5.0",
      "_model_name": "HTMLModel",
      "_view_count": null,
      "_view_module": "@jupyter-widgets/controls",
      "_view_module_version": "1.5.0",
      "_view_name": "HTMLView",
      "description": "",
      "description_tooltip": null,
      "layout": "IPY_MODEL_0a5f91de066d4dbdbbe95b3ccb21ef96",
      "placeholder": "​",
      "style": "IPY_MODEL_4e8d27bfd8c04f33a83af27a219bf7f0",
      "value": "Downloading (…)cial_tokens_map.json: 100%"
     }
    },
    "c1334f0a64ec4de58fe90b6d2b847e4d": {
     "model_module": "@jupyter-widgets/controls",
     "model_module_version": "1.5.0",
     "model_name": "FloatProgressModel",
     "state": {
      "_dom_classes": [],
      "_model_module": "@jupyter-widgets/controls",
      "_model_module_version": "1.5.0",
      "_model_name": "FloatProgressModel",
      "_view_count": null,
      "_view_module": "@jupyter-widgets/controls",
      "_view_module_version": "1.5.0",
      "_view_name": "ProgressView",
      "bar_style": "success",
      "description": "",
      "description_tooltip": null,
      "layout": "IPY_MODEL_24de232a5c4b41e5a4597ce4b390afa9",
      "max": 990441433,
      "min": 0,
      "orientation": "horizontal",
      "style": "IPY_MODEL_60f4053eb2e64ee7b99e34856849fe13",
      "value": 990441433
     }
    },
    "c3f05bce46a7443c85ede8030f79aa01": {
     "model_module": "@jupyter-widgets/controls",
     "model_module_version": "1.5.0",
     "model_name": "HTMLModel",
     "state": {
      "_dom_classes": [],
      "_model_module": "@jupyter-widgets/controls",
      "_model_module_version": "1.5.0",
      "_model_name": "HTMLModel",
      "_view_count": null,
      "_view_module": "@jupyter-widgets/controls",
      "_view_module_version": "1.5.0",
      "_view_name": "HTMLView",
      "description": "",
      "description_tooltip": null,
      "layout": "IPY_MODEL_e2b8e8f0d29d4d238103712a1372c340",
      "placeholder": "​",
      "style": "IPY_MODEL_6081d0ff5b9c4c28af370374bba3a2b4",
      "value": "Downloading (…)okenizer_config.json: 100%"
     }
    },
    "c47eb9504cee498cbb68658126bc459e": {
     "model_module": "@jupyter-widgets/controls",
     "model_module_version": "1.5.0",
     "model_name": "DescriptionStyleModel",
     "state": {
      "_model_module": "@jupyter-widgets/controls",
      "_model_module_version": "1.5.0",
      "_model_name": "DescriptionStyleModel",
      "_view_count": null,
      "_view_module": "@jupyter-widgets/base",
      "_view_module_version": "1.2.0",
      "_view_name": "StyleView",
      "description_width": ""
     }
    },
    "c7b941f2bf814639a62a3b8903f21c68": {
     "model_module": "@jupyter-widgets/controls",
     "model_module_version": "1.5.0",
     "model_name": "HBoxModel",
     "state": {
      "_dom_classes": [],
      "_model_module": "@jupyter-widgets/controls",
      "_model_module_version": "1.5.0",
      "_model_name": "HBoxModel",
      "_view_count": null,
      "_view_module": "@jupyter-widgets/controls",
      "_view_module_version": "1.5.0",
      "_view_name": "HBoxView",
      "box_style": "",
      "children": [
       "IPY_MODEL_a1daa6dbe6fe414a8b9ed384aa82f05d",
       "IPY_MODEL_94650dcd62994071a45e388e81f04a01",
       "IPY_MODEL_2ce3344c75ed4c3ab4e991aa5911b523"
      ],
      "layout": "IPY_MODEL_4409a1910b2944918c04c1978978b591"
     }
    },
    "c7eaa8b14d1c41469c55103cab62b27d": {
     "model_module": "@jupyter-widgets/base",
     "model_module_version": "1.2.0",
     "model_name": "LayoutModel",
     "state": {
      "_model_module": "@jupyter-widgets/base",
      "_model_module_version": "1.2.0",
      "_model_name": "LayoutModel",
      "_view_count": null,
      "_view_module": "@jupyter-widgets/base",
      "_view_module_version": "1.2.0",
      "_view_name": "LayoutView",
      "align_content": null,
      "align_items": null,
      "align_self": null,
      "border": null,
      "bottom": null,
      "display": null,
      "flex": null,
      "flex_flow": null,
      "grid_area": null,
      "grid_auto_columns": null,
      "grid_auto_flow": null,
      "grid_auto_rows": null,
      "grid_column": null,
      "grid_gap": null,
      "grid_row": null,
      "grid_template_areas": null,
      "grid_template_columns": null,
      "grid_template_rows": null,
      "height": null,
      "justify_content": null,
      "justify_items": null,
      "left": null,
      "margin": null,
      "max_height": null,
      "max_width": null,
      "min_height": null,
      "min_width": null,
      "object_fit": null,
      "object_position": null,
      "order": null,
      "overflow": null,
      "overflow_x": null,
      "overflow_y": null,
      "padding": null,
      "right": null,
      "top": null,
      "visibility": null,
      "width": null
     }
    },
    "c92c428e20a14614912f396845f34962": {
     "model_module": "@jupyter-widgets/controls",
     "model_module_version": "1.5.0",
     "model_name": "HBoxModel",
     "state": {
      "_dom_classes": [],
      "_model_module": "@jupyter-widgets/controls",
      "_model_module_version": "1.5.0",
      "_model_name": "HBoxModel",
      "_view_count": null,
      "_view_module": "@jupyter-widgets/controls",
      "_view_module_version": "1.5.0",
      "_view_name": "HBoxView",
      "box_style": "",
      "children": [
       "IPY_MODEL_57309b1f666447bd9a3644d0d5c4d5dc",
       "IPY_MODEL_c1334f0a64ec4de58fe90b6d2b847e4d",
       "IPY_MODEL_2faea6c65bc54477b9d48b2da67f5949"
      ],
      "layout": "IPY_MODEL_874d35a9c95f40cdbea203da7508ce03"
     }
    },
    "cbaa32e5e0ad4b0aa1fb5cc257eab12f": {
     "model_module": "@jupyter-widgets/base",
     "model_module_version": "1.2.0",
     "model_name": "LayoutModel",
     "state": {
      "_model_module": "@jupyter-widgets/base",
      "_model_module_version": "1.2.0",
      "_model_name": "LayoutModel",
      "_view_count": null,
      "_view_module": "@jupyter-widgets/base",
      "_view_module_version": "1.2.0",
      "_view_name": "LayoutView",
      "align_content": null,
      "align_items": null,
      "align_self": null,
      "border": null,
      "bottom": null,
      "display": null,
      "flex": null,
      "flex_flow": null,
      "grid_area": null,
      "grid_auto_columns": null,
      "grid_auto_flow": null,
      "grid_auto_rows": null,
      "grid_column": null,
      "grid_gap": null,
      "grid_row": null,
      "grid_template_areas": null,
      "grid_template_columns": null,
      "grid_template_rows": null,
      "height": null,
      "justify_content": null,
      "justify_items": null,
      "left": null,
      "margin": null,
      "max_height": null,
      "max_width": null,
      "min_height": null,
      "min_width": null,
      "object_fit": null,
      "object_position": null,
      "order": null,
      "overflow": null,
      "overflow_x": null,
      "overflow_y": null,
      "padding": null,
      "right": null,
      "top": null,
      "visibility": null,
      "width": null
     }
    },
    "d9ef045cba1646c297e5c6ff91679c10": {
     "model_module": "@jupyter-widgets/base",
     "model_module_version": "1.2.0",
     "model_name": "LayoutModel",
     "state": {
      "_model_module": "@jupyter-widgets/base",
      "_model_module_version": "1.2.0",
      "_model_name": "LayoutModel",
      "_view_count": null,
      "_view_module": "@jupyter-widgets/base",
      "_view_module_version": "1.2.0",
      "_view_name": "LayoutView",
      "align_content": null,
      "align_items": null,
      "align_self": null,
      "border": null,
      "bottom": null,
      "display": null,
      "flex": null,
      "flex_flow": null,
      "grid_area": null,
      "grid_auto_columns": null,
      "grid_auto_flow": null,
      "grid_auto_rows": null,
      "grid_column": null,
      "grid_gap": null,
      "grid_row": null,
      "grid_template_areas": null,
      "grid_template_columns": null,
      "grid_template_rows": null,
      "height": null,
      "justify_content": null,
      "justify_items": null,
      "left": null,
      "margin": null,
      "max_height": null,
      "max_width": null,
      "min_height": null,
      "min_width": null,
      "object_fit": null,
      "object_position": null,
      "order": null,
      "overflow": null,
      "overflow_x": null,
      "overflow_y": null,
      "padding": null,
      "right": null,
      "top": null,
      "visibility": null,
      "width": null
     }
    },
    "e2b8e8f0d29d4d238103712a1372c340": {
     "model_module": "@jupyter-widgets/base",
     "model_module_version": "1.2.0",
     "model_name": "LayoutModel",
     "state": {
      "_model_module": "@jupyter-widgets/base",
      "_model_module_version": "1.2.0",
      "_model_name": "LayoutModel",
      "_view_count": null,
      "_view_module": "@jupyter-widgets/base",
      "_view_module_version": "1.2.0",
      "_view_name": "LayoutView",
      "align_content": null,
      "align_items": null,
      "align_self": null,
      "border": null,
      "bottom": null,
      "display": null,
      "flex": null,
      "flex_flow": null,
      "grid_area": null,
      "grid_auto_columns": null,
      "grid_auto_flow": null,
      "grid_auto_rows": null,
      "grid_column": null,
      "grid_gap": null,
      "grid_row": null,
      "grid_template_areas": null,
      "grid_template_columns": null,
      "grid_template_rows": null,
      "height": null,
      "justify_content": null,
      "justify_items": null,
      "left": null,
      "margin": null,
      "max_height": null,
      "max_width": null,
      "min_height": null,
      "min_width": null,
      "object_fit": null,
      "object_position": null,
      "order": null,
      "overflow": null,
      "overflow_x": null,
      "overflow_y": null,
      "padding": null,
      "right": null,
      "top": null,
      "visibility": null,
      "width": null
     }
    },
    "e45a8d4fccb04388bf04155e4f49bc64": {
     "model_module": "@jupyter-widgets/controls",
     "model_module_version": "1.5.0",
     "model_name": "DescriptionStyleModel",
     "state": {
      "_model_module": "@jupyter-widgets/controls",
      "_model_module_version": "1.5.0",
      "_model_name": "DescriptionStyleModel",
      "_view_count": null,
      "_view_module": "@jupyter-widgets/base",
      "_view_module_version": "1.2.0",
      "_view_name": "StyleView",
      "description_width": ""
     }
    },
    "f371402b5b014b3eb360ccc0f0c074bb": {
     "model_module": "@jupyter-widgets/controls",
     "model_module_version": "1.5.0",
     "model_name": "DescriptionStyleModel",
     "state": {
      "_model_module": "@jupyter-widgets/controls",
      "_model_module_version": "1.5.0",
      "_model_name": "DescriptionStyleModel",
      "_view_count": null,
      "_view_module": "@jupyter-widgets/base",
      "_view_module_version": "1.2.0",
      "_view_name": "StyleView",
      "description_width": ""
     }
    },
    "f47289e29afa4e78bdbacf29f821676a": {
     "model_module": "@jupyter-widgets/controls",
     "model_module_version": "1.5.0",
     "model_name": "FloatProgressModel",
     "state": {
      "_dom_classes": [],
      "_model_module": "@jupyter-widgets/controls",
      "_model_module_version": "1.5.0",
      "_model_name": "FloatProgressModel",
      "_view_count": null,
      "_view_module": "@jupyter-widgets/controls",
      "_view_module_version": "1.5.0",
      "_view_name": "ProgressView",
      "bar_style": "success",
      "description": "",
      "description_tooltip": null,
      "layout": "IPY_MODEL_9d589973ad2d405d9b17c28fccb80c86",
      "max": 659,
      "min": 0,
      "orientation": "horizontal",
      "style": "IPY_MODEL_fe2d6e688a3a4fbb945fdd896145c03f",
      "value": 659
     }
    },
    "fc7d2d6dda7146268684ee71209c325f": {
     "model_module": "@jupyter-widgets/controls",
     "model_module_version": "1.5.0",
     "model_name": "DescriptionStyleModel",
     "state": {
      "_model_module": "@jupyter-widgets/controls",
      "_model_module_version": "1.5.0",
      "_model_name": "DescriptionStyleModel",
      "_view_count": null,
      "_view_module": "@jupyter-widgets/base",
      "_view_module_version": "1.2.0",
      "_view_name": "StyleView",
      "description_width": ""
     }
    },
    "fe2d6e688a3a4fbb945fdd896145c03f": {
     "model_module": "@jupyter-widgets/controls",
     "model_module_version": "1.5.0",
     "model_name": "ProgressStyleModel",
     "state": {
      "_model_module": "@jupyter-widgets/controls",
      "_model_module_version": "1.5.0",
      "_model_name": "ProgressStyleModel",
      "_view_count": null,
      "_view_module": "@jupyter-widgets/base",
      "_view_module_version": "1.2.0",
      "_view_name": "StyleView",
      "bar_color": null,
      "description_width": ""
     }
    },
    "ffffe1c55ad14b5ca669ec7f6599a9c4": {
     "model_module": "@jupyter-widgets/base",
     "model_module_version": "1.2.0",
     "model_name": "LayoutModel",
     "state": {
      "_model_module": "@jupyter-widgets/base",
      "_model_module_version": "1.2.0",
      "_model_name": "LayoutModel",
      "_view_count": null,
      "_view_module": "@jupyter-widgets/base",
      "_view_module_version": "1.2.0",
      "_view_name": "LayoutView",
      "align_content": null,
      "align_items": null,
      "align_self": null,
      "border": null,
      "bottom": null,
      "display": null,
      "flex": null,
      "flex_flow": null,
      "grid_area": null,
      "grid_auto_columns": null,
      "grid_auto_flow": null,
      "grid_auto_rows": null,
      "grid_column": null,
      "grid_gap": null,
      "grid_row": null,
      "grid_template_areas": null,
      "grid_template_columns": null,
      "grid_template_rows": null,
      "height": null,
      "justify_content": null,
      "justify_items": null,
      "left": null,
      "margin": null,
      "max_height": null,
      "max_width": null,
      "min_height": null,
      "min_width": null,
      "object_fit": null,
      "object_position": null,
      "order": null,
      "overflow": null,
      "overflow_x": null,
      "overflow_y": null,
      "padding": null,
      "right": null,
      "top": null,
      "visibility": null,
      "width": null
     }
    }
   }
  }
 },
 "nbformat": 4,
 "nbformat_minor": 4
}
